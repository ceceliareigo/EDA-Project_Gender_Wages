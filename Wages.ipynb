{
 "cells": [
  {
   "cell_type": "markdown",
   "metadata": {},
   "source": [
    "## Exploratroy Data Analysis on hourly wage, gender, age, martial status,etc of Employees"
   ]
  },
  {
   "cell_type": "markdown",
   "metadata": {},
   "source": [
    "### 1. Load a dataset from CSV file\n",
    "\n",
    "The CSV File that I have chosen for my Project is \"wage.csv\".\n",
    "\n",
    "1) I have used the Pandas package because it is essential for Data Manipulation and is considered as the **most powerful open source data analysis tool**.\n",
    "\n",
    "2) Matplotlib has been imported as it a **great visualization tool for plotting graphs**.\n",
    "\n",
    "3) Seaborn has been imported to create **visually appealing statistical graphs**.\n",
    "\n",
    "4) Numpy has been imported into the file for further numerical calculations as it **highly advantegous for complex calculations etc**.\n",
    "\n",
    "5) The read_csv command is used to data from a CSV file into the Data Frame.\n",
    "\n",
    "\n"
   ]
  },
  {
   "cell_type": "code",
   "execution_count": 1,
   "metadata": {},
   "outputs": [
    {
     "data": {
      "text/html": [
       "<div>\n",
       "<style scoped>\n",
       "    .dataframe tbody tr th:only-of-type {\n",
       "        vertical-align: middle;\n",
       "    }\n",
       "\n",
       "    .dataframe tbody tr th {\n",
       "        vertical-align: top;\n",
       "    }\n",
       "\n",
       "    .dataframe thead th {\n",
       "        text-align: right;\n",
       "    }\n",
       "</style>\n",
       "<table border=\"1\" class=\"dataframe\">\n",
       "  <thead>\n",
       "    <tr style=\"text-align: right;\">\n",
       "      <th></th>\n",
       "      <th>married</th>\n",
       "      <th>hourly_wage</th>\n",
       "      <th>years_in_education</th>\n",
       "      <th>years_in_employment</th>\n",
       "      <th>num_dependents</th>\n",
       "      <th>gender</th>\n",
       "      <th>race</th>\n",
       "    </tr>\n",
       "  </thead>\n",
       "  <tbody>\n",
       "    <tr>\n",
       "      <th>0</th>\n",
       "      <td>1.0</td>\n",
       "      <td>3.24</td>\n",
       "      <td>12.0</td>\n",
       "      <td>2.0</td>\n",
       "      <td>3.0</td>\n",
       "      <td>female</td>\n",
       "      <td>white</td>\n",
       "    </tr>\n",
       "    <tr>\n",
       "      <th>1</th>\n",
       "      <td>0.0</td>\n",
       "      <td>3.00</td>\n",
       "      <td>11.0</td>\n",
       "      <td>0.0</td>\n",
       "      <td>2.0</td>\n",
       "      <td>male</td>\n",
       "      <td>white</td>\n",
       "    </tr>\n",
       "    <tr>\n",
       "      <th>2</th>\n",
       "      <td>1.0</td>\n",
       "      <td>6.00</td>\n",
       "      <td>8.0</td>\n",
       "      <td>28.0</td>\n",
       "      <td>0.0</td>\n",
       "      <td>male</td>\n",
       "      <td>white</td>\n",
       "    </tr>\n",
       "    <tr>\n",
       "      <th>3</th>\n",
       "      <td>1.0</td>\n",
       "      <td>5.30</td>\n",
       "      <td>12.0</td>\n",
       "      <td>2.0</td>\n",
       "      <td>1.0</td>\n",
       "      <td>male</td>\n",
       "      <td>white</td>\n",
       "    </tr>\n",
       "    <tr>\n",
       "      <th>4</th>\n",
       "      <td>1.0</td>\n",
       "      <td>8.75</td>\n",
       "      <td>16.0</td>\n",
       "      <td>8.0</td>\n",
       "      <td>0.0</td>\n",
       "      <td>male</td>\n",
       "      <td>white</td>\n",
       "    </tr>\n",
       "  </tbody>\n",
       "</table>\n",
       "</div>"
      ],
      "text/plain": [
       "   married  hourly_wage  years_in_education  years_in_employment  \\\n",
       "0      1.0         3.24                12.0                  2.0   \n",
       "1      0.0         3.00                11.0                  0.0   \n",
       "2      1.0         6.00                 8.0                 28.0   \n",
       "3      1.0         5.30                12.0                  2.0   \n",
       "4      1.0         8.75                16.0                  8.0   \n",
       "\n",
       "   num_dependents  gender   race  \n",
       "0             3.0  female  white  \n",
       "1             2.0    male  white  \n",
       "2             0.0    male  white  \n",
       "3             1.0    male  white  \n",
       "4             0.0    male  white  "
      ]
     },
     "execution_count": 1,
     "metadata": {},
     "output_type": "execute_result"
    }
   ],
   "source": [
    "    import pandas as pd #import pandas library\n",
    "    import matplotlib.pyplot as plt #matplotlib for visualization\n",
    "    import seaborn as sns #seaborn for statistical grpahs\n",
    "    from scipy import stats #high-level Python commands \n",
    "    import numpy as np #works with arrays\n",
    "    %matplotlib inline\n",
    "    df = pd.read_csv(\"wage.csv\") # read csv file \n",
    "    df.head() #present the first five rows using head function"
   ]
  },
  {
   "cell_type": "markdown",
   "metadata": {},
   "source": [
    "### 2. Display descriptive statistics about the dataset\n",
    "\n",
    "Descriptive Statistics is performed in order to summarize  and interpret the information in the data set 'Wages'.\n",
    "\n",
    "The **describe function is used to achieve this data and measures the summary statistics**"
   ]
  },
  {
   "cell_type": "code",
   "execution_count": 2,
   "metadata": {},
   "outputs": [
    {
     "data": {
      "text/html": [
       "<div>\n",
       "<style scoped>\n",
       "    .dataframe tbody tr th:only-of-type {\n",
       "        vertical-align: middle;\n",
       "    }\n",
       "\n",
       "    .dataframe tbody tr th {\n",
       "        vertical-align: top;\n",
       "    }\n",
       "\n",
       "    .dataframe thead th {\n",
       "        text-align: right;\n",
       "    }\n",
       "</style>\n",
       "<table border=\"1\" class=\"dataframe\">\n",
       "  <thead>\n",
       "    <tr style=\"text-align: right;\">\n",
       "      <th></th>\n",
       "      <th>married</th>\n",
       "      <th>hourly_wage</th>\n",
       "      <th>years_in_education</th>\n",
       "      <th>years_in_employment</th>\n",
       "      <th>num_dependents</th>\n",
       "    </tr>\n",
       "  </thead>\n",
       "  <tbody>\n",
       "    <tr>\n",
       "      <th>count</th>\n",
       "      <td>522.000000</td>\n",
       "      <td>517.000000</td>\n",
       "      <td>522.000000</td>\n",
       "      <td>519.000000</td>\n",
       "      <td>520.000000</td>\n",
       "    </tr>\n",
       "    <tr>\n",
       "      <th>mean</th>\n",
       "      <td>0.609195</td>\n",
       "      <td>5.917737</td>\n",
       "      <td>12.557471</td>\n",
       "      <td>5.152216</td>\n",
       "      <td>1.044231</td>\n",
       "    </tr>\n",
       "    <tr>\n",
       "      <th>std</th>\n",
       "      <td>0.488399</td>\n",
       "      <td>3.699058</td>\n",
       "      <td>2.757219</td>\n",
       "      <td>7.257133</td>\n",
       "      <td>1.258484</td>\n",
       "    </tr>\n",
       "    <tr>\n",
       "      <th>min</th>\n",
       "      <td>0.000000</td>\n",
       "      <td>0.530000</td>\n",
       "      <td>0.000000</td>\n",
       "      <td>0.000000</td>\n",
       "      <td>0.000000</td>\n",
       "    </tr>\n",
       "    <tr>\n",
       "      <th>25%</th>\n",
       "      <td>0.000000</td>\n",
       "      <td>3.350000</td>\n",
       "      <td>12.000000</td>\n",
       "      <td>0.000000</td>\n",
       "      <td>0.000000</td>\n",
       "    </tr>\n",
       "    <tr>\n",
       "      <th>50%</th>\n",
       "      <td>1.000000</td>\n",
       "      <td>4.670000</td>\n",
       "      <td>12.000000</td>\n",
       "      <td>2.000000</td>\n",
       "      <td>1.000000</td>\n",
       "    </tr>\n",
       "    <tr>\n",
       "      <th>75%</th>\n",
       "      <td>1.000000</td>\n",
       "      <td>6.880000</td>\n",
       "      <td>14.000000</td>\n",
       "      <td>7.000000</td>\n",
       "      <td>2.000000</td>\n",
       "    </tr>\n",
       "    <tr>\n",
       "      <th>max</th>\n",
       "      <td>1.000000</td>\n",
       "      <td>24.980000</td>\n",
       "      <td>18.000000</td>\n",
       "      <td>44.000000</td>\n",
       "      <td>6.000000</td>\n",
       "    </tr>\n",
       "  </tbody>\n",
       "</table>\n",
       "</div>"
      ],
      "text/plain": [
       "          married  hourly_wage  years_in_education  years_in_employment  \\\n",
       "count  522.000000   517.000000          522.000000           519.000000   \n",
       "mean     0.609195     5.917737           12.557471             5.152216   \n",
       "std      0.488399     3.699058            2.757219             7.257133   \n",
       "min      0.000000     0.530000            0.000000             0.000000   \n",
       "25%      0.000000     3.350000           12.000000             0.000000   \n",
       "50%      1.000000     4.670000           12.000000             2.000000   \n",
       "75%      1.000000     6.880000           14.000000             7.000000   \n",
       "max      1.000000    24.980000           18.000000            44.000000   \n",
       "\n",
       "       num_dependents  \n",
       "count      520.000000  \n",
       "mean         1.044231  \n",
       "std          1.258484  \n",
       "min          0.000000  \n",
       "25%          0.000000  \n",
       "50%          1.000000  \n",
       "75%          2.000000  \n",
       "max          6.000000  "
      ]
     },
     "execution_count": 2,
     "metadata": {},
     "output_type": "execute_result"
    }
   ],
   "source": [
    "df.describe() #Run the describe function"
   ]
  },
  {
   "cell_type": "markdown",
   "metadata": {},
   "source": [
    "From the above table, we can interpret some of the important statistics of the dataset such as:\n",
    "\n",
    "1) The **average  hourly wage of all employees is around 5.9**.\n",
    "\n",
    "2) The **average number of years spent in education is around 12.5 years**.\n",
    "\n",
    "3) The **average number of years spent in employment is around 5.15 years**."
   ]
  },
  {
   "cell_type": "markdown",
   "metadata": {},
   "source": [
    "### 3. Build a graph visualizing (some of) the numerical variables of the dataset\n",
    "\n",
    "Visualization is a great way to understand our data in depth and is one of the most important steps of exploratory data analysis. "
   ]
  },
  {
   "cell_type": "markdown",
   "metadata": {},
   "source": [
    "#### Bar Graph to display the hourly wage of genders on the basis of their race"
   ]
  },
  {
   "cell_type": "code",
   "execution_count": 3,
   "metadata": {},
   "outputs": [
    {
     "data": {
      "image/png": "[encoded data removed]",
      "text/plain": [
       "<Figure size 432x288 with 1 Axes>"
      ]
     },
     "metadata": {
      "needs_background": "light"
     },
     "output_type": "display_data"
    }
   ],
   "source": [
    "hue_colour={\"white\":\"cyan\",\"nonwhite\":\"red\"} #Specify hue colours\n",
    "sns.barplot(x='gender',y='hourly_wage',hue ='race',data=df,palette=hue_colour) #assign variables\n",
    "plt.show() #display the graph"
   ]
  },
  {
   "cell_type": "markdown",
   "metadata": {},
   "source": [
    "1)The barplot above clearly depcits that the hourly wage of female employees are much lower than that of male employees.\n",
    "\n",
    "2)The white people earn more than non white people in both the categories."
   ]
  },
  {
   "cell_type": "markdown",
   "metadata": {},
   "source": [
    "#### Box plot to visualize gender and hourly_wage\n"
   ]
  },
  {
   "cell_type": "code",
   "execution_count": 4,
   "metadata": {},
   "outputs": [
    {
     "data": {
      "image/png": "[encoded data removed]",
      "text/plain": [
       "<Figure size 432x288 with 1 Axes>"
      ]
     },
     "metadata": {},
     "output_type": "display_data"
    }
   ],
   "source": [
    "# libraries & dataset\n",
    "sns.set(style=\"darkgrid\")\n",
    " \n",
    "# usual boxplot, plotted on a matplotlib.axes object named ax\n",
    "ax = sns.boxplot(x='gender', y='hourly_wage', data=df)\n",
    " \n",
    "# adding transparency to colors\n",
    "for patch in ax.artists:\n",
    " r, g, b, a = patch.get_facecolor()\n",
    " patch.set_facecolor((r, g, b, .3))\n",
    "\n",
    "plt.show()"
   ]
  },
  {
   "cell_type": "markdown",
   "metadata": {},
   "source": [
    "From the above graph, we can interpret that:\n",
    "\n",
    "1)The boxplot above shows that there are certain outliers in the dataset which are formed outside the whiskers . \n",
    "\n",
    "2)The median line of the male box plot lies outside the female box plot, which means there is likely to be a difference between the two genders in terms of hourly wage.\n",
    "\n",
    "3)The female box plot displays the data as positively skewed (skewed to the right)\n",
    "\n"
   ]
  },
  {
   "cell_type": "markdown",
   "metadata": {},
   "source": [
    "#### Jointplot to visualize distributions of hourly wage and years in employment"
   ]
  },
  {
   "cell_type": "code",
   "execution_count": 5,
   "metadata": {},
   "outputs": [
    {
     "data": {
      "image/png": "[encoded data removed]",
      "text/plain": [
       "<Figure size 432x432 with 3 Axes>"
      ]
     },
     "metadata": {},
     "output_type": "display_data"
    }
   ],
   "source": [
    "\n",
    "# Custom the histogram:\n",
    "sns.jointplot(x=df[\"hourly_wage\"], y=df[\"years_in_employment\"])\n",
    "\n",
    "plt.show()"
   ]
  },
  {
   "cell_type": "markdown",
   "metadata": {},
   "source": [
    "The joint plot above shows the relationships of hourly wage and the years in employment and  distributions of these data are  on the same plot\n",
    "\n",
    "We can interpret that:\n",
    "\n",
    "If the years spent in employment is less, the hourly wage is also low.\n"
   ]
  },
  {
   "cell_type": "markdown",
   "metadata": {},
   "source": [
    "#### Scatterplot to visualize the number of years spent in education and employment "
   ]
  },
  {
   "cell_type": "code",
   "execution_count": 6,
   "metadata": {},
   "outputs": [
    {
     "data": {
      "image/png": "[encoded data removed]",
      "text/plain": [
       "<Figure size 432x288 with 1 Axes>"
      ]
     },
     "metadata": {},
     "output_type": "display_data"
    }
   ],
   "source": [
    "\n",
    "sns.scatterplot (x= \"years_in_education\",y=\"years_in_employment\",data=df,hue=\"married\") #Customize the scatterplot\n",
    "plt.show()"
   ]
  },
  {
   "cell_type": "markdown",
   "metadata": {},
   "source": [
    "From the above scatterplot, we can interpret that:\n",
    "1) Most of the people are married\n",
    "\n",
    "2) Some of the married people have spent more number of years in employment compared to the unmarried people.\n",
    "\n",
    "3) Overall, some of  the unmarried people have spent most number of years in education rather than employment."
   ]
  },
  {
   "cell_type": "markdown",
   "metadata": {},
   "source": [
    "### 4. Check if any records in the data have any missing values; handle the missing data as appropriate(interpolate missing values, delete records with missing values, etc)."
   ]
  },
  {
   "cell_type": "markdown",
   "metadata": {},
   "source": [
    "Missing values are very important to interpret as they are used to successfully manage the data once removed.\n",
    "\n",
    "\n",
    "The first step here is to check how many missing values are under each column"
   ]
  },
  {
   "cell_type": "code",
   "execution_count": 7,
   "metadata": {},
   "outputs": [
    {
     "data": {
      "text/plain": [
       "married                 3\n",
       "hourly_wage             8\n",
       "years_in_education      3\n",
       "years_in_employment     6\n",
       "num_dependents          5\n",
       "gender                  4\n",
       "race                   10\n",
       "dtype: int64"
      ]
     },
     "execution_count": 7,
     "metadata": {},
     "output_type": "execute_result"
    }
   ],
   "source": [
    "df.isnull().sum() #Number of missing values for each column"
   ]
  },
  {
   "cell_type": "markdown",
   "metadata": {},
   "source": [
    "The function below is used to understand the total number of missing values in the whole dataset"
   ]
  },
  {
   "cell_type": "code",
   "execution_count": 8,
   "metadata": {},
   "outputs": [
    {
     "data": {
      "text/plain": [
       "39"
      ]
     },
     "execution_count": 8,
     "metadata": {},
     "output_type": "execute_result"
    }
   ],
   "source": [
    "df.isnull().sum().sum() # Total number of missing values"
   ]
  },
  {
   "cell_type": "markdown",
   "metadata": {},
   "source": [
    "I have used interpolate method below to project the missing data and have interpreted a mean between the values before and after the missing data"
   ]
  },
  {
   "cell_type": "code",
   "execution_count": 9,
   "metadata": {},
   "outputs": [
    {
     "name": "stdout",
     "output_type": "stream",
     "text": [
      "0       3.24\n",
      "1       3.00\n",
      "2       6.00\n",
      "3       5.30\n",
      "4       8.75\n",
      "       ...  \n",
      "520    15.00\n",
      "521     2.27\n",
      "522     4.67\n",
      "523    11.56\n",
      "524    11.56\n",
      "Name: hourly_wage, Length: 525, dtype: float64\n"
     ]
    }
   ],
   "source": [
    "df['hourly_wage'].interpolate(method ='linear',direction ='forward',inplace =True) #Interpolate Method function performed\n",
    "print(df['hourly_wage'])"
   ]
  },
  {
   "cell_type": "code",
   "execution_count": 10,
   "metadata": {},
   "outputs": [
    {
     "data": {
      "text/plain": [
       "0"
      ]
     },
     "execution_count": 10,
     "metadata": {},
     "output_type": "execute_result"
    }
   ],
   "source": [
    "df['hourly_wage'].isnull().sum() #Check if there are any null values for the column 'hourly_wage'"
   ]
  },
  {
   "cell_type": "code",
   "execution_count": 11,
   "metadata": {},
   "outputs": [
    {
     "data": {
      "text/plain": [
       "married                522\n",
       "hourly_wage            525\n",
       "years_in_education     522\n",
       "years_in_employment    519\n",
       "num_dependents         520\n",
       "gender                 521\n",
       "race                   515\n",
       "dtype: int64"
      ]
     },
     "execution_count": 11,
     "metadata": {},
     "output_type": "execute_result"
    }
   ],
   "source": [
    "df.count() #Count all the records in the dataset"
   ]
  },
  {
   "cell_type": "markdown",
   "metadata": {},
   "source": [
    "The  function used below is used to **drop the missing values** for all the columns in order to have equal number of records in the dataset"
   ]
  },
  {
   "cell_type": "code",
   "execution_count": 12,
   "metadata": {},
   "outputs": [],
   "source": [
    "df.dropna(inplace=True,axis=\"rows\") #Drop the null values"
   ]
  },
  {
   "cell_type": "code",
   "execution_count": 13,
   "metadata": {},
   "outputs": [
    {
     "data": {
      "text/plain": [
       "married                495\n",
       "hourly_wage            495\n",
       "years_in_education     495\n",
       "years_in_employment    495\n",
       "num_dependents         495\n",
       "gender                 495\n",
       "race                   495\n",
       "dtype: int64"
      ]
     },
     "execution_count": 13,
     "metadata": {},
     "output_type": "execute_result"
    }
   ],
   "source": [
    "df.count() #Check the number of records for each column in the dataset"
   ]
  },
  {
   "cell_type": "markdown",
   "metadata": {},
   "source": [
    "Finally, I checked the total number of missing values in the whole dataset.\n",
    "\n"
   ]
  },
  {
   "cell_type": "code",
   "execution_count": 14,
   "metadata": {},
   "outputs": [
    {
     "data": {
      "text/plain": [
       "0"
      ]
     },
     "execution_count": 14,
     "metadata": {},
     "output_type": "execute_result"
    }
   ],
   "source": [
    "df.isnull().sum().sum() #Check if there are any missing values in the dataset."
   ]
  },
  {
   "cell_type": "markdown",
   "metadata": {},
   "source": [
    "This dataset is now converted into a very convenient format, now the dataset and analysis can be processed further to produce best results and output."
   ]
  },
  {
   "cell_type": "markdown",
   "metadata": {},
   "source": [
    "### 5. Display the distribution of (some of) numerical variables as histograms. Provide verbal comments on the graph.\n"
   ]
  },
  {
   "cell_type": "code",
   "execution_count": 15,
   "metadata": {},
   "outputs": [
    {
     "data": {
      "image/png": "[encoded data removed]",
      "text/plain": [
       "<Figure size 864x864 with 4 Axes>"
      ]
     },
     "metadata": {},
     "output_type": "display_data"
    }
   ],
   "source": [
    "sns.set(style='darkgrid')  #Set the seaborn style method\n",
    "fig,axs = plt.subplots(2,2, figsize=(12,12)) #Updating the subplots figure size\n",
    "sns.histplot(data=df, x='hourly_wage',color ='skyblue',hue = \"gender\",ax =axs[0,0]) #Creation of first histogram\n",
    "sns.histplot(data=df, x='years_in_education',kde=True,color ='olive',hue =\"race\",ax =axs[0,1])#Creation of second histogram\n",
    "sns.histplot(data=df, x='years_in_employment',kde=True,color ='gold', hue = \"race\", ax =axs[1,0])#Creation of third histogram\n",
    "sns.histplot(data=df, x='num_dependents',kde=True,color ='teal', ax =axs[1,1])#Creation of fourth histogram\n",
    "\n",
    "plt.show()"
   ]
  },
  {
   "cell_type": "markdown",
   "metadata": {},
   "source": [
    "1.The first histogram displays the hourly wage of males and females. We can interpret that the hourly wage of females is much lower than their male counterparts. The hourly wage for females is most likey between 4 - 7 pounds an hour.\n",
    "\n",
    "2.The second histogram displays the years in education of white and non-whites. It is evident from the histogram that the number of white people have spent more years in education and most of them have studied for around 12.5 years\n",
    "\n",
    "3.The third historgam interprets the number of years spent in employment by whites and non whites. It is evident that white people have spent more number of years in employment.\n",
    "\n",
    "4.The fourth histogram displays the occurences of the number of dependents in the data and is evident that there are less number of dependents for males and females."
   ]
  },
  {
   "cell_type": "markdown",
   "metadata": {},
   "source": [
    "### 6. Display unique values of a categorical variable.\n"
   ]
  },
  {
   "cell_type": "markdown",
   "metadata": {},
   "source": [
    "The .value_counts() function extracts the unique instanced from each column.\n",
    "\n",
    "\n",
    "This function is a part of the data exploration process which is used in order to gain inisights of certain variables from the datset. \n",
    "\n",
    "The categorical variables in Wages dataset are 'Married', 'gender' and 'race' under the Wages dataset."
   ]
  },
  {
   "cell_type": "code",
   "execution_count": 16,
   "metadata": {},
   "outputs": [
    {
     "data": {
      "text/plain": [
       "1.0    300\n",
       "0.0    195\n",
       "Name: married, dtype: int64"
      ]
     },
     "execution_count": 16,
     "metadata": {},
     "output_type": "execute_result"
    }
   ],
   "source": [
    "df['married'].value_counts() #Function to display unique occurences under the marriage column\n"
   ]
  },
  {
   "cell_type": "code",
   "execution_count": 17,
   "metadata": {},
   "outputs": [
    {
     "data": {
      "text/plain": [
       "male      258\n",
       "female    237\n",
       "Name: gender, dtype: int64"
      ]
     },
     "execution_count": 17,
     "metadata": {},
     "output_type": "execute_result"
    }
   ],
   "source": [
    "df['gender'].value_counts()  #Function to display unique occurences under the gender column\n"
   ]
  },
  {
   "cell_type": "code",
   "execution_count": 18,
   "metadata": {},
   "outputs": [
    {
     "data": {
      "text/plain": [
       "white       442\n",
       "nonwhite     53\n",
       "Name: race, dtype: int64"
      ]
     },
     "execution_count": 18,
     "metadata": {},
     "output_type": "execute_result"
    }
   ],
   "source": [
    "df['race'].value_counts()  #Function to display unique occurences under the race column"
   ]
  },
  {
   "cell_type": "markdown",
   "metadata": {},
   "source": [
    "### 7. Build a contingency table of two potentially related categorical variables. Conduct a statistical test of the independence between the variables. Provide verbal comments on the output.\n"
   ]
  },
  {
   "cell_type": "markdown",
   "metadata": {},
   "source": [
    "To perform a statistical test, it is necessary to frame a contigency table, which shows how often **different categorical variables occur in the dataset and is used outline the relationship between the categorical variables that we are going to test**."
   ]
  },
  {
   "cell_type": "code",
   "execution_count": 19,
   "metadata": {},
   "outputs": [
    {
     "data": {
      "text/html": [
       "<div>\n",
       "<style scoped>\n",
       "    .dataframe tbody tr th:only-of-type {\n",
       "        vertical-align: middle;\n",
       "    }\n",
       "\n",
       "    .dataframe tbody tr th {\n",
       "        vertical-align: top;\n",
       "    }\n",
       "\n",
       "    .dataframe thead th {\n",
       "        text-align: right;\n",
       "    }\n",
       "</style>\n",
       "<table border=\"1\" class=\"dataframe\">\n",
       "  <thead>\n",
       "    <tr style=\"text-align: right;\">\n",
       "      <th>race</th>\n",
       "      <th>nonwhite</th>\n",
       "      <th>white</th>\n",
       "    </tr>\n",
       "    <tr>\n",
       "      <th>gender</th>\n",
       "      <th></th>\n",
       "      <th></th>\n",
       "    </tr>\n",
       "  </thead>\n",
       "  <tbody>\n",
       "    <tr>\n",
       "      <th>female</th>\n",
       "      <td>24</td>\n",
       "      <td>213</td>\n",
       "    </tr>\n",
       "    <tr>\n",
       "      <th>male</th>\n",
       "      <td>29</td>\n",
       "      <td>229</td>\n",
       "    </tr>\n",
       "  </tbody>\n",
       "</table>\n",
       "</div>"
      ],
      "text/plain": [
       "race    nonwhite  white\n",
       "gender                 \n",
       "female        24    213\n",
       "male          29    229"
      ]
     },
     "execution_count": 19,
     "metadata": {},
     "output_type": "execute_result"
    }
   ],
   "source": [
    "data_contigency = pd.crosstab(df['gender'], df['race']) #Cross tab function supplies the two series as arguments\n",
    "data_contigency"
   ]
  },
  {
   "cell_type": "markdown",
   "metadata": {},
   "source": [
    "The contigency table represents the observed frequencies of co-occurences of different values of brand and gender.\n",
    "\n",
    "For eg, The table summarizes the following:\n",
    "\n",
    "1)There are 24 non-white females.\n",
    "\n",
    "2)There are 213 white females.\n",
    "\n",
    "3)There are 29 non-white males.\n",
    "\n",
    "4)There are 229 white males"
   ]
  },
  {
   "cell_type": "markdown",
   "metadata": {},
   "source": [
    "We can visualize the contents of a dataframe as a stacked bar as well."
   ]
  },
  {
   "cell_type": "code",
   "execution_count": 20,
   "metadata": {},
   "outputs": [
    {
     "data": {
      "text/plain": [
       "<AxesSubplot:xlabel='gender'>"
      ]
     },
     "execution_count": 20,
     "metadata": {},
     "output_type": "execute_result"
    },
    {
     "data": {
      "image/png": "[encoded data removed]",
      "text/plain": [
       "<Figure size 432x288 with 1 Axes>"
      ]
     },
     "metadata": {},
     "output_type": "display_data"
    }
   ],
   "source": [
    "data_contigency.plot(kind = 'bar', stacked =True, rot =0) #Stacked Bar function for contigency table"
   ]
  },
  {
   "cell_type": "markdown",
   "metadata": {},
   "source": [
    "From the above graph, we can interpret that there are  **more number of white males and females**."
   ]
  },
  {
   "cell_type": "markdown",
   "metadata": {},
   "source": [
    "### Chi-square Test of Independence"
   ]
  },
  {
   "cell_type": "markdown",
   "metadata": {},
   "source": [
    "In this project, we are using the chi-square statistical test to regulate if the categorical  variables are independent or not.\n",
    "\n",
    "The null Hypothesis for my dataset will be : There is no relationship between the variables; they are independent.\n",
    "\n",
    "The alternate Hypothesis for my datatset will be : There is relationship between the variables; they are dependent."
   ]
  },
  {
   "cell_type": "code",
   "execution_count": 21,
   "metadata": {},
   "outputs": [
    {
     "name": "stdout",
     "output_type": "stream",
     "text": [
      "p-value: 0.7988507542232299\n"
     ]
    }
   ],
   "source": [
    "chi2, p_val, dof, expected = stats.chi2_contingency(data_contigency) #Chi-square test of independence for contigency table\n",
    "print(f\"p-value: {p_val}\")"
   ]
  },
  {
   "cell_type": "markdown",
   "metadata": {},
   "source": [
    "The p-value is greater than the usual significance value 0.05 . Therefore, **we accept the null hypothesis that there  is no relationship between the genders and race**. \n",
    "\n",
    "In other words, we can say that  number of males and females in the dataset does not help to predict the race of the genders"
   ]
  },
  {
   "cell_type": "markdown",
   "metadata": {},
   "source": [
    "### 8. Retrieve a subset of the data based on two or more criteria and present descriptive statistics on the subset. Provide verbal comments on the output."
   ]
  },
  {
   "cell_type": "markdown",
   "metadata": {},
   "source": [
    "The criteria that have considered are  non white males where the number of dependents are greater than 1 in the dataset.\n",
    "\n",
    "The descriptive statistics  function used here will summarize details about the criteria considered in the datset."
   ]
  },
  {
   "cell_type": "code",
   "execution_count": 22,
   "metadata": {},
   "outputs": [
    {
     "data": {
      "text/html": [
       "<div>\n",
       "<style scoped>\n",
       "    .dataframe tbody tr th:only-of-type {\n",
       "        vertical-align: middle;\n",
       "    }\n",
       "\n",
       "    .dataframe tbody tr th {\n",
       "        vertical-align: top;\n",
       "    }\n",
       "\n",
       "    .dataframe thead th {\n",
       "        text-align: right;\n",
       "    }\n",
       "</style>\n",
       "<table border=\"1\" class=\"dataframe\">\n",
       "  <thead>\n",
       "    <tr style=\"text-align: right;\">\n",
       "      <th></th>\n",
       "      <th>married</th>\n",
       "      <th>hourly_wage</th>\n",
       "      <th>years_in_education</th>\n",
       "      <th>years_in_employment</th>\n",
       "      <th>num_dependents</th>\n",
       "    </tr>\n",
       "  </thead>\n",
       "  <tbody>\n",
       "    <tr>\n",
       "      <th>count</th>\n",
       "      <td>18.000000</td>\n",
       "      <td>18.000000</td>\n",
       "      <td>18.000000</td>\n",
       "      <td>18.000000</td>\n",
       "      <td>18.000000</td>\n",
       "    </tr>\n",
       "    <tr>\n",
       "      <th>mean</th>\n",
       "      <td>0.888889</td>\n",
       "      <td>7.524444</td>\n",
       "      <td>12.666667</td>\n",
       "      <td>5.166667</td>\n",
       "      <td>1.888889</td>\n",
       "    </tr>\n",
       "    <tr>\n",
       "      <th>std</th>\n",
       "      <td>0.323381</td>\n",
       "      <td>3.919142</td>\n",
       "      <td>3.143621</td>\n",
       "      <td>5.607243</td>\n",
       "      <td>1.450715</td>\n",
       "    </tr>\n",
       "    <tr>\n",
       "      <th>min</th>\n",
       "      <td>0.000000</td>\n",
       "      <td>2.380000</td>\n",
       "      <td>8.000000</td>\n",
       "      <td>0.000000</td>\n",
       "      <td>1.000000</td>\n",
       "    </tr>\n",
       "    <tr>\n",
       "      <th>25%</th>\n",
       "      <td>1.000000</td>\n",
       "      <td>4.535000</td>\n",
       "      <td>10.250000</td>\n",
       "      <td>2.000000</td>\n",
       "      <td>1.000000</td>\n",
       "    </tr>\n",
       "    <tr>\n",
       "      <th>50%</th>\n",
       "      <td>1.000000</td>\n",
       "      <td>6.355000</td>\n",
       "      <td>12.000000</td>\n",
       "      <td>3.000000</td>\n",
       "      <td>1.000000</td>\n",
       "    </tr>\n",
       "    <tr>\n",
       "      <th>75%</th>\n",
       "      <td>1.000000</td>\n",
       "      <td>9.962500</td>\n",
       "      <td>15.500000</td>\n",
       "      <td>7.000000</td>\n",
       "      <td>2.000000</td>\n",
       "    </tr>\n",
       "    <tr>\n",
       "      <th>max</th>\n",
       "      <td>1.000000</td>\n",
       "      <td>15.000000</td>\n",
       "      <td>18.000000</td>\n",
       "      <td>24.000000</td>\n",
       "      <td>6.000000</td>\n",
       "    </tr>\n",
       "  </tbody>\n",
       "</table>\n",
       "</div>"
      ],
      "text/plain": [
       "         married  hourly_wage  years_in_education  years_in_employment  \\\n",
       "count  18.000000    18.000000           18.000000            18.000000   \n",
       "mean    0.888889     7.524444           12.666667             5.166667   \n",
       "std     0.323381     3.919142            3.143621             5.607243   \n",
       "min     0.000000     2.380000            8.000000             0.000000   \n",
       "25%     1.000000     4.535000           10.250000             2.000000   \n",
       "50%     1.000000     6.355000           12.000000             3.000000   \n",
       "75%     1.000000     9.962500           15.500000             7.000000   \n",
       "max     1.000000    15.000000           18.000000            24.000000   \n",
       "\n",
       "       num_dependents  \n",
       "count       18.000000  \n",
       "mean         1.888889  \n",
       "std          1.450715  \n",
       "min          1.000000  \n",
       "25%          1.000000  \n",
       "50%          1.000000  \n",
       "75%          2.000000  \n",
       "max          6.000000  "
      ]
     },
     "execution_count": 22,
     "metadata": {},
     "output_type": "execute_result"
    }
   ],
   "source": [
    "df[(df.gender =='male') & (df.race == 'nonwhite') & (df.num_dependents>=1)].describe()\n",
    "#Describe function used to present summary statistics for non white males"
   ]
  },
  {
   "cell_type": "code",
   "execution_count": 23,
   "metadata": {},
   "outputs": [
    {
     "data": {
      "text/html": [
       "<div>\n",
       "<style scoped>\n",
       "    .dataframe tbody tr th:only-of-type {\n",
       "        vertical-align: middle;\n",
       "    }\n",
       "\n",
       "    .dataframe tbody tr th {\n",
       "        vertical-align: top;\n",
       "    }\n",
       "\n",
       "    .dataframe thead th {\n",
       "        text-align: right;\n",
       "    }\n",
       "</style>\n",
       "<table border=\"1\" class=\"dataframe\">\n",
       "  <thead>\n",
       "    <tr style=\"text-align: right;\">\n",
       "      <th></th>\n",
       "      <th>married</th>\n",
       "      <th>hourly_wage</th>\n",
       "      <th>years_in_education</th>\n",
       "      <th>years_in_employment</th>\n",
       "      <th>num_dependents</th>\n",
       "    </tr>\n",
       "  </thead>\n",
       "  <tbody>\n",
       "    <tr>\n",
       "      <th>count</th>\n",
       "      <td>107.000000</td>\n",
       "      <td>107.000000</td>\n",
       "      <td>107.000000</td>\n",
       "      <td>107.000000</td>\n",
       "      <td>107.000000</td>\n",
       "    </tr>\n",
       "    <tr>\n",
       "      <th>mean</th>\n",
       "      <td>0.831776</td>\n",
       "      <td>7.759813</td>\n",
       "      <td>12.654206</td>\n",
       "      <td>7.018692</td>\n",
       "      <td>2.121495</td>\n",
       "    </tr>\n",
       "    <tr>\n",
       "      <th>std</th>\n",
       "      <td>0.375826</td>\n",
       "      <td>4.965366</td>\n",
       "      <td>2.933550</td>\n",
       "      <td>7.349729</td>\n",
       "      <td>1.096394</td>\n",
       "    </tr>\n",
       "    <tr>\n",
       "      <th>min</th>\n",
       "      <td>0.000000</td>\n",
       "      <td>1.670000</td>\n",
       "      <td>4.000000</td>\n",
       "      <td>0.000000</td>\n",
       "      <td>1.000000</td>\n",
       "    </tr>\n",
       "    <tr>\n",
       "      <th>25%</th>\n",
       "      <td>1.000000</td>\n",
       "      <td>3.975000</td>\n",
       "      <td>12.000000</td>\n",
       "      <td>1.000000</td>\n",
       "      <td>1.000000</td>\n",
       "    </tr>\n",
       "    <tr>\n",
       "      <th>50%</th>\n",
       "      <td>1.000000</td>\n",
       "      <td>6.290000</td>\n",
       "      <td>12.000000</td>\n",
       "      <td>5.000000</td>\n",
       "      <td>2.000000</td>\n",
       "    </tr>\n",
       "    <tr>\n",
       "      <th>75%</th>\n",
       "      <td>1.000000</td>\n",
       "      <td>9.110000</td>\n",
       "      <td>15.000000</td>\n",
       "      <td>11.000000</td>\n",
       "      <td>3.000000</td>\n",
       "    </tr>\n",
       "    <tr>\n",
       "      <th>max</th>\n",
       "      <td>1.000000</td>\n",
       "      <td>22.860000</td>\n",
       "      <td>18.000000</td>\n",
       "      <td>28.000000</td>\n",
       "      <td>6.000000</td>\n",
       "    </tr>\n",
       "  </tbody>\n",
       "</table>\n",
       "</div>"
      ],
      "text/plain": [
       "          married  hourly_wage  years_in_education  years_in_employment  \\\n",
       "count  107.000000   107.000000          107.000000           107.000000   \n",
       "mean     0.831776     7.759813           12.654206             7.018692   \n",
       "std      0.375826     4.965366            2.933550             7.349729   \n",
       "min      0.000000     1.670000            4.000000             0.000000   \n",
       "25%      1.000000     3.975000           12.000000             1.000000   \n",
       "50%      1.000000     6.290000           12.000000             5.000000   \n",
       "75%      1.000000     9.110000           15.000000            11.000000   \n",
       "max      1.000000    22.860000           18.000000            28.000000   \n",
       "\n",
       "       num_dependents  \n",
       "count      107.000000  \n",
       "mean         2.121495  \n",
       "std          1.096394  \n",
       "min          1.000000  \n",
       "25%          1.000000  \n",
       "50%          2.000000  \n",
       "75%          3.000000  \n",
       "max          6.000000  "
      ]
     },
     "execution_count": 23,
     "metadata": {},
     "output_type": "execute_result"
    }
   ],
   "source": [
    "df[(df.gender =='male') & (df.race == 'white') & (df.num_dependents>=1)].describe()\n",
    "#Describe function used to present summary statistics for white males"
   ]
  },
  {
   "cell_type": "markdown",
   "metadata": {},
   "source": [
    "\n",
    "Non White Males have an average hourly wage of 7.52 which is good considering the number of years they have spent in education.\n",
    "\n",
    "There is not much of a difference between the hourly wage for non white males and white males , however, white males still earn more than non white males.\n",
    "\n",
    "But white males have spent more number of years spent in employment that non white males and number of years spent in education is considerably same for both."
   ]
  },
  {
   "cell_type": "markdown",
   "metadata": {},
   "source": [
    "### 9. Conduct a statistical test of the significance of the difference between the means of two subsets of the data. Provide verbal comments."
   ]
  },
  {
   "cell_type": "markdown",
   "metadata": {},
   "source": [
    "To conduct a statisitcal test of the significance of the difference between the means of two subsets of the data, Independent two samples t-test which is an inferential statistical test determines if there is a significance difference between the means of two populations from the dataset.\n",
    "\n",
    "From my dataset, I am going to first consider 2 subsets which are  **(i) female and hourly wage (ii) male and hourly wage**."
   ]
  },
  {
   "cell_type": "code",
   "execution_count": 24,
   "metadata": {},
   "outputs": [
    {
     "data": {
      "text/plain": [
       "4.675126582278481"
      ]
     },
     "execution_count": 24,
     "metadata": {},
     "output_type": "execute_result"
    }
   ],
   "source": [
    "# Subset female and hourly wage\n",
    "female_wages = df['hourly_wage'][(df.gender == 'female')]\n",
    "female_wages.mean()"
   ]
  },
  {
   "cell_type": "code",
   "execution_count": 25,
   "metadata": {},
   "outputs": [
    {
     "data": {
      "text/plain": [
       "7.072984496124034"
      ]
     },
     "execution_count": 25,
     "metadata": {},
     "output_type": "execute_result"
    }
   ],
   "source": [
    "#Subset female and years in employment\n",
    "male_wages = df['hourly_wage'][(df.gender == 'male')]\n",
    "    \n",
    "male_wages.mean()\n"
   ]
  },
  {
   "cell_type": "markdown",
   "metadata": {},
   "source": [
    "### Formulate the null hypothesis and the alternative hypothesis\n"
   ]
  },
  {
   "cell_type": "markdown",
   "metadata": {},
   "source": [
    "Our null hypothesis is that either the difference between the two population means equals 0, i.e. there is no difference between them. \n",
    "\n",
    "The alternative hypothesis is that there is difference between the hourly wage of male and females\n",
    "\n",
    "H0: μ = 0\n",
    "\n",
    "Ha: μ ≠ 0\n",
    "\n",
    "Significance Level = 0.05"
   ]
  },
  {
   "cell_type": "code",
   "execution_count": 26,
   "metadata": {},
   "outputs": [
    {
     "name": "stdout",
     "output_type": "stream",
     "text": [
      "t-value: -7.766653604855619, p-value: 4.705097588922886e-14\n"
     ]
    }
   ],
   "source": [
    "t_val, p_val = stats.ttest_ind(female_wages, male_wages) #Compute the independent 2 sample t-test\n",
    "\n",
    "print(f\"t-value: {t_val}, p-value: {p_val}\")"
   ]
  },
  {
   "cell_type": "markdown",
   "metadata": {},
   "source": [
    "The p-value is smaller than the significance level ( 𝛼=0.05 ), i.e., the difference between the two means falls inside the rejection area.\n",
    "\n",
    "Therefore we reject the null hypothesis that the mean of female's population wages is not different from the male's population wage in years. \n",
    "\n",
    "In  other words, we can conclude  that the male employees earn higher than female employees.\n",
    "\n",
    "\n"
   ]
  },
  {
   "cell_type": "markdown",
   "metadata": {},
   "source": [
    "###  10. Create pivot tables, i.e., create a table that groups the data by a certain categorical variable and displays summarized information for each group (e.g. the mean or sum within the group). Provide verbal comments."
   ]
  },
  {
   "cell_type": "code",
   "execution_count": 27,
   "metadata": {},
   "outputs": [
    {
     "data": {
      "text/html": [
       "<div>\n",
       "<style scoped>\n",
       "    .dataframe tbody tr th:only-of-type {\n",
       "        vertical-align: middle;\n",
       "    }\n",
       "\n",
       "    .dataframe tbody tr th {\n",
       "        vertical-align: top;\n",
       "    }\n",
       "\n",
       "    .dataframe thead th {\n",
       "        text-align: right;\n",
       "    }\n",
       "</style>\n",
       "<table border=\"1\" class=\"dataframe\">\n",
       "  <thead>\n",
       "    <tr style=\"text-align: right;\">\n",
       "      <th></th>\n",
       "      <th></th>\n",
       "      <th>hourly_wage</th>\n",
       "      <th>num_dependents</th>\n",
       "      <th>years_in_education</th>\n",
       "    </tr>\n",
       "    <tr>\n",
       "      <th>gender</th>\n",
       "      <th>race</th>\n",
       "      <th></th>\n",
       "      <th></th>\n",
       "      <th></th>\n",
       "    </tr>\n",
       "  </thead>\n",
       "  <tbody>\n",
       "    <tr>\n",
       "      <th rowspan=\"2\" valign=\"top\">female</th>\n",
       "      <th>nonwhite</th>\n",
       "      <td>4.796458</td>\n",
       "      <td>1.416667</td>\n",
       "      <td>12.375000</td>\n",
       "    </tr>\n",
       "    <tr>\n",
       "      <th>white</th>\n",
       "      <td>4.661455</td>\n",
       "      <td>1.004695</td>\n",
       "      <td>12.314554</td>\n",
       "    </tr>\n",
       "    <tr>\n",
       "      <th rowspan=\"2\" valign=\"top\">male</th>\n",
       "      <th>nonwhite</th>\n",
       "      <td>6.700345</td>\n",
       "      <td>1.172414</td>\n",
       "      <td>11.517241</td>\n",
       "    </tr>\n",
       "    <tr>\n",
       "      <th>white</th>\n",
       "      <td>7.120175</td>\n",
       "      <td>0.991266</td>\n",
       "      <td>12.969432</td>\n",
       "    </tr>\n",
       "  </tbody>\n",
       "</table>\n",
       "</div>"
      ],
      "text/plain": [
       "                 hourly_wage  num_dependents  years_in_education\n",
       "gender race                                                     \n",
       "female nonwhite     4.796458        1.416667           12.375000\n",
       "       white        4.661455        1.004695           12.314554\n",
       "male   nonwhite     6.700345        1.172414           11.517241\n",
       "       white        7.120175        0.991266           12.969432"
      ]
     },
     "execution_count": 27,
     "metadata": {},
     "output_type": "execute_result"
    }
   ],
   "source": [
    "hourly_wage = pd.pivot_table(df,index =['gender','race'],values=['hourly_wage', 'years_in_education','num_dependents'],aggfunc =np.mean)\n",
    "#Pivot table to organize the data structure by certain categorical variables\n",
    "hourly_wage "
   ]
  },
  {
   "cell_type": "markdown",
   "metadata": {},
   "source": [
    "(i) The hourly wage for white males is higher than non white males and females and it can also be interpreted that white males spent most number of years in education and they have the lowest average number of dependents amongst all which helps them to work and concentrate  on themselves better.\n",
    "\n",
    "(ii) The average hourly wage for nonwhite males are higher than females even though they spent less number of years in education than females.\n",
    "\n",
    "(iii) The hourly wage of all the females regardless of their colour are generally less than all the males in the dataset even if they spent more number of years in education that non white males.\n",
    "\n",
    "(iv) We can conclude that there is a **slight gender pay gap** where males earn higher than females.\n",
    "\n",
    "\n",
    "\n"
   ]
  },
  {
   "cell_type": "markdown",
   "metadata": {},
   "source": [
    "### 11. Implement a linear regression model and interpret its output."
   ]
  },
  {
   "cell_type": "markdown",
   "metadata": {},
   "source": [
    "### Simple Linear Regression "
   ]
  },
  {
   "cell_type": "markdown",
   "metadata": {},
   "source": [
    "Linear regression is used to observe how one variable is dependent on other variables to forecast a model.\n"
   ]
  },
  {
   "cell_type": "code",
   "execution_count": 28,
   "metadata": {},
   "outputs": [],
   "source": [
    "# Import the libraries required for simple linear regression\n",
    "import pandas as pd\n",
    "import statsmodels.api as sm"
   ]
  },
  {
   "cell_type": "markdown",
   "metadata": {},
   "source": [
    "Bokeh is used in order to plot figures "
   ]
  },
  {
   "cell_type": "code",
   "execution_count": 29,
   "metadata": {},
   "outputs": [
    {
     "data": {
      "text/html": [
       "\n",
       "    <div class=\"bk-root\">\n",
       "        <a href=\"https://bokeh.org\" target=\"_blank\" class=\"bk-logo bk-logo-small bk-logo-notebook\"></a>\n",
       "        <span id=\"1001\">Loading BokehJS ...</span>\n",
       "    </div>"
      ]
     },
     "metadata": {},
     "output_type": "display_data"
    },
    {
     "data": {
      "application/javascript": [
       "\n",
       "(function(root) {\n",
       "  function now() {\n",
       "    return new Date();\n",
       "  }\n",
       "\n",
       "  var force = true;\n",
       "\n",
       "  if (typeof root._bokeh_onload_callbacks === \"undefined\" || force === true) {\n",
       "    root._bokeh_onload_callbacks = [];\n",
       "    root._bokeh_is_loading = undefined;\n",
       "  }\n",
       "\n",
       "  var JS_MIME_TYPE = 'application/javascript';\n",
       "  var HTML_MIME_TYPE = 'text/html';\n",
       "  var EXEC_MIME_TYPE = 'application/vnd.bokehjs_exec.v0+json';\n",
       "  var CLASS_NAME = 'output_bokeh rendered_html';\n",
       "\n",
       "  /**\n",
       "   * Render data to the DOM node\n",
       "   */\n",
       "  function render(props, node) {\n",
       "    var script = document.createElement(\"script\");\n",
       "    node.appendChild(script);\n",
       "  }\n",
       "\n",
       "  /**\n",
       "   * Handle when an output is cleared or removed\n",
       "   */\n",
       "  function handleClearOutput(event, handle) {\n",
       "    var cell = handle.cell;\n",
       "\n",
       "    var id = cell.output_area._bokeh_element_id;\n",
       "    var server_id = cell.output_area._bokeh_server_id;\n",
       "    // Clean up Bokeh references\n",
       "    if (id != null && id in Bokeh.index) {\n",
       "      Bokeh.index[id].model.document.clear();\n",
       "      delete Bokeh.index[id];\n",
       "    }\n",
       "\n",
       "    if (server_id !== undefined) {\n",
       "      // Clean up Bokeh references\n",
       "      var cmd = \"from bokeh.io.state import curstate; print(curstate().uuid_to_server['\" + server_id + \"'].get_sessions()[0].document.roots[0]._id)\";\n",
       "      cell.notebook.kernel.execute(cmd, {\n",
       "        iopub: {\n",
       "          output: function(msg) {\n",
       "            var id = msg.content.text.trim();\n",
       "            if (id in Bokeh.index) {\n",
       "              Bokeh.index[id].model.document.clear();\n",
       "              delete Bokeh.index[id];\n",
       "            }\n",
       "          }\n",
       "        }\n",
       "      });\n",
       "      // Destroy server and session\n",
       "      var cmd = \"import bokeh.io.notebook as ion; ion.destroy_server('\" + server_id + \"')\";\n",
       "      cell.notebook.kernel.execute(cmd);\n",
       "    }\n",
       "  }\n",
       "\n",
       "  /**\n",
       "   * Handle when a new output is added\n",
       "   */\n",
       "  function handleAddOutput(event, handle) {\n",
       "    var output_area = handle.output_area;\n",
       "    var output = handle.output;\n",
       "\n",
       "    // limit handleAddOutput to display_data with EXEC_MIME_TYPE content only\n",
       "    if ((output.output_type != \"display_data\") || (!output.data.hasOwnProperty(EXEC_MIME_TYPE))) {\n",
       "      return\n",
       "    }\n",
       "\n",
       "    var toinsert = output_area.element.find(\".\" + CLASS_NAME.split(' ')[0]);\n",
       "\n",
       "    if (output.metadata[EXEC_MIME_TYPE][\"id\"] !== undefined) {\n",
       "      toinsert[toinsert.length - 1].firstChild.textContent = output.data[JS_MIME_TYPE];\n",
       "      // store reference to embed id on output_area\n",
       "      output_area._bokeh_element_id = output.metadata[EXEC_MIME_TYPE][\"id\"];\n",
       "    }\n",
       "    if (output.metadata[EXEC_MIME_TYPE][\"server_id\"] !== undefined) {\n",
       "      var bk_div = document.createElement(\"div\");\n",
       "      bk_div.innerHTML = output.data[HTML_MIME_TYPE];\n",
       "      var script_attrs = bk_div.children[0].attributes;\n",
       "      for (var i = 0; i < script_attrs.length; i++) {\n",
       "        toinsert[toinsert.length - 1].firstChild.setAttribute(script_attrs[i].name, script_attrs[i].value);\n",
       "        toinsert[toinsert.length - 1].firstChild.textContent = bk_div.children[0].textContent\n",
       "      }\n",
       "      // store reference to server id on output_area\n",
       "      output_area._bokeh_server_id = output.metadata[EXEC_MIME_TYPE][\"server_id\"];\n",
       "    }\n",
       "  }\n",
       "\n",
       "  function register_renderer(events, OutputArea) {\n",
       "\n",
       "    function append_mime(data, metadata, element) {\n",
       "      // create a DOM node to render to\n",
       "      var toinsert = this.create_output_subarea(\n",
       "        metadata,\n",
       "        CLASS_NAME,\n",
       "        EXEC_MIME_TYPE\n",
       "      );\n",
       "      this.keyboard_manager.register_events(toinsert);\n",
       "      // Render to node\n",
       "      var props = {data: data, metadata: metadata[EXEC_MIME_TYPE]};\n",
       "      render(props, toinsert[toinsert.length - 1]);\n",
       "      element.append(toinsert);\n",
       "      return toinsert\n",
       "    }\n",
       "\n",
       "    /* Handle when an output is cleared or removed */\n",
       "    events.on('clear_output.CodeCell', handleClearOutput);\n",
       "    events.on('delete.Cell', handleClearOutput);\n",
       "\n",
       "    /* Handle when a new output is added */\n",
       "    events.on('output_added.OutputArea', handleAddOutput);\n",
       "\n",
       "    /**\n",
       "     * Register the mime type and append_mime function with output_area\n",
       "     */\n",
       "    OutputArea.prototype.register_mime_type(EXEC_MIME_TYPE, append_mime, {\n",
       "      /* Is output safe? */\n",
       "      safe: true,\n",
       "      /* Index of renderer in `output_area.display_order` */\n",
       "      index: 0\n",
       "    });\n",
       "  }\n",
       "\n",
       "  // register the mime type if in Jupyter Notebook environment and previously unregistered\n",
       "  if (root.Jupyter !== undefined) {\n",
       "    var events = require('base/js/events');\n",
       "    var OutputArea = require('notebook/js/outputarea').OutputArea;\n",
       "\n",
       "    if (OutputArea.prototype.mime_types().indexOf(EXEC_MIME_TYPE) == -1) {\n",
       "      register_renderer(events, OutputArea);\n",
       "    }\n",
       "  }\n",
       "\n",
       "  \n",
       "  if (typeof (root._bokeh_timeout) === \"undefined\" || force === true) {\n",
       "    root._bokeh_timeout = Date.now() + 5000;\n",
       "    root._bokeh_failed_load = false;\n",
       "  }\n",
       "\n",
       "  var NB_LOAD_WARNING = {'data': {'text/html':\n",
       "     \"<div style='background-color: #fdd'>\\n\"+\n",
       "     \"<p>\\n\"+\n",
       "     \"BokehJS does not appear to have successfully loaded. If loading BokehJS from CDN, this \\n\"+\n",
       "     \"may be due to a slow or bad network connection. Possible fixes:\\n\"+\n",
       "     \"</p>\\n\"+\n",
       "     \"<ul>\\n\"+\n",
       "     \"<li>re-rerun `output_notebook()` to attempt to load from CDN again, or</li>\\n\"+\n",
       "     \"<li>use INLINE resources instead, as so:</li>\\n\"+\n",
       "     \"</ul>\\n\"+\n",
       "     \"<code>\\n\"+\n",
       "     \"from bokeh.resources import INLINE\\n\"+\n",
       "     \"output_notebook(resources=INLINE)\\n\"+\n",
       "     \"</code>\\n\"+\n",
       "     \"</div>\"}};\n",
       "\n",
       "  function display_loaded() {\n",
       "    var el = document.getElementById(\"1001\");\n",
       "    if (el != null) {\n",
       "      el.textContent = \"BokehJS is loading...\";\n",
       "    }\n",
       "    if (root.Bokeh !== undefined) {\n",
       "      if (el != null) {\n",
       "        el.textContent = \"BokehJS \" + root.Bokeh.version + \" successfully loaded.\";\n",
       "      }\n",
       "    } else if (Date.now() < root._bokeh_timeout) {\n",
       "      setTimeout(display_loaded, 100)\n",
       "    }\n",
       "  }\n",
       "\n",
       "\n",
       "  function run_callbacks() {\n",
       "    try {\n",
       "      root._bokeh_onload_callbacks.forEach(function(callback) {\n",
       "        if (callback != null)\n",
       "          callback();\n",
       "      });\n",
       "    } finally {\n",
       "      delete root._bokeh_onload_callbacks\n",
       "    }\n",
       "    console.debug(\"Bokeh: all callbacks have finished\");\n",
       "  }\n",
       "\n",
       "  function load_libs(css_urls, js_urls, callback) {\n",
       "    if (css_urls == null) css_urls = [];\n",
       "    if (js_urls == null) js_urls = [];\n",
       "\n",
       "    root._bokeh_onload_callbacks.push(callback);\n",
       "    if (root._bokeh_is_loading > 0) {\n",
       "      console.debug(\"Bokeh: BokehJS is being loaded, scheduling callback at\", now());\n",
       "      return null;\n",
       "    }\n",
       "    if (js_urls == null || js_urls.length === 0) {\n",
       "      run_callbacks();\n",
       "      return null;\n",
       "    }\n",
       "    console.debug(\"Bokeh: BokehJS not loaded, scheduling load and callback at\", now());\n",
       "    root._bokeh_is_loading = css_urls.length + js_urls.length;\n",
       "\n",
       "    function on_load() {\n",
       "      root._bokeh_is_loading--;\n",
       "      if (root._bokeh_is_loading === 0) {\n",
       "        console.debug(\"Bokeh: all BokehJS libraries/stylesheets loaded\");\n",
       "        run_callbacks()\n",
       "      }\n",
       "    }\n",
       "\n",
       "    function on_error() {\n",
       "      console.error(\"failed to load \" + url);\n",
       "    }\n",
       "\n",
       "    for (var i = 0; i < css_urls.length; i++) {\n",
       "      var url = css_urls[i];\n",
       "      const element = document.createElement(\"link\");\n",
       "      element.onload = on_load;\n",
       "      element.onerror = on_error;\n",
       "      element.rel = \"stylesheet\";\n",
       "      element.type = \"text/css\";\n",
       "      element.href = url;\n",
       "      console.debug(\"Bokeh: injecting link tag for BokehJS stylesheet: \", url);\n",
       "      document.body.appendChild(element);\n",
       "    }\n",
       "\n",
       "    const hashes = {\"https://cdn.bokeh.org/bokeh/release/bokeh-2.2.3.min.js\": \"T2yuo9Oe71Cz/I4X9Ac5+gpEa5a8PpJCDlqKYO0CfAuEszu1JrXLl8YugMqYe3sM\", \"https://cdn.bokeh.org/bokeh/release/bokeh-widgets-2.2.3.min.js\": \"98GDGJ0kOMCUMUePhksaQ/GYgB3+NH9h996V88sh3aOiUNX3N+fLXAtry6xctSZ6\", \"https://cdn.bokeh.org/bokeh/release/bokeh-tables-2.2.3.min.js\": \"89bArO+nlbP3sgakeHjCo1JYxYR5wufVgA3IbUvDY+K7w4zyxJqssu7wVnfeKCq8\"};\n",
       "\n",
       "    for (var i = 0; i < js_urls.length; i++) {\n",
       "      var url = js_urls[i];\n",
       "      var element = document.createElement('script');\n",
       "      element.onload = on_load;\n",
       "      element.onerror = on_error;\n",
       "      element.async = false;\n",
       "      element.src = url;\n",
       "      if (url in hashes) {\n",
       "        element.crossOrigin = \"anonymous\";\n",
       "        element.integrity = \"sha384-\" + hashes[url];\n",
       "      }\n",
       "      console.debug(\"Bokeh: injecting script tag for BokehJS library: \", url);\n",
       "      document.head.appendChild(element);\n",
       "    }\n",
       "  };\n",
       "\n",
       "  function inject_raw_css(css) {\n",
       "    const element = document.createElement(\"style\");\n",
       "    element.appendChild(document.createTextNode(css));\n",
       "    document.body.appendChild(element);\n",
       "  }\n",
       "\n",
       "  \n",
       "  var js_urls = [\"https://cdn.bokeh.org/bokeh/release/bokeh-2.2.3.min.js\", \"https://cdn.bokeh.org/bokeh/release/bokeh-widgets-2.2.3.min.js\", \"https://cdn.bokeh.org/bokeh/release/bokeh-tables-2.2.3.min.js\"];\n",
       "  var css_urls = [];\n",
       "  \n",
       "\n",
       "  var inline_js = [\n",
       "    function(Bokeh) {\n",
       "      Bokeh.set_log_level(\"info\");\n",
       "    },\n",
       "    function(Bokeh) {\n",
       "    \n",
       "    \n",
       "    }\n",
       "  ];\n",
       "\n",
       "  function run_inline_js() {\n",
       "    \n",
       "    if (root.Bokeh !== undefined || force === true) {\n",
       "      \n",
       "    for (var i = 0; i < inline_js.length; i++) {\n",
       "      inline_js[i].call(root, root.Bokeh);\n",
       "    }\n",
       "    if (force === true) {\n",
       "        display_loaded();\n",
       "      }} else if (Date.now() < root._bokeh_timeout) {\n",
       "      setTimeout(run_inline_js, 100);\n",
       "    } else if (!root._bokeh_failed_load) {\n",
       "      console.log(\"Bokeh: BokehJS failed to load within specified timeout.\");\n",
       "      root._bokeh_failed_load = true;\n",
       "    } else if (force !== true) {\n",
       "      var cell = $(document.getElementById(\"1001\")).parents('.cell').data().cell;\n",
       "      cell.output_area.append_execute_result(NB_LOAD_WARNING)\n",
       "    }\n",
       "\n",
       "  }\n",
       "\n",
       "  if (root._bokeh_is_loading === 0) {\n",
       "    console.debug(\"Bokeh: BokehJS loaded, going straight to plotting\");\n",
       "    run_inline_js();\n",
       "  } else {\n",
       "    load_libs(css_urls, js_urls, function() {\n",
       "      console.debug(\"Bokeh: BokehJS plotting callback run at\", now());\n",
       "      run_inline_js();\n",
       "    });\n",
       "  }\n",
       "}(window));"
      ],
      "application/vnd.bokehjs_load.v0+json": "\n(function(root) {\n  function now() {\n    return new Date();\n  }\n\n  var force = true;\n\n  if (typeof root._bokeh_onload_callbacks === \"undefined\" || force === true) {\n    root._bokeh_onload_callbacks = [];\n    root._bokeh_is_loading = undefined;\n  }\n\n  \n\n  \n  if (typeof (root._bokeh_timeout) === \"undefined\" || force === true) {\n    root._bokeh_timeout = Date.now() + 5000;\n    root._bokeh_failed_load = false;\n  }\n\n  var NB_LOAD_WARNING = {'data': {'text/html':\n     \"<div style='background-color: #fdd'>\\n\"+\n     \"<p>\\n\"+\n     \"BokehJS does not appear to have successfully loaded. If loading BokehJS from CDN, this \\n\"+\n     \"may be due to a slow or bad network connection. Possible fixes:\\n\"+\n     \"</p>\\n\"+\n     \"<ul>\\n\"+\n     \"<li>re-rerun `output_notebook()` to attempt to load from CDN again, or</li>\\n\"+\n     \"<li>use INLINE resources instead, as so:</li>\\n\"+\n     \"</ul>\\n\"+\n     \"<code>\\n\"+\n     \"from bokeh.resources import INLINE\\n\"+\n     \"output_notebook(resources=INLINE)\\n\"+\n     \"</code>\\n\"+\n     \"</div>\"}};\n\n  function display_loaded() {\n    var el = document.getElementById(\"1001\");\n    if (el != null) {\n      el.textContent = \"BokehJS is loading...\";\n    }\n    if (root.Bokeh !== undefined) {\n      if (el != null) {\n        el.textContent = \"BokehJS \" + root.Bokeh.version + \" successfully loaded.\";\n      }\n    } else if (Date.now() < root._bokeh_timeout) {\n      setTimeout(display_loaded, 100)\n    }\n  }\n\n\n  function run_callbacks() {\n    try {\n      root._bokeh_onload_callbacks.forEach(function(callback) {\n        if (callback != null)\n          callback();\n      });\n    } finally {\n      delete root._bokeh_onload_callbacks\n    }\n    console.debug(\"Bokeh: all callbacks have finished\");\n  }\n\n  function load_libs(css_urls, js_urls, callback) {\n    if (css_urls == null) css_urls = [];\n    if (js_urls == null) js_urls = [];\n\n    root._bokeh_onload_callbacks.push(callback);\n    if (root._bokeh_is_loading > 0) {\n      console.debug(\"Bokeh: BokehJS is being loaded, scheduling callback at\", now());\n      return null;\n    }\n    if (js_urls == null || js_urls.length === 0) {\n      run_callbacks();\n      return null;\n    }\n    console.debug(\"Bokeh: BokehJS not loaded, scheduling load and callback at\", now());\n    root._bokeh_is_loading = css_urls.length + js_urls.length;\n\n    function on_load() {\n      root._bokeh_is_loading--;\n      if (root._bokeh_is_loading === 0) {\n        console.debug(\"Bokeh: all BokehJS libraries/stylesheets loaded\");\n        run_callbacks()\n      }\n    }\n\n    function on_error() {\n      console.error(\"failed to load \" + url);\n    }\n\n    for (var i = 0; i < css_urls.length; i++) {\n      var url = css_urls[i];\n      const element = document.createElement(\"link\");\n      element.onload = on_load;\n      element.onerror = on_error;\n      element.rel = \"stylesheet\";\n      element.type = \"text/css\";\n      element.href = url;\n      console.debug(\"Bokeh: injecting link tag for BokehJS stylesheet: \", url);\n      document.body.appendChild(element);\n    }\n\n    const hashes = {\"https://cdn.bokeh.org/bokeh/release/bokeh-2.2.3.min.js\": \"T2yuo9Oe71Cz/I4X9Ac5+gpEa5a8PpJCDlqKYO0CfAuEszu1JrXLl8YugMqYe3sM\", \"https://cdn.bokeh.org/bokeh/release/bokeh-widgets-2.2.3.min.js\": \"98GDGJ0kOMCUMUePhksaQ/GYgB3+NH9h996V88sh3aOiUNX3N+fLXAtry6xctSZ6\", \"https://cdn.bokeh.org/bokeh/release/bokeh-tables-2.2.3.min.js\": \"89bArO+nlbP3sgakeHjCo1JYxYR5wufVgA3IbUvDY+K7w4zyxJqssu7wVnfeKCq8\"};\n\n    for (var i = 0; i < js_urls.length; i++) {\n      var url = js_urls[i];\n      var element = document.createElement('script');\n      element.onload = on_load;\n      element.onerror = on_error;\n      element.async = false;\n      element.src = url;\n      if (url in hashes) {\n        element.crossOrigin = \"anonymous\";\n        element.integrity = \"sha384-\" + hashes[url];\n      }\n      console.debug(\"Bokeh: injecting script tag for BokehJS library: \", url);\n      document.head.appendChild(element);\n    }\n  };\n\n  function inject_raw_css(css) {\n    const element = document.createElement(\"style\");\n    element.appendChild(document.createTextNode(css));\n    document.body.appendChild(element);\n  }\n\n  \n  var js_urls = [\"https://cdn.bokeh.org/bokeh/release/bokeh-2.2.3.min.js\", \"https://cdn.bokeh.org/bokeh/release/bokeh-widgets-2.2.3.min.js\", \"https://cdn.bokeh.org/bokeh/release/bokeh-tables-2.2.3.min.js\"];\n  var css_urls = [];\n  \n\n  var inline_js = [\n    function(Bokeh) {\n      Bokeh.set_log_level(\"info\");\n    },\n    function(Bokeh) {\n    \n    \n    }\n  ];\n\n  function run_inline_js() {\n    \n    if (root.Bokeh !== undefined || force === true) {\n      \n    for (var i = 0; i < inline_js.length; i++) {\n      inline_js[i].call(root, root.Bokeh);\n    }\n    if (force === true) {\n        display_loaded();\n      }} else if (Date.now() < root._bokeh_timeout) {\n      setTimeout(run_inline_js, 100);\n    } else if (!root._bokeh_failed_load) {\n      console.log(\"Bokeh: BokehJS failed to load within specified timeout.\");\n      root._bokeh_failed_load = true;\n    } else if (force !== true) {\n      var cell = $(document.getElementById(\"1001\")).parents('.cell').data().cell;\n      cell.output_area.append_execute_result(NB_LOAD_WARNING)\n    }\n\n  }\n\n  if (root._bokeh_is_loading === 0) {\n    console.debug(\"Bokeh: BokehJS loaded, going straight to plotting\");\n    run_inline_js();\n  } else {\n    load_libs(css_urls, js_urls, function() {\n      console.debug(\"Bokeh: BokehJS plotting callback run at\", now());\n      run_inline_js();\n    });\n  }\n}(window));"
     },
     "metadata": {},
     "output_type": "display_data"
    }
   ],
   "source": [
    "from bokeh.io import output_notebook\n",
    "output_notebook()\n",
    "\n",
    "from bokeh.plotting import figure\n",
    "from bokeh.io import show"
   ]
  },
  {
   "cell_type": "code",
   "execution_count": 30,
   "metadata": {},
   "outputs": [
    {
     "data": {
      "text/html": [
       "<div>\n",
       "<style scoped>\n",
       "    .dataframe tbody tr th:only-of-type {\n",
       "        vertical-align: middle;\n",
       "    }\n",
       "\n",
       "    .dataframe tbody tr th {\n",
       "        vertical-align: top;\n",
       "    }\n",
       "\n",
       "    .dataframe thead th {\n",
       "        text-align: right;\n",
       "    }\n",
       "</style>\n",
       "<table border=\"1\" class=\"dataframe\">\n",
       "  <thead>\n",
       "    <tr style=\"text-align: right;\">\n",
       "      <th></th>\n",
       "      <th>married</th>\n",
       "      <th>hourly_wage</th>\n",
       "      <th>years_in_education</th>\n",
       "      <th>years_in_employment</th>\n",
       "      <th>num_dependents</th>\n",
       "      <th>gender</th>\n",
       "      <th>race</th>\n",
       "    </tr>\n",
       "  </thead>\n",
       "  <tbody>\n",
       "    <tr>\n",
       "      <th>0</th>\n",
       "      <td>1.0</td>\n",
       "      <td>3.24</td>\n",
       "      <td>12.0</td>\n",
       "      <td>2.0</td>\n",
       "      <td>3.0</td>\n",
       "      <td>female</td>\n",
       "      <td>white</td>\n",
       "    </tr>\n",
       "    <tr>\n",
       "      <th>1</th>\n",
       "      <td>0.0</td>\n",
       "      <td>3.00</td>\n",
       "      <td>11.0</td>\n",
       "      <td>0.0</td>\n",
       "      <td>2.0</td>\n",
       "      <td>male</td>\n",
       "      <td>white</td>\n",
       "    </tr>\n",
       "    <tr>\n",
       "      <th>2</th>\n",
       "      <td>1.0</td>\n",
       "      <td>6.00</td>\n",
       "      <td>8.0</td>\n",
       "      <td>28.0</td>\n",
       "      <td>0.0</td>\n",
       "      <td>male</td>\n",
       "      <td>white</td>\n",
       "    </tr>\n",
       "    <tr>\n",
       "      <th>3</th>\n",
       "      <td>1.0</td>\n",
       "      <td>5.30</td>\n",
       "      <td>12.0</td>\n",
       "      <td>2.0</td>\n",
       "      <td>1.0</td>\n",
       "      <td>male</td>\n",
       "      <td>white</td>\n",
       "    </tr>\n",
       "    <tr>\n",
       "      <th>4</th>\n",
       "      <td>1.0</td>\n",
       "      <td>8.75</td>\n",
       "      <td>16.0</td>\n",
       "      <td>8.0</td>\n",
       "      <td>0.0</td>\n",
       "      <td>male</td>\n",
       "      <td>white</td>\n",
       "    </tr>\n",
       "  </tbody>\n",
       "</table>\n",
       "</div>"
      ],
      "text/plain": [
       "   married  hourly_wage  years_in_education  years_in_employment  \\\n",
       "0      1.0         3.24                12.0                  2.0   \n",
       "1      0.0         3.00                11.0                  0.0   \n",
       "2      1.0         6.00                 8.0                 28.0   \n",
       "3      1.0         5.30                12.0                  2.0   \n",
       "4      1.0         8.75                16.0                  8.0   \n",
       "\n",
       "   num_dependents  gender   race  \n",
       "0             3.0  female  white  \n",
       "1             2.0    male  white  \n",
       "2             0.0    male  white  \n",
       "3             1.0    male  white  \n",
       "4             0.0    male  white  "
      ]
     },
     "execution_count": 30,
     "metadata": {},
     "output_type": "execute_result"
    }
   ],
   "source": [
    "df.head(5)"
   ]
  },
  {
   "cell_type": "markdown",
   "metadata": {},
   "source": [
    "In a simple linear regression model, we’d like to predict the hourly wage  for people  from the average number of years_in_employment. That is, hourly_wage is the dependent variable (Y) and years_in_employment is the independent variable (X).\n",
    "\n",
    "Let's first visualize the relationship between them."
   ]
  },
  {
   "cell_type": "code",
   "execution_count": 31,
   "metadata": {},
   "outputs": [
    {
     "data": {
      "text/html": [
       "\n",
       "\n",
       "\n",
       "\n",
       "\n",
       "\n",
       "  <div class=\"bk-root\" id=\"1c99a582-cabc-4a17-9b48-93d43dd5068d\" data-root-id=\"1002\"></div>\n"
      ]
     },
     "metadata": {},
     "output_type": "display_data"
    },
    {
     "data": {
      "application/javascript": [
       "(function(root) {\n",
       "  function embed_document(root) {\n",
       "    \n",
       "  var docs_json = {\"1e48d018-0b7c-4d62-b39c-ac34b5bbb397\":{\"roots\":{\"references\":[{\"attributes\":{\"below\":[{\"id\":\"1011\"}],\"center\":[{\"id\":\"1014\"},{\"id\":\"1018\"}],\"left\":[{\"id\":\"1015\"}],\"plot_height\":400,\"plot_width\":400,\"renderers\":[{\"id\":\"1036\"}],\"title\":{\"id\":\"1039\"},\"toolbar\":{\"id\":\"1026\"},\"x_range\":{\"id\":\"1003\"},\"x_scale\":{\"id\":\"1007\"},\"y_range\":{\"id\":\"1005\"},\"y_scale\":{\"id\":\"1009\"}},\"id\":\"1002\",\"subtype\":\"Figure\",\"type\":\"Plot\"},{\"attributes\":{},\"id\":\"1020\",\"type\":\"WheelZoomTool\"},{\"attributes\":{},\"id\":\"1019\",\"type\":\"PanTool\"},{\"attributes\":{},\"id\":\"1041\",\"type\":\"BasicTickFormatter\"},{\"attributes\":{\"overlay\":{\"id\":\"1025\"}},\"id\":\"1021\",\"type\":\"BoxZoomTool\"},{\"attributes\":{\"data_source\":{\"id\":\"1033\"},\"glyph\":{\"id\":\"1034\"},\"hover_glyph\":null,\"muted_glyph\":null,\"nonselection_glyph\":{\"id\":\"1035\"},\"selection_glyph\":null,\"view\":{\"id\":\"1037\"}},\"id\":\"1036\",\"type\":\"GlyphRenderer\"},{\"attributes\":{},\"id\":\"1022\",\"type\":\"SaveTool\"},{\"attributes\":{},\"id\":\"1023\",\"type\":\"ResetTool\"},{\"attributes\":{},\"id\":\"1043\",\"type\":\"BasicTickFormatter\"},{\"attributes\":{\"fill_alpha\":{\"value\":0.1},\"fill_color\":{\"value\":\"#1f77b4\"},\"line_alpha\":{\"value\":0.1},\"line_color\":{\"value\":\"#1f77b4\"},\"x\":{\"field\":\"x\"},\"y\":{\"field\":\"y\"}},\"id\":\"1035\",\"type\":\"Circle\"},{\"attributes\":{\"source\":{\"id\":\"1033\"}},\"id\":\"1037\",\"type\":\"CDSView\"},{\"attributes\":{},\"id\":\"1045\",\"type\":\"UnionRenderers\"},{\"attributes\":{},\"id\":\"1046\",\"type\":\"Selection\"},{\"attributes\":{\"text\":\"\"},\"id\":\"1039\",\"type\":\"Title\"},{\"attributes\":{\"bottom_units\":\"screen\",\"fill_alpha\":0.5,\"fill_color\":\"lightgrey\",\"left_units\":\"screen\",\"level\":\"overlay\",\"line_alpha\":1.0,\"line_color\":\"black\",\"line_dash\":[4,4],\"line_width\":2,\"right_units\":\"screen\",\"top_units\":\"screen\"},\"id\":\"1025\",\"type\":\"BoxAnnotation\"},{\"attributes\":{},\"id\":\"1012\",\"type\":\"BasicTicker\"},{\"attributes\":{},\"id\":\"1007\",\"type\":\"LinearScale\"},{\"attributes\":{\"fill_color\":{\"value\":\"#1f77b4\"},\"line_color\":{\"value\":\"#1f77b4\"},\"x\":{\"field\":\"x\"},\"y\":{\"field\":\"y\"}},\"id\":\"1034\",\"type\":\"Circle\"},{\"attributes\":{\"data\":{\"x\":{\"__ndarray__\":\"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\",\"dtype\":\"float64\",\"order\":\"little\",\"shape\":[495]},\"y\":{\"__ndarray__\":\"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\",\"dtype\":\"float64\",\"order\":\"little\",\"shape\":[495]}},\"selected\":{\"id\":\"1046\"},\"selection_policy\":{\"id\":\"1045\"}},\"id\":\"1033\",\"type\":\"ColumnDataSource\"},{\"attributes\":{},\"id\":\"1005\",\"type\":\"DataRange1d\"},{\"attributes\":{\"formatter\":{\"id\":\"1041\"},\"ticker\":{\"id\":\"1016\"}},\"id\":\"1015\",\"type\":\"LinearAxis\"},{\"attributes\":{},\"id\":\"1003\",\"type\":\"DataRange1d\"},{\"attributes\":{\"formatter\":{\"id\":\"1043\"},\"ticker\":{\"id\":\"1012\"}},\"id\":\"1011\",\"type\":\"LinearAxis\"},{\"attributes\":{},\"id\":\"1009\",\"type\":\"LinearScale\"},{\"attributes\":{},\"id\":\"1024\",\"type\":\"HelpTool\"},{\"attributes\":{\"axis\":{\"id\":\"1011\"},\"ticker\":null},\"id\":\"1014\",\"type\":\"Grid\"},{\"attributes\":{\"active_drag\":\"auto\",\"active_inspect\":\"auto\",\"active_multi\":null,\"active_scroll\":\"auto\",\"active_tap\":\"auto\",\"tools\":[{\"id\":\"1019\"},{\"id\":\"1020\"},{\"id\":\"1021\"},{\"id\":\"1022\"},{\"id\":\"1023\"},{\"id\":\"1024\"}]},\"id\":\"1026\",\"type\":\"Toolbar\"},{\"attributes\":{\"axis\":{\"id\":\"1015\"},\"dimension\":1,\"ticker\":null},\"id\":\"1018\",\"type\":\"Grid\"},{\"attributes\":{},\"id\":\"1016\",\"type\":\"BasicTicker\"}],\"root_ids\":[\"1002\"]},\"title\":\"Bokeh Application\",\"version\":\"2.2.3\"}};\n",
       "  var render_items = [{\"docid\":\"1e48d018-0b7c-4d62-b39c-ac34b5bbb397\",\"root_ids\":[\"1002\"],\"roots\":{\"1002\":\"1c99a582-cabc-4a17-9b48-93d43dd5068d\"}}];\n",
       "  root.Bokeh.embed.embed_items_notebook(docs_json, render_items);\n",
       "\n",
       "  }\n",
       "  if (root.Bokeh !== undefined) {\n",
       "    embed_document(root);\n",
       "  } else {\n",
       "    var attempts = 0;\n",
       "    var timer = setInterval(function(root) {\n",
       "      if (root.Bokeh !== undefined) {\n",
       "        clearInterval(timer);\n",
       "        embed_document(root);\n",
       "      } else {\n",
       "        attempts++;\n",
       "        if (attempts > 100) {\n",
       "          clearInterval(timer);\n",
       "          console.log(\"Bokeh: ERROR: Unable to run BokehJS code because BokehJS library is missing\");\n",
       "        }\n",
       "      }\n",
       "    }, 10, root)\n",
       "  }\n",
       "})(window);"
      ],
      "application/vnd.bokehjs_exec.v0+json": ""
     },
     "metadata": {
      "application/vnd.bokehjs_exec.v0+json": {
       "id": "1002"
      }
     },
     "output_type": "display_data"
    }
   ],
   "source": [
    "fig = figure(height=400, width=400)\n",
    "fig.circle(df['years_in_employment'], df['hourly_wage'] )\n",
    "show(fig)"
   ]
  },
  {
   "cell_type": "markdown",
   "metadata": {},
   "source": [
    "There seems to be a relationship between X and Y, and it appears it can be fit by a line.\n",
    "\n",
    "We can also check the correlation between them:"
   ]
  },
  {
   "cell_type": "code",
   "execution_count": 32,
   "metadata": {},
   "outputs": [
    {
     "data": {
      "text/plain": [
       "0.33602901200802365"
      ]
     },
     "execution_count": 32,
     "metadata": {},
     "output_type": "execute_result"
    }
   ],
   "source": [
    "df['years_in_employment'].corr(df['hourly_wage']) #Function to check the correlation"
   ]
  },
  {
   "cell_type": "markdown",
   "metadata": {},
   "source": [
    "The correlation coefficient also suggests there is a positive relationship between the variables."
   ]
  },
  {
   "cell_type": "markdown",
   "metadata": {},
   "source": [
    "To build a linear regression model with statsmodel, we use the following syntax. The model is defined by a formula, where first comes the Y variable, followed by the tilda sign (`~`), followed by the X variable. Incidentally, the same syntax to define a regression equation in the R language.\n",
    "\n",
    "We need to call the `fit` method to fit and output the actual model."
   ]
  },
  {
   "cell_type": "code",
   "execution_count": 33,
   "metadata": {},
   "outputs": [],
   "source": [
    "model = sm.OLS.from_formula('hourly_wage ~ years_in_employment', data=df).fit() # Model to check the best fit in simple linear regression"
   ]
  },
  {
   "cell_type": "markdown",
   "metadata": {},
   "source": [
    "We can plot the fitted line. To do that, we first obtain the intercept and the slope - they are available in the `params` attribute of the fitted model."
   ]
  },
  {
   "cell_type": "code",
   "execution_count": 34,
   "metadata": {},
   "outputs": [
    {
     "name": "stdout",
     "output_type": "stream",
     "text": [
      "5.068623308727393\n",
      "0.16833457592531406\n"
     ]
    }
   ],
   "source": [
    "intercept, slope = model.params\n",
    "print(intercept)\n",
    "print(slope)"
   ]
  },
  {
   "cell_type": "markdown",
   "metadata": {},
   "source": [
    "Next, we can obtain predicted values for Y, given the X values, using the intercept and the slope:"
   ]
  },
  {
   "cell_type": "code",
   "execution_count": 35,
   "metadata": {},
   "outputs": [],
   "source": [
    "y_pred = [slope*i + intercept  for i in df['years_in_employment']] #Check the predicted values"
   ]
  },
  {
   "cell_type": "markdown",
   "metadata": {},
   "source": [
    "We can now plot the fitted line:"
   ]
  },
  {
   "cell_type": "code",
   "execution_count": 36,
   "metadata": {},
   "outputs": [
    {
     "data": {
      "text/html": [
       "\n",
       "\n",
       "\n",
       "\n",
       "\n",
       "\n",
       "  <div class=\"bk-root\" id=\"895ecb10-6a5a-4b8b-b521-36e97beee934\" data-root-id=\"1092\"></div>\n"
      ]
     },
     "metadata": {},
     "output_type": "display_data"
    },
    {
     "data": {
      "application/javascript": [
       "(function(root) {\n",
       "  function embed_document(root) {\n",
       "    \n",
       "  var docs_json = {\"622f0631-9c9e-453e-80de-ad8a055e76ae\":{\"roots\":{\"references\":[{\"attributes\":{\"below\":[{\"id\":\"1101\"}],\"center\":[{\"id\":\"1104\"},{\"id\":\"1108\"}],\"left\":[{\"id\":\"1105\"}],\"plot_height\":400,\"plot_width\":400,\"renderers\":[{\"id\":\"1126\"},{\"id\":\"1131\"}],\"title\":{\"id\":\"1143\"},\"toolbar\":{\"id\":\"1116\"},\"x_range\":{\"id\":\"1093\"},\"x_scale\":{\"id\":\"1097\"},\"y_range\":{\"id\":\"1095\"},\"y_scale\":{\"id\":\"1099\"}},\"id\":\"1092\",\"subtype\":\"Figure\",\"type\":\"Plot\"},{\"attributes\":{\"source\":{\"id\":\"1123\"}},\"id\":\"1127\",\"type\":\"CDSView\"},{\"attributes\":{},\"id\":\"1150\",\"type\":\"Selection\"},{\"attributes\":{\"fill_color\":{\"value\":\"#1f77b4\"},\"line_color\":{\"value\":\"#1f77b4\"},\"x\":{\"field\":\"x\"},\"y\":{\"field\":\"y\"}},\"id\":\"1124\",\"type\":\"Circle\"},{\"attributes\":{\"line_color\":\"red\",\"x\":{\"field\":\"x\"},\"y\":{\"field\":\"y\"}},\"id\":\"1129\",\"type\":\"Line\"},{\"attributes\":{\"data\":{\"x\":{\"__ndarray__\":\"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\",\"dtype\":\"float64\",\"order\":\"little\",\"shape\":[495]},\"y\":{\"__ndarray__\":\"7FG4HoXrCUAAAAAAAAAIQAAAAAAAABhAMzMzMzMzFUAAAAAAAIAhQAAAAAAAgCZAAAAAAAAAFEDNzMzMzMwMQK5H4XoULjJAAAAAAAAAGUDD9Shcj0IgQArXo3A9iiFAAAAAAAAAFkAzMzMzMzM2QBSuR+F6VDFAAAAAAAAAHkDNzMzMzMwMQAAAAAAAABJAhetRuB6FG0D2KFyPwvUgQFK4HoXrURlA9ihcj8L14D8AAAAAAAAYQB+F61G4HiNAH4XrUbgeH0AAAAAAAAApQAAAAAAAAApAAAAAAAAAKkAAAAAAAAASQFyPwvUoXCNAAAAAAAAAFEAK16NwPYoSQBSuR+F6FBFAmpmZmZmZGEAUrkfhehQMQAAAAAAAAAhAAAAAAAAAGUA9CtejcD0fQAAAAAAAACRAAAAAAAAAEECF61G4HoUZQGZmZmZmZitAuB6F61G4+j9xPQrXo3AHQDMzMzMzMw1AMzMzMzMzB0AUrkfhehT6PzMzMzMzMyFAAAAAAAAAFEAAAAAAAAAEQAAAAAAAAApAMzMzMzMzC0AAAAAAAAAkQOF6FK5HoTVAhetRuB6FEUCG61G4HsUgQEjhehSuxyhAAAAAAAAAGUAfhetRuB4fQHsUrkfh+jNAAAAAAAAAGUAAAAAAAAAkQNejcD0K1xZAAAAAAAAAAEDXo3A9CtcWQClcj8L1KCpApHA9CtejE0BI4XoUrkcHQAAAAAAAAA5AzczMzMzMJ0AAAAAAAAAQQM3MzMzMzAhAZmZmZmbmIECPwvUoXI8cQAAAAAAAABJAmpmZmZmZEkAzMzMzMzMHQK5H4XoUrhpAAAAAAAAADEAUrkfhehQKQAAAAAAAAApAAAAAAAAAIEAzMzMzM7MjQAAAAAAAAB5ApHA9CtejF0CF61G4HoUnQAAAAAAAAAhAPQrXo3A9E0AAAAAAAAAaQAAAAAAAABBAAAAAAAAADEBSuB6F61EqQAAAAAAAABFAAAAAAAAADEAAAAAAAAAOQAAAAAAAABJAhetRuB6FHkAAAAAAAAAuQGZmZmZmZhtAKVyPwvWoKkCuR+F6FK4aQD0K16NwPQRAmpmZmZmZI0D2KFyPwvUKQJqZmZmZmRVAcT0K16NwGEDNzMzMzMwQQAAAAAAAAA5AAAAAAAAADEAfhetRuB4NQGZmZmZmZg5AAAAAAAAACEAAAAAAAAAUQIXrUbgehRJAAAAAAAAACECamZmZmZkJQEjhehSuRw9AuB6F61G4GUDsUbgehesVQAAAAAAAAPg/MzMzMzMzB0AAAAAAAAAUQNejcD0K1yFAAAAAAAAAFEApXI/C9SgMQDMzMzMzMwdAAAAAAAAAEkAAAAAAAAAUQAAAAAAAACRAAAAAAAAADkAAAAAAAAAkQGZmZmZm5iVA4XoUrkfhEkBcj8L1KFwXQKRwPQrXow5AmpmZmZmZCUAAAAAAAAAAQAAAAAAAABJAmpmZmZkZJ0Bcj8L1KNwbQArXo3A9CgNAAAAAAAAADkAUrkfhehQWQAAAAAAAABpAzczMzMzMCEAAAAAAAAAkQIXrUbgehRpAAAAAAAAAJEB7FK5H4XoCQIXrUbgehRtApHA9CtejBkAK16NwPQoJQAAAAAAAACBAAAAAAAAAEkDNzMzMzEwhQAAAAAAAAABAAAAAAAAAE0AAAAAAAAAZQAAAAAAAABhAw/UoXI/CLkApXI/C9SgtQAAAAAAAAClAAAAAAAAAFUBcj8L1KFwBQI/C9ShcjxxA4XoUrkfhGEAAAAAAAAAiQAAAAAAAACRAFK5H4XoUF0AAAAAAAAAQQAAAAAAAgCFAH4XrUbgeGkBmZmZmZmYeQAAAAAAAABRAAAAAAAAAFEBcj8L1KNw1QGZmZmZmZgpAMzMzMzMzEkAAAAAAAAAMQAAAAAAAABlAzczMzMzMDkC4HoXrUbgYQEjhehSuRwdAAAAAAAAAGUAAAAAAAAAZQJqZmZmZGSJAAAAAAAAAJEC4HoXrUTgmQIXrUbgehRtAAAAAAACAIUAAAAAAAAAkQAAAAAAAAAhAMzMzMzMzF0BmZmZmZmYQQAAAAAAAACBAmpmZmZmZBUAAAAAAAAAGQAAAAAAAAAhAuB6F61G4FEBxPQrXo3AdQAAAAAAAAB5AAAAAAAAADEAzMzMzMzMgQAAAAAAAAA5AAAAAAAAACkBSuB6F61EXQAAAAAAAAAxApHA9CtejCkAAAAAAAAAQQAAAAAAAAAxAAAAAAAAAGUCamZmZmZkHQNejcD0K1xZAAAAAAAAACEBcj8L1KNw2QAAAAAAAACJAKVyPwvWoIEAAAAAAAAAIQAAAAAAAABdACtejcD0KG0AAAAAAAAAkQAAAAAAAAAhAAAAAAAAADEAAAAAAAAAKQAAAAAAAABBAXI/C9ShcB0B7FK5H4XoIQJqZmZmZmQlAAAAAAAAAE0ApXI/C9SgyQAAAAAAAAAxAcT0K16NwEEBcj8L1KFz/Pylcj8L1KBFAAAAAAAAACEDNzMzMzMwZQM3MzMzMzBRAAAAAAAAAEkAK16NwPQoPQJqZmZmZmQtAUrgehevRJUBmZmZmZmYQQAAAAAAAAAhAmpmZmZmZF0AAAAAAAAAyQAAAAAAAABBAAAAAAAAACEBmZmZmZmYMQAAAAAAAgCFAMzMzMzMzB0AK16NwPQoZQAAAAAAAAAxAZmZmZmZmEkAAAAAAAAAYQB+F61G4HgdAUrgehetRFkAAAAAAAAAQQAAAAAAAABhAAAAAAAAAEkBcj8L1KFwHQFK4HoXrURFApHA9CtfjMkAfhetRuB4RQEjhehSuRxJAAAAAAAAAGUAAAAAAAAAeQAAAAAAAgCFAAAAAAAAAGUAAAAAAAAAOQDMzMzMzMwlAAAAAAAAAFEDXo3A9CtcZQAAAAAAAAABAKVyPwvUoE0AfhetRuB4XQHE9CtejcAlAuB6F61G4EkBmZmZmZmYQQEjhehSuRwdAAAAAAAAAGEDNzMzMzMwMQJqZmZmZmQ9AAAAAAAAAHEAAAAAAAAAIQFK4HoXrURhAw/UoXI9CIUAAAAAAAAAIQAAAAAAAAA5AMzMzMzMzB0AAAAAAAAAIQAAAAAAAABlAAAAAAAAADEAAAAAAAAAIQOxRuB6F6wlACtejcD0KIECkcD0K16MKQAAAAAAAABVAAAAAAAAAGUAAAAAAAAAMQJqZmZmZmQdAw/UoXI/CEkDXo3A9CtcNQAAAAAAAABBAMzMzMzMzB0BmZmZmZmYIQDMzMzMzMxRAZmZmZmbmK0ApXI/C9SgyQAAAAAAAABlAAAAAAAAAFUApXI/C9SgTQM3MzMzMzApAAAAAAAAACEBcj8L1KNwgQM3MzMzMzBZA9ihcj8L1J0AAAAAAAAAMQPYoXI/C9RBAAAAAAAAAHEAAAAAAAAAYQHE9CtejcChAAAAAAAAAEkAAAAAAAAAIQDMzMzMzMwdAAAAAAAAALkAAAAAAAAAQQAAAAAAAABVAAAAAAAAAEEBmZmZmZmYKQDMzMzMzMxRApHA9CtejDEAAAAAAAAAUQEjhehSuRxJAAAAAAAAAKUCamZmZmZkLQIXrUbgehRJAAAAAAAAAJEBcj8L1KFwHQArXo3A9ChJAAAAAAAAAGkAAAAAAAAAeQFK4HoXrUQxAFK5H4XoUDEAAAAAAAAASQM3MzMzMzApAAAAAAAAAFUAAAAAAAAAOQDMzMzMzMwtAAAAAAAAACEApXI/C9SgZQFK4HoXrUQRAAAAAAAAAEkAK16NwPQoJQHE9CtejcBlAuB6F61G4EkAzMzMzMzMbQI/C9ShcDyFArkfhehSuEEAAAAAAAAAOQDMzMzMzMyZAFK5H4XoUCkDD9Shcj0IiQAAAAAAAgCFAj8L1KFyPEED2KFyPwvUGQM3MzMzMzApAUrgehetRGEAAAAAAAAAIQM3MzMzMzBBAZmZmZmZmFkAAAAAAAAAkQAAAAAAAAClAFK5H4XoUDkDNzMzMzMwIQClcj8L1KBFA16NwPQrXJUAAAAAAAAAeQDMzMzMzMxBAmpmZmZmZEkAAAAAAAAAUQDMzMzMzMwdAAAAAAAAAIEBcj8L1KNwgQFyPwvUoXAdAAAAAAAAAGUAAAAAAAAAZQHE9CtejcBRAAAAAAAAAEECF61G4HoUbQLgehetRuBVAAAAAAAAACEAzMzMzMzMHQAAAAAAAABlAXI/C9ShcEUAAAAAAAAAKQArXo3A9Ch1AZmZmZmZmGUCF61G4HoUWQAAAAAAAgCFAmpmZmZmZCUAAAAAAAAAIQAAAAAAAAAhAAAAAAAAAKUAK16NwPQoHQM3MzMzMzApAAAAAAAAAGkDD9Shcj8IkQAAAAAAAABJAAAAAAAAAJEB7FK5H4XoOQJqZmZmZmSFA16NwPQrXIkBSuB6F61EZQAAAAAAAABBAAAAAAAAANEAAAAAAAIAmQAAAAAAAAAxAAAAAAAAAGEDD9Shcj8IsQHE9CtejcBlAZmZmZmZmDEAAAAAAAAAIQIXrUbgehRpAAAAAAAAACEAAAAAAAAAKQAAAAAAAAPg/mpmZmZmZF0AAAAAAAAAgQDMzMzMzMwdAUrgehetRCkAAAAAAAAAaQAAAAAAAABBAAAAAAAAAGEBSuB6F61EQQAAAAAAAAA5AZmZmZmZmCEAAAAAAAAAMQFyPwvUoXAdAAAAAAAAAEkDNzMzMzMwKQM3MzMzMzBdAAAAAAAAAIEAAAAAAAAAIQAAAAAAAABRAMzMzMzMzBUAAAAAAAAAIQAAAAAAAABJAAAAAAACAMUBcj8L1KFwgQK5H4XoULiJAAAAAAAAACkAAAAAAAAASQAAAAAAAABJArkfhehSuDUAAAAAAAAAaQDMzMzMzMwdAZmZmZmZmFkDXo3A9CtcBQAAAAAAAABRAKVyPwvWoIEAzMzMzMzMHQAAAAAAAABlAMzMzMzMzEkA9CtejcD0KQFK4HoXrUQpAZmZmZmZmCkAAAAAAAAApQJqZmZmZmRRACtejcD0KCUAzMzMzMzMHQAAAAAAAAPw/H4XrUbgeB0AzMzMzMzMHQPYoXI/CtTFAAAAAAAAAGUDNzMzMzMwEQIXrUbgehRpAAAAAAAAADEAAAAAAAAAaQAAAAAAAAAhAhetRuB6FEUAAAAAAAAAkQM3MzMzMzBNAAAAAAAAAIkDhehSuR+H2P6RwPQrXowhAKVyPwvWoIkAAAAAAAAAeQAAAAAAAABNAmpmZmZmZFkAAAAAAAAAuQClcj8L1KAJArkfhehSuEkAfhetRuB4nQB+F61G4HidA\",\"dtype\":\"float64\",\"order\":\"little\",\"shape\":[495]}},\"selected\":{\"id\":\"1150\"},\"selection_policy\":{\"id\":\"1149\"}},\"id\":\"1123\",\"type\":\"ColumnDataSource\"},{\"attributes\":{\"line_alpha\":0.1,\"line_color\":\"red\",\"x\":{\"field\":\"x\"},\"y\":{\"field\":\"y\"}},\"id\":\"1130\",\"type\":\"Line\"},{\"attributes\":{},\"id\":\"1093\",\"type\":\"DataRange1d\"},{\"attributes\":{},\"id\":\"1149\",\"type\":\"UnionRenderers\"},{\"attributes\":{\"data_source\":{\"id\":\"1128\"},\"glyph\":{\"id\":\"1129\"},\"hover_glyph\":null,\"muted_glyph\":null,\"nonselection_glyph\":{\"id\":\"1130\"},\"selection_glyph\":null,\"view\":{\"id\":\"1132\"}},\"id\":\"1131\",\"type\":\"GlyphRenderer\"},{\"attributes\":{\"formatter\":{\"id\":\"1147\"},\"ticker\":{\"id\":\"1102\"}},\"id\":\"1101\",\"type\":\"LinearAxis\"},{\"attributes\":{},\"id\":\"1147\",\"type\":\"BasicTickFormatter\"},{\"attributes\":{},\"id\":\"1097\",\"type\":\"LinearScale\"},{\"attributes\":{\"source\":{\"id\":\"1128\"}},\"id\":\"1132\",\"type\":\"CDSView\"},{\"attributes\":{\"bottom_units\":\"screen\",\"fill_alpha\":0.5,\"fill_color\":\"lightgrey\",\"left_units\":\"screen\",\"level\":\"overlay\",\"line_alpha\":1.0,\"line_color\":\"black\",\"line_dash\":[4,4],\"line_width\":2,\"right_units\":\"screen\",\"top_units\":\"screen\"},\"id\":\"1115\",\"type\":\"BoxAnnotation\"},{\"attributes\":{},\"id\":\"1095\",\"type\":\"DataRange1d\"},{\"attributes\":{},\"id\":\"1151\",\"type\":\"UnionRenderers\"},{\"attributes\":{},\"id\":\"1099\",\"type\":\"LinearScale\"},{\"attributes\":{},\"id\":\"1152\",\"type\":\"Selection\"},{\"attributes\":{},\"id\":\"1102\",\"type\":\"BasicTicker\"},{\"attributes\":{\"axis\":{\"id\":\"1101\"},\"ticker\":null},\"id\":\"1104\",\"type\":\"Grid\"},{\"attributes\":{\"text\":\"\"},\"id\":\"1143\",\"type\":\"Title\"},{\"attributes\":{},\"id\":\"1114\",\"type\":\"HelpTool\"},{\"attributes\":{\"axis\":{\"id\":\"1105\"},\"dimension\":1,\"ticker\":null},\"id\":\"1108\",\"type\":\"Grid\"},{\"attributes\":{\"formatter\":{\"id\":\"1145\"},\"ticker\":{\"id\":\"1106\"}},\"id\":\"1105\",\"type\":\"LinearAxis\"},{\"attributes\":{},\"id\":\"1106\",\"type\":\"BasicTicker\"},{\"attributes\":{},\"id\":\"1110\",\"type\":\"WheelZoomTool\"},{\"attributes\":{},\"id\":\"1109\",\"type\":\"PanTool\"},{\"attributes\":{\"overlay\":{\"id\":\"1115\"}},\"id\":\"1111\",\"type\":\"BoxZoomTool\"},{\"attributes\":{\"data_source\":{\"id\":\"1123\"},\"glyph\":{\"id\":\"1124\"},\"hover_glyph\":null,\"muted_glyph\":null,\"nonselection_glyph\":{\"id\":\"1125\"},\"selection_glyph\":null,\"view\":{\"id\":\"1127\"}},\"id\":\"1126\",\"type\":\"GlyphRenderer\"},{\"attributes\":{},\"id\":\"1112\",\"type\":\"SaveTool\"},{\"attributes\":{},\"id\":\"1113\",\"type\":\"ResetTool\"},{\"attributes\":{\"active_drag\":\"auto\",\"active_inspect\":\"auto\",\"active_multi\":null,\"active_scroll\":\"auto\",\"active_tap\":\"auto\",\"tools\":[{\"id\":\"1109\"},{\"id\":\"1110\"},{\"id\":\"1111\"},{\"id\":\"1112\"},{\"id\":\"1113\"},{\"id\":\"1114\"}]},\"id\":\"1116\",\"type\":\"Toolbar\"},{\"attributes\":{\"data\":{\"x\":{\"__ndarray__\":\"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\",\"dtype\":\"float64\",\"order\":\"little\",\"shape\":[495]},\"y\":[5.40529246057802,5.068623308727393,9.781991434636186,5.40529246057802,6.415299916129905,6.246965340204591,5.573627036503335,5.741961612428649,8.603649403158988,5.40529246057802,5.068623308727393,5.068623308727393,5.573627036503335,7.593641947607104,5.068623308727393,5.068623308727393,5.068623308727393,6.078630764279277,5.741961612428649,7.256972795756475,6.58363449205522,5.236957884652707,6.415299916129905,5.573627036503335,6.751969067980533,5.068623308727393,5.236957884652707,5.910296188353963,5.910296188353963,7.761976523532418,5.573627036503335,5.068623308727393,5.741961612428649,6.078630764279277,7.593641947607104,5.573627036503335,5.068623308727393,5.068623308727393,5.910296188353963,7.088638219831161,5.741961612428649,7.256972795756475,5.068623308727393,5.40529246057802,5.40529246057802,5.236957884652707,5.068623308727393,5.40529246057802,5.910296188353963,5.068623308727393,5.068623308727393,5.236957884652707,5.068623308727393,6.415299916129905,5.068623308727393,8.435314827233674,5.910296188353963,6.415299916129905,5.573627036503335,8.940318555009616,5.741961612428649,5.573627036503335,5.910296188353963,5.40529246057802,5.068623308727393,5.40529246057802,6.415299916129905,10.79199889018807,5.068623308727393,8.26698025130836,5.068623308727393,5.236957884652707,7.256972795756475,5.068623308727393,5.910296188353963,5.236957884652707,5.068623308727393,5.910296188353963,5.40529246057802,5.573627036503335,5.068623308727393,5.741961612428649,9.108653130934929,6.246965340204591,6.078630764279277,11.63367176981464,5.068623308727393,5.068623308727393,5.236957884652707,5.236957884652707,5.068623308727393,8.771983979084302,5.40529246057802,5.068623308727393,5.068623308727393,7.088638219831161,5.741961612428649,6.246965340204591,5.573627036503335,6.920303643905847,6.751969067980533,5.068623308727393,5.068623308727393,7.088638219831161,5.573627036503335,5.068623308727393,7.761976523532418,5.068623308727393,5.068623308727393,5.40529246057802,5.236957884652707,7.088638219831161,5.236957884652707,5.068623308727393,5.068623308727393,5.068623308727393,5.573627036503335,5.573627036503335,5.573627036503335,10.118660586486815,5.40529246057802,5.236957884652707,5.573627036503335,5.068623308727393,5.236957884652707,5.068623308727393,5.068623308727393,5.910296188353963,5.573627036503335,7.256972795756475,6.920303643905847,8.435314827233674,5.236957884652707,5.068623308727393,5.40529246057802,5.40529246057802,5.068623308727393,5.741961612428649,5.910296188353963,7.593641947607104,5.068623308727393,5.068623308727393,5.573627036503335,5.910296188353963,5.40529246057802,5.910296188353963,5.068623308727393,5.40529246057802,5.236957884652707,5.741961612428649,5.068623308727393,5.068623308727393,5.910296188353963,5.741961612428649,5.236957884652707,6.078630764279277,5.40529246057802,5.910296188353963,5.068623308727393,8.603649403158988,6.246965340204591,5.236957884652707,6.751969067980533,5.741961612428649,5.910296188353963,6.58363449205522,5.910296188353963,5.741961612428649,5.573627036503335,6.920303643905847,5.40529246057802,5.40529246057802,6.920303643905847,5.068623308727393,6.920303643905847,7.761976523532418,6.415299916129905,5.068623308727393,6.078630764279277,5.40529246057802,5.068623308727393,5.573627036503335,5.068623308727393,5.236957884652707,5.068623308727393,5.40529246057802,5.573627036503335,6.415299916129905,8.26698025130836,5.40529246057802,5.068623308727393,5.068623308727393,6.078630764279277,5.068623308727393,5.40529246057802,5.068623308727393,5.40529246057802,6.751969067980533,5.40529246057802,9.108653130934929,9.108653130934929,5.40529246057802,5.573627036503335,5.40529246057802,5.068623308727393,7.593641947607104,5.068623308727393,5.741961612428649,5.573627036503335,5.741961612428649,5.068623308727393,5.40529246057802,5.40529246057802,5.068623308727393,6.246965340204591,5.236957884652707,9.445322282785558,5.068623308727393,5.910296188353963,5.573627036503335,5.068623308727393,5.068623308727393,5.236957884652707,5.068623308727393,5.236957884652707,5.068623308727393,6.751969067980533,5.910296188353963,5.068623308727393,6.246965340204591,5.068623308727393,5.068623308727393,5.573627036503335,5.068623308727393,5.068623308727393,6.078630764279277,7.256972795756475,5.40529246057802,5.573627036503335,5.068623308727393,8.940318555009616,5.068623308727393,5.236957884652707,6.246965340204591,5.068623308727393,5.068623308727393,5.068623308727393,5.068623308727393,12.475344649441212,6.078630764279277,7.9303110994577315,5.068623308727393,5.068623308727393,6.415299916129905,5.068623308727393,5.236957884652707,6.078630764279277,5.40529246057802,5.236957884652707,5.573627036503335,5.068623308727393,8.435314827233674,5.236957884652707,6.246965340204591,5.741961612428649,8.940318555009616,5.236957884652707,9.445322282785558,5.068623308727393,5.236957884652707,5.40529246057802,5.068623308727393,5.068623308727393,6.415299916129905,5.741961612428649,5.068623308727393,5.236957884652707,5.40529246057802,5.068623308727393,7.256972795756475,9.445322282785558,6.078630764279277,5.910296188353963,6.58363449205522,5.068623308727393,6.58363449205522,5.40529246057802,5.40529246057802,6.246965340204591,5.068623308727393,10.28699516241213,5.40529246057802,5.236957884652707,5.068623308727393,5.573627036503335,6.415299916129905,5.068623308727393,5.068623308727393,5.40529246057802,5.236957884652707,6.246965340204591,5.40529246057802,5.068623308727393,5.236957884652707,5.068623308727393,5.068623308727393,7.761976523532418,9.781991434636186,5.741961612428649,5.068623308727393,5.573627036503335,5.068623308727393,5.068623308727393,6.078630764279277,5.068623308727393,6.751969067980533,5.236957884652707,5.910296188353963,5.573627036503335,5.573627036503335,5.40529246057802,5.068623308727393,8.435314827233674,5.40529246057802,10.28699516241213,5.40529246057802,6.920303643905847,5.573627036503335,6.58363449205522,5.068623308727393,5.068623308727393,5.910296188353963,5.068623308727393,5.40529246057802,5.910296188353963,5.236957884652707,5.40529246057802,5.068623308727393,5.40529246057802,5.068623308727393,5.068623308727393,6.246965340204591,5.40529246057802,5.068623308727393,5.741961612428649,6.246965340204591,5.068623308727393,7.593641947607104,5.236957884652707,5.573627036503335,5.068623308727393,5.068623308727393,5.910296188353963,5.236957884652707,5.068623308727393,6.751969067980533,6.078630764279277,6.751969067980533,5.741961612428649,5.741961612428649,5.910296188353963,7.088638219831161,5.741961612428649,5.068623308727393,6.415299916129905,5.068623308727393,6.751969067980533,5.068623308727393,5.068623308727393,7.593641947607104,9.108653130934929,5.910296188353963,5.068623308727393,5.068623308727393,9.276987706860243,5.910296188353963,5.40529246057802,5.741961612428649,5.40529246057802,5.910296188353963,5.068623308727393,5.573627036503335,5.573627036503335,5.068623308727393,5.068623308727393,5.40529246057802,5.068623308727393,5.068623308727393,8.603649403158988,5.573627036503335,5.068623308727393,5.068623308727393,8.603649403158988,5.40529246057802,5.40529246057802,5.40529246057802,5.236957884652707,5.40529246057802,5.573627036503335,5.068623308727393,5.236957884652707,5.573627036503335,8.098645675383047,5.068623308727393,5.236957884652707,5.40529246057802,5.40529246057802,5.068623308727393,6.415299916129905,5.236957884652707,5.236957884652707,5.068623308727393,6.415299916129905,8.098645675383047,5.741961612428649,9.276987706860243,5.068623308727393,5.741961612428649,6.58363449205522,5.068623308727393,5.068623308727393,5.068623308727393,5.068623308727393,5.068623308727393,5.40529246057802,5.236957884652707,6.246965340204591,5.741961612428649,5.068623308727393,7.256972795756475,10.623664314262758,5.068623308727393,5.068623308727393,7.9303110994577315,5.40529246057802,9.108653130934929,8.435314827233674,10.118660586486815,6.58363449205522,5.236957884652707,6.58363449205522,6.078630764279277,5.068623308727393,6.58363449205522,6.751969067980533,5.068623308727393,7.4253073716817894,8.771983979084302,5.910296188353963,7.088638219831161,5.068623308727393,5.068623308727393,5.068623308727393,6.246965340204591,6.920303643905847,5.236957884652707,6.415299916129905,5.573627036503335,5.068623308727393,5.40529246057802,5.236957884652707,6.078630764279277,5.40529246057802,5.40529246057802,5.068623308727393,5.068623308727393,10.118660586486815,8.603649403158988,5.236957884652707,5.40529246057802,5.236957884652707,5.068623308727393,5.068623308727393,5.573627036503335,5.573627036503335,5.068623308727393,5.573627036503335,5.573627036503335,7.4253073716817894,5.236957884652707,5.068623308727393,5.068623308727393,7.9303110994577315,5.068623308727393,5.068623308727393,5.236957884652707,6.920303643905847,5.910296188353963,5.236957884652707,5.068623308727393,5.40529246057802,5.068623308727393,8.098645675383047,5.236957884652707,5.741961612428649]},\"selected\":{\"id\":\"1152\"},\"selection_policy\":{\"id\":\"1151\"}},\"id\":\"1128\",\"type\":\"ColumnDataSource\"},{\"attributes\":{},\"id\":\"1145\",\"type\":\"BasicTickFormatter\"},{\"attributes\":{\"fill_alpha\":{\"value\":0.1},\"fill_color\":{\"value\":\"#1f77b4\"},\"line_alpha\":{\"value\":0.1},\"line_color\":{\"value\":\"#1f77b4\"},\"x\":{\"field\":\"x\"},\"y\":{\"field\":\"y\"}},\"id\":\"1125\",\"type\":\"Circle\"}],\"root_ids\":[\"1092\"]},\"title\":\"Bokeh Application\",\"version\":\"2.2.3\"}};\n",
       "  var render_items = [{\"docid\":\"622f0631-9c9e-453e-80de-ad8a055e76ae\",\"root_ids\":[\"1092\"],\"roots\":{\"1092\":\"895ecb10-6a5a-4b8b-b521-36e97beee934\"}}];\n",
       "  root.Bokeh.embed.embed_items_notebook(docs_json, render_items);\n",
       "\n",
       "  }\n",
       "  if (root.Bokeh !== undefined) {\n",
       "    embed_document(root);\n",
       "  } else {\n",
       "    var attempts = 0;\n",
       "    var timer = setInterval(function(root) {\n",
       "      if (root.Bokeh !== undefined) {\n",
       "        clearInterval(timer);\n",
       "        embed_document(root);\n",
       "      } else {\n",
       "        attempts++;\n",
       "        if (attempts > 100) {\n",
       "          clearInterval(timer);\n",
       "          console.log(\"Bokeh: ERROR: Unable to run BokehJS code because BokehJS library is missing\");\n",
       "        }\n",
       "      }\n",
       "    }, 10, root)\n",
       "  }\n",
       "})(window);"
      ],
      "application/vnd.bokehjs_exec.v0+json": ""
     },
     "metadata": {
      "application/vnd.bokehjs_exec.v0+json": {
       "id": "1092"
      }
     },
     "output_type": "display_data"
    }
   ],
   "source": [
    "fig = figure(height=400, width=400)\n",
    "fig.circle(df['years_in_employment'], df['hourly_wage'])\n",
    "fig.line(df['years_in_employment'], y_pred, color='red')\n",
    "show(fig)"
   ]
  },
  {
   "cell_type": "markdown",
   "metadata": {},
   "source": [
    "### Interpreting the model\n",
    "To interpret the model, we access the model summary. In statsmodels, it consists of three tables:"
   ]
  },
  {
   "cell_type": "code",
   "execution_count": 37,
   "metadata": {},
   "outputs": [
    {
     "data": {
      "text/html": [
       "<table class=\"simpletable\">\n",
       "<caption>OLS Regression Results</caption>\n",
       "<tr>\n",
       "  <th>Dep. Variable:</th>       <td>hourly_wage</td>   <th>  R-squared:         </th> <td>   0.113</td>\n",
       "</tr>\n",
       "<tr>\n",
       "  <th>Model:</th>                   <td>OLS</td>       <th>  Adj. R-squared:    </th> <td>   0.111</td>\n",
       "</tr>\n",
       "<tr>\n",
       "  <th>Method:</th>             <td>Least Squares</td>  <th>  F-statistic:       </th> <td>   62.75</td>\n",
       "</tr>\n",
       "<tr>\n",
       "  <th>Date:</th>             <td>Wed, 07 Apr 2021</td> <th>  Prob (F-statistic):</th> <td>1.57e-14</td>\n",
       "</tr>\n",
       "<tr>\n",
       "  <th>Time:</th>                 <td>01:50:04</td>     <th>  Log-Likelihood:    </th> <td> -1310.6</td>\n",
       "</tr>\n",
       "<tr>\n",
       "  <th>No. Observations:</th>      <td>   495</td>      <th>  AIC:               </th> <td>   2625.</td>\n",
       "</tr>\n",
       "<tr>\n",
       "  <th>Df Residuals:</th>          <td>   493</td>      <th>  BIC:               </th> <td>   2634.</td>\n",
       "</tr>\n",
       "<tr>\n",
       "  <th>Df Model:</th>              <td>     1</td>      <th>                     </th>     <td> </td>   \n",
       "</tr>\n",
       "<tr>\n",
       "  <th>Covariance Type:</th>      <td>nonrobust</td>    <th>                     </th>     <td> </td>   \n",
       "</tr>\n",
       "</table>\n",
       "<table class=\"simpletable\">\n",
       "<tr>\n",
       "           <td></td>              <th>coef</th>     <th>std err</th>      <th>t</th>      <th>P>|t|</th>  <th>[0.025</th>    <th>0.975]</th>  \n",
       "</tr>\n",
       "<tr>\n",
       "  <th>Intercept</th>           <td>    5.0686</td> <td>    0.188</td> <td>   26.952</td> <td> 0.000</td> <td>    4.699</td> <td>    5.438</td>\n",
       "</tr>\n",
       "<tr>\n",
       "  <th>years_in_employment</th> <td>    0.1683</td> <td>    0.021</td> <td>    7.922</td> <td> 0.000</td> <td>    0.127</td> <td>    0.210</td>\n",
       "</tr>\n",
       "</table>\n",
       "<table class=\"simpletable\">\n",
       "<tr>\n",
       "  <th>Omnibus:</th>       <td>182.361</td> <th>  Durbin-Watson:     </th> <td>   1.776</td> \n",
       "</tr>\n",
       "<tr>\n",
       "  <th>Prob(Omnibus):</th> <td> 0.000</td>  <th>  Jarque-Bera (JB):  </th> <td> 619.700</td> \n",
       "</tr>\n",
       "<tr>\n",
       "  <th>Skew:</th>          <td> 1.715</td>  <th>  Prob(JB):          </th> <td>2.72e-135</td>\n",
       "</tr>\n",
       "<tr>\n",
       "  <th>Kurtosis:</th>      <td> 7.276</td>  <th>  Cond. No.          </th> <td>    10.9</td> \n",
       "</tr>\n",
       "</table><br/><br/>Notes:<br/>[1] Standard Errors assume that the covariance matrix of the errors is correctly specified."
      ],
      "text/plain": [
       "<class 'statsmodels.iolib.summary.Summary'>\n",
       "\"\"\"\n",
       "                            OLS Regression Results                            \n",
       "==============================================================================\n",
       "Dep. Variable:            hourly_wage   R-squared:                       0.113\n",
       "Model:                            OLS   Adj. R-squared:                  0.111\n",
       "Method:                 Least Squares   F-statistic:                     62.75\n",
       "Date:                Wed, 07 Apr 2021   Prob (F-statistic):           1.57e-14\n",
       "Time:                        01:50:04   Log-Likelihood:                -1310.6\n",
       "No. Observations:                 495   AIC:                             2625.\n",
       "Df Residuals:                     493   BIC:                             2634.\n",
       "Df Model:                           1                                         \n",
       "Covariance Type:            nonrobust                                         \n",
       "=======================================================================================\n",
       "                          coef    std err          t      P>|t|      [0.025      0.975]\n",
       "---------------------------------------------------------------------------------------\n",
       "Intercept               5.0686      0.188     26.952      0.000       4.699       5.438\n",
       "years_in_employment     0.1683      0.021      7.922      0.000       0.127       0.210\n",
       "==============================================================================\n",
       "Omnibus:                      182.361   Durbin-Watson:                   1.776\n",
       "Prob(Omnibus):                  0.000   Jarque-Bera (JB):              619.700\n",
       "Skew:                           1.715   Prob(JB):                    2.72e-135\n",
       "Kurtosis:                       7.276   Cond. No.                         10.9\n",
       "==============================================================================\n",
       "\n",
       "Notes:\n",
       "[1] Standard Errors assume that the covariance matrix of the errors is correctly specified.\n",
       "\"\"\""
      ]
     },
     "execution_count": 37,
     "metadata": {},
     "output_type": "execute_result"
    }
   ],
   "source": [
    "model.summary()"
   ]
  },
  {
   "cell_type": "markdown",
   "metadata": {},
   "source": [
    "The elements of the summary that are of main interest for us at the moment are:\n",
    "\n",
    "(1) **Coefficients on the variables**. These are shown in the second table of the summary. The \"coef\" column shows the actual coefficients: 5.0686 for the intercept, and 0.1683 for the years_in_employment variable. Thus, our model is described by the line: $hourlywage = 5.0686 + 0.1683*yearsinemployment + e$.\n",
    "\n",
    "(2) **Significance of the variables**. The summary includes results of a t-test assessing if the estimated coeffients are significantly different from 0. If they were not different from 0, that would mean that the variable itself has no effect on the dependent variable, and can be deleted from the model. The significance can be judged from the p-value associated with the t-test. In the table, we see that the intercept and coefficient on years_in_employment and  is  significant (p=0.000, that is less than the  significance level of 0.05). Therefore, they do have an effect on the dependent variable .\n",
    "\n",
    "(3) **Quality of the model**. The $R^2$ and the adjusted $R^2$ values are shown in the first table. Both are around 0.1, which indicates that the model is quite far from perfect. Obviously, there are other factors that affect the hourly_wage that our model did not take into account."
   ]
  },
  {
   "cell_type": "markdown",
   "metadata": {},
   "source": [
    "## Checking the assumptions of normality and zero mean of residuals\n",
    "\n",
    "Two of the main assumptions of linear regression is that the residuals (i.e., errors, the differences between the true and fitted values of $y$) are equally scattered around zero, and that the errors are normally distributed. \n",
    "\n",
    "We can plot the error values to confirm if these assumptions are valid for our model. The \"raw\" residuals are available as the `resid` attribute of the model object. However, it is often more useful to look at standardized residuals (standardized residuals are residuals divided by their standard deviation, which helps to detect outliers and compare plots from different models).\n",
    "\n",
    "The plot below shows the relationship between standardized residuals and the fitted values for the dependent variable."
   ]
  },
  {
   "cell_type": "code",
   "execution_count": 38,
   "metadata": {},
   "outputs": [
    {
     "data": {
      "text/html": [
       "\n",
       "\n",
       "\n",
       "\n",
       "\n",
       "\n",
       "  <div class=\"bk-root\" id=\"09a48b29-4f47-404e-99a7-935d0d14f6ad\" data-root-id=\"1208\"></div>\n"
      ]
     },
     "metadata": {},
     "output_type": "display_data"
    },
    {
     "data": {
      "application/javascript": [
       "(function(root) {\n",
       "  function embed_document(root) {\n",
       "    \n",
       "  var docs_json = {\"4ee623ae-ece1-48d1-95b0-1ba97ffbab58\":{\"roots\":{\"references\":[{\"attributes\":{\"below\":[{\"id\":\"1217\"}],\"center\":[{\"id\":\"1220\"},{\"id\":\"1224\"}],\"left\":[{\"id\":\"1221\"}],\"plot_height\":400,\"plot_width\":400,\"renderers\":[{\"id\":\"1242\"}],\"title\":{\"id\":\"1265\"},\"toolbar\":{\"id\":\"1232\"},\"x_range\":{\"id\":\"1209\"},\"x_scale\":{\"id\":\"1213\"},\"y_range\":{\"id\":\"1211\"},\"y_scale\":{\"id\":\"1215\"}},\"id\":\"1208\",\"subtype\":\"Figure\",\"type\":\"Plot\"},{\"attributes\":{\"overlay\":{\"id\":\"1231\"}},\"id\":\"1227\",\"type\":\"BoxZoomTool\"},{\"attributes\":{},\"id\":\"1228\",\"type\":\"SaveTool\"},{\"attributes\":{},\"id\":\"1229\",\"type\":\"ResetTool\"},{\"attributes\":{\"text\":\"\"},\"id\":\"1265\",\"type\":\"Title\"},{\"attributes\":{\"source\":{\"id\":\"1239\"}},\"id\":\"1243\",\"type\":\"CDSView\"},{\"attributes\":{\"data_source\":{\"id\":\"1239\"},\"glyph\":{\"id\":\"1240\"},\"hover_glyph\":null,\"muted_glyph\":null,\"nonselection_glyph\":{\"id\":\"1241\"},\"selection_glyph\":null,\"view\":{\"id\":\"1243\"}},\"id\":\"1242\",\"type\":\"GlyphRenderer\"},{\"attributes\":{\"data\":{\"x\":{\"__ndarray__\":\"6/2d/ASfFUDs6EowRUYUQHIHay5hkCNA6/2d/ASfFUDqPJdhRKkZQGqybXvk/BhAa4jH4mRLFkDrEvHIxPcWQLOi2YgRNSFA6/2d/ASfFUDs6EowRUYUQOzoSjBFRhRAa4jH4mRLFkBoBrqs418eQOzoSjBFRhRA7OhKMEVGFEDs6EowRUYUQOonRJWEUBhA6xLxyMT3FkBo8WbgIwcdQGrHwEekVRpAbHN0FqXyFEDqPJdhRKkZQGuIx+JkSxZA6VHqLQQCG0Ds6EowRUYUQGxzdBal8hRAa50arySkF0BrnRqvJKQXQOiQ45JDDB9Aa4jH4mRLFkDs6EowRUYUQOsS8cjE9xZA6idElYRQGEBoBrqs418eQGuIx+JkSxZA7OhKMEVGFEDs6EowRUYUQGudGq8kpBdA6GY9+sNaHEDrEvHIxPcWQGjxZuAjBx1A7OhKMEVGFEDr/Z38BJ8VQOv9nfwEnxVAbHN0FqXyFEDs6EowRUYUQOv9nfwEnxVAa50arySkF0Ds6EowRUYUQOzoSjBFRhRAbHN0FqXyFEDs6EowRUYUQOo8l2FEqRlA7OhKMEVGFEBz3cSV4d4gQGudGq8kpBdA6jyXYUSpGUBriMfiZEsWQDMtA29x4SFA6xLxyMT3FkBriMfiZEsWQGudGq8kpBdA6/2d/ASfFUDs6EowRUYUQOv9nfwEnxVA6jyXYUSpGUDxpufggJUlQOzoSjBFRhRAMxiworGIIEDs6EowRUYUQGxzdBal8hRAaPFm4CMHHUDs6EowRUYUQGudGq8kpBdAbHN0FqXyFEDs6EowRUYUQGudGq8kpBdA6/2d/ASfFUBriMfiZEsWQOzoSjBFRhRA6xLxyMT3FkBy8hdioTciQGqybXvk/BhA6idElYRQGEAwgU+gcEQnQOzoSjBFRhRA7OhKMEVGFEBsc3QWpfIUQGxzdBal8hRA7OhKMEVGFEDzZ+57QYshQOv9nfwEnxVA7OhKMEVGFEDs6EowRUYUQOhmPfrDWhxA6xLxyMT3FkBqsm175PwYQGuIx+JkSxZAadwTFGSuG0DpUeotBAIbQOzoSjBFRhRA7OhKMEVGFEDoZj36w1ocQGuIx+JkSxZA7OhKMEVGFEDokOOSQwwfQOzoSjBFRhRA7OhKMEVGFEDr/Z38BJ8VQGxzdBal8hRA6GY9+sNaHEBsc3QWpfIUQOzoSjBFRhRA7OhKMEVGFEDs6EowRUYUQGuIx+JkSxZAa4jH4mRLFkBriMfiZEsWQPKRlBTBPCRA6/2d/ASfFUBsc3QWpfIUQGuIx+JkSxZA7OhKMEVGFEBsc3QWpfIUQOzoSjBFRhRA7OhKMEVGFEBrnRqvJKQXQGuIx+JkSxZAaPFm4CMHHUBp3BMUZK4bQHPdxJXh3iBAbHN0FqXyFEDs6EowRUYUQOv9nfwEnxVA6/2d/ASfFUDs6EowRUYUQOsS8cjE9xZAa50arySkF0BoBrqs418eQOzoSjBFRhRA7OhKMEVGFEBriMfiZEsWQGudGq8kpBdA6/2d/ASfFUBrnRqvJKQXQOzoSjBFRhRA6/2d/ASfFUBsc3QWpfIUQOsS8cjE9xZA7OhKMEVGFEDs6EowRUYUQGudGq8kpBdA6xLxyMT3FkBsc3QWpfIUQOonRJWEUBhA6/2d/ASfFUBrnRqvJKQXQOzoSjBFRhRAs6LZiBE1IUBqsm175PwYQGxzdBal8hRA6VHqLQQCG0DrEvHIxPcWQGudGq8kpBdAasfAR6RVGkBrnRqvJKQXQOsS8cjE9xZAa4jH4mRLFkBp3BMUZK4bQOv9nfwEnxVA6/2d/ASfFUBp3BMUZK4bQOzoSjBFRhRAadwTFGSuG0DokOOSQwwfQOo8l2FEqRlA7OhKMEVGFEDqJ0SVhFAYQOv9nfwEnxVA7OhKMEVGFEBriMfiZEsWQOzoSjBFRhRAbHN0FqXyFEDs6EowRUYUQOv9nfwEnxVAa4jH4mRLFkDqPJdhRKkZQDMYsKKxiCBA6/2d/ASfFUDs6EowRUYUQOzoSjBFRhRA6idElYRQGEDs6EowRUYUQOv9nfwEnxVA7OhKMEVGFEDr/Z38BJ8VQOlR6i0EAhtA6/2d/ASfFUBy8hdioTciQHLyF2KhNyJA6/2d/ASfFUBriMfiZEsWQOv9nfwEnxVA7OhKMEVGFEBoBrqs418eQOzoSjBFRhRA6xLxyMT3FkBriMfiZEsWQOsS8cjE9xZA7OhKMEVGFEDr/Z38BJ8VQOv9nfwEnxVA7OhKMEVGFEBqsm175PwYQGxzdBal8hRA8nxBSAHkIkDs6EowRUYUQGudGq8kpBdAa4jH4mRLFkDs6EowRUYUQOzoSjBFRhRAbHN0FqXyFEDs6EowRUYUQGxzdBal8hRA7OhKMEVGFEDpUeotBAIbQGudGq8kpBdA7OhKMEVGFEBqsm175PwYQOzoSjBFRhRA7OhKMEVGFEBriMfiZEsWQOzoSjBFRhRA7OhKMEVGFEDqJ0SVhFAYQGjxZuAjBx1A6/2d/ASfFUBriMfiZEsWQOzoSjBFRhRAMy0Db3HhIUDs6EowRUYUQGxzdBal8hRAarJte+T8GEDs6EowRUYUQOzoSjBFRhRA7OhKMEVGFEDs6EowRUYUQHBbt19g8yhA6idElYRQGEBnGw15o7gfQOzoSjBFRhRA7OhKMEVGFEDqPJdhRKkZQOzoSjBFRhRAbHN0FqXyFEDqJ0SVhFAYQOv9nfwEnxVAbHN0FqXyFEBriMfiZEsWQOzoSjBFRhRAc93EleHeIEBsc3QWpfIUQGqybXvk/BhA6xLxyMT3FkAzLQNvceEhQGxzdBal8hRA8nxBSAHkIkDs6EowRUYUQGxzdBal8hRA6/2d/ASfFUDs6EowRUYUQOzoSjBFRhRA6jyXYUSpGUDrEvHIxPcWQOzoSjBFRhRAbHN0FqXyFEDr/Z38BJ8VQOzoSjBFRhRAaPFm4CMHHUDyfEFIAeQiQOonRJWEUBhAa50arySkF0Bqx8BHpFUaQOzoSjBFRhRAasfAR6RVGkDr/Z38BJ8VQOv9nfwEnxVAarJte+T8GEDs6EowRUYUQDJXqQfxkiRA6/2d/ASfFUBsc3QWpfIUQOzoSjBFRhRAa4jH4mRLFkDqPJdhRKkZQOzoSjBFRhRA7OhKMEVGFEDr/Z38BJ8VQGxzdBal8hRAarJte+T8GEDr/Z38BJ8VQOzoSjBFRhRAbHN0FqXyFEDs6EowRUYUQOzoSjBFRhRA6JDjkkMMH0ByB2suYZAjQOsS8cjE9xZA7OhKMEVGFEBriMfiZEsWQOzoSjBFRhRA7OhKMEVGFEDqJ0SVhFAYQOzoSjBFRhRA6VHqLQQCG0Bsc3QWpfIUQGudGq8kpBdAa4jH4mRLFkBriMfiZEsWQOv9nfwEnxVA7OhKMEVGFEBz3cSV4d4gQOv9nfwEnxVAMlepB/GSJEDr/Z38BJ8VQGncExRkrhtAa4jH4mRLFkBqx8BHpFUaQOzoSjBFRhRA7OhKMEVGFEBrnRqvJKQXQOzoSjBFRhRA6/2d/ASfFUBrnRqvJKQXQGxzdBal8hRA6/2d/ASfFUDs6EowRUYUQOv9nfwEnxVA7OhKMEVGFEDs6EowRUYUQGqybXvk/BhA6/2d/ASfFUDs6EowRUYUQOsS8cjE9xZAarJte+T8GEDs6EowRUYUQGgGuqzjXx5AbHN0FqXyFEBriMfiZEsWQOzoSjBFRhRA7OhKMEVGFEBrnRqvJKQXQGxzdBal8hRA7OhKMEVGFEDpUeotBAIbQOonRJWEUBhA6VHqLQQCG0DrEvHIxPcWQOsS8cjE9xZAa50arySkF0DoZj36w1ocQOsS8cjE9xZA7OhKMEVGFEDqPJdhRKkZQOzoSjBFRhRA6VHqLQQCG0Ds6EowRUYUQOzoSjBFRhRAaAa6rONfHkBy8hdioTciQGudGq8kpBdA7OhKMEVGFEDs6EowRUYUQLK3LFXRjSJAa50arySkF0Dr/Z38BJ8VQOsS8cjE9xZA6/2d/ASfFUBrnRqvJKQXQOzoSjBFRhRAa4jH4mRLFkBriMfiZEsWQOzoSjBFRhRA7OhKMEVGFEDr/Z38BJ8VQOzoSjBFRhRA7OhKMEVGFECzotmIETUhQGuIx+JkSxZA7OhKMEVGFEDs6EowRUYUQLOi2YgRNSFA6/2d/ASfFUDr/Z38BJ8VQOv9nfwEnxVAbHN0FqXyFEDr/Z38BJ8VQGuIx+JkSxZA7OhKMEVGFEBsc3QWpfIUQGuIx+JkSxZA9FKbr4EyIEDs6EowRUYUQGxzdBal8hRA6/2d/ASfFUDr/Z38BJ8VQOzoSjBFRhRA6jyXYUSpGUBsc3QWpfIUQGxzdBal8hRA7OhKMEVGFEDqPJdhRKkZQPRSm6+BMiBA6xLxyMT3FkCytyxV0Y0iQOzoSjBFRhRA6xLxyMT3FkBqx8BHpFUaQOzoSjBFRhRA7OhKMEVGFEDs6EowRUYUQOzoSjBFRhRA7OhKMEVGFEDr/Z38BJ8VQGxzdBal8hRAarJte+T8GEDrEvHIxPcWQOzoSjBFRhRAaPFm4CMHHUCy4dLtUD8lQOzoSjBFRhRA7OhKMEVGFEBnGw15o7gfQOv9nfwEnxVAcvIXYqE3IkBz3cSV4d4gQPKRlBTBPCRAasfAR6RVGkBsc3QWpfIUQGrHwEekVRpA6idElYRQGEDs6EowRUYUQGrHwEekVRpA6VHqLQQCG0Ds6EowRUYUQOh7kMaDsx1A82fue0GLIUBrnRqvJKQXQOhmPfrDWhxA7OhKMEVGFEDs6EowRUYUQOzoSjBFRhRAarJte+T8GEBp3BMUZK4bQGxzdBal8hRA6jyXYUSpGUBriMfiZEsWQOzoSjBFRhRA6/2d/ASfFUBsc3QWpfIUQOonRJWEUBhA6/2d/ASfFUDr/Z38BJ8VQOzoSjBFRhRA7OhKMEVGFEDykZQUwTwkQLOi2YgRNSFAbHN0FqXyFEDr/Z38BJ8VQGxzdBal8hRA7OhKMEVGFEDs6EowRUYUQGuIx+JkSxZAa4jH4mRLFkDs6EowRUYUQGuIx+JkSxZAa4jH4mRLFkDoe5DGg7MdQGxzdBal8hRA7OhKMEVGFEDs6EowRUYUQGcbDXmjuB9A7OhKMEVGFEDs6EowRUYUQGxzdBal8hRAadwTFGSuG0BrnRqvJKQXQGxzdBal8hRA7OhKMEVGFEDr/Z38BJ8VQOzoSjBFRhRA9FKbr4EyIEBsc3QWpfIUQOsS8cjE9xZA\",\"dtype\":\"float64\",\"order\":\"little\",\"shape\":[495]},\"y\":{\"__ndarray__\":\"/iLBtuNC5L/OCLTg4lzjv42tjn2V3/G/kqMLMDGHn786NRFqltjlP+nHZHGgZ/c/L1veZ993xb8ppbCtLArkv0D6KHMiggZAxdqTcOGdzz8QTmQUv6fsPy6yJkSqUvE/4Gh+21ALlr9LNgxPJR0RQLO7pt1AsQxAFtxK9h/C5j/FBxOITX7bv48WWsvZid2/oAMRMmRL1T95Bk3kdenWP3sHREUh/bK/Hg63F3cG9r9WmqrNiha/v7FbB2UjpvI/W/kq8J4+0z+a9vXjz2MBQALXwp9amOK/uZuTkAKVAEDuID7pZWPav8GlNGxQ/OE/L1veZ993xb83R1pKPDzAvzFbwUvwitu//7sFw+NdlT9j7+S+hCPzv+AkZiZtFOi/AznPH7Ad1j/kwm9a9KjpP9oCslN6IfM/rRJn1jTs7L/zFOM1nuDHP7cK6Ir0LP4/LWuUdd3P77+q/Y0UfCnnv2Z1ulu/bOC/gYZOUeLe5b9Jfmlm2xfwv3bT8xrS5O0/iKiatV4I0b89IkKj/wrovxf8bH/UBeG/XrD05fsw4b+grYjhVxT3P7d0miizyxFAxsIVe2LIyb+p1umIqUGOv3JRPlWJT/4/6rNLZ2e/qL/QMyfLxKTkP0ON1Sxn+wlAjm/x1ywDwz8zZo6yFrX0Pwgq5qlw+62/r430LUXd77+3xmvYhwPIP9jIdzQh9AFA3xH6wqYr3L/2BrjGbr0CwFDFvXlvr9i/gDK6ju8O8T/hqy+3UgHUv6f9kFm5/+O/ihCyupVZ1j+Ivxfle2PjP+4gPullY9q/FmRQZu/4xb9KdNA6gkzkv3O05UkMbsw/yTGRVxHU4b9eu4CzqqXlvxf8bH/UBeG/529zHjAg5T8PjrQFuu/LPz8joZaHctc/6lf0HRw+qb97oyhQHVijP84ItODiXOO/oq0mp8Fds7/EMQo0/qPXP5sreP0BJ9e/v95LPIxd3b+AqKDu9aP0P60Hv9juntW/v95LPIxd3b9Qxb15b6/YvzkIZiWWPei/rRxg6gGq4T+Bo5B+T3kEQAsmqkxp4tc/qmEkkeIA/j8o51VdHI2YvzE106Ecw+e/JEJsh7gk9j89CJjVO2nxv3EMfkQG/qm/Qj8Zvb5+0z9Uy6ajWrPwv1DFvXlvr9i/v95LPIxd3b9K19nBs4Tgv1I98+xT5dq/yZM0HLkk8786TENAob2xv+iP+fUobMC/zgi04OJc47/VMXsspH3hvy1nhiiJId+/A1vsO2sG0D/CWGQxQwicv+1hYXdtZwTAWSPsRllx5786TENAob2xv1vHKHRUT+8/aWJ0z/qNlL9BXunqfBHgv0p00DqCTOS/CPImZDJKxb+IqJq1XgjRvzNmjrIWtfQ/BMaImbts8L93keTC8NTsP/Z81hLCoOc/g6TgcRxaw7/XKJlGkeHMP6kmC1sge92/kao+T7Wi5L+sO9BlHLnsv0Fw9WQzPde/kOaD6J9h+j8tFN3m6ZHHv23W/aiLKum/UMW9eW+v2L/9eJiFXg6Qv02Bn8ptEcY/fn14TEGS5b/aArJTeiHzP4EDdJnROt0/N64O+jx/9T862vD4Z2Trv6ADETJkS9U/vPJ9kz705L9GsCiFYCXiv+sUHUDmjOM/QXD1ZDM9178UmDqB9/DvP9hT/6tLFPO/05T56O2GyL/QEfgtzWy5P5QfQV2Tb9E/1r9tIbna/z9eRo6Z0H0DQKLIjggz/gBAFrOJgN4d3L8BlgQ4krXwv6HVxLZZAtc/eT6RpGA5u79QjcBz7efsPxsxWSYt6/M/qd8QVrtlrT/YvMbB7lbrv9uPyhYkTO8/YVcnD2cM1T+OyBkE93PJP2lidM/6jZS/IIX/gEn64b/Qa1ECYYYQQAFX1bxzJu2/ERvur/Nqw7+kFjTg/R/ov8Xak3Dhnc8/V+6ExTDQ1r/8bqHRm7HGP/HPAOWLNOS/oVuwyBf20j8DOc8fsB3WP1IEPAdkDfE/M2aOsha19D+3pZW34/b1PxGBTN2rDNq/24/KFiRM7z+grYjhVxT3P84ItODiXOO/qn2FmbbatL/q1PYCFCLSv+jhmCuKR+g/REsJ78Ar5r+938JCq9jov7kczCwhj/G/mZ7Hl3LdsL+7jehlSXngv64MuK5JT96/yTGRVxHU4b/SKxr2PaPnP/FEAb1m+t6/F/xsf9QF4b8pwL1CAYjgv7/eSzyMXd2/RmzaxdiQ5r+su10AZXLdv0gxmsmu+eS/AznPH7Ad1j/hOU9Ik/nmv+mDMoxWz7Y/zgi04OJc4784uXCw720TQMkjY5m/m/E/X5YlgCAM1b/OCLTg4lzjv4mfK0Gf/qe/iXqBJEUz1j+grYjhVxT3P84ItODiXOO/8esVamdB4L8X/Gx/1AXhv5sreP0BJ9e/mCsxj5Uc5L+dFHnJPkfxv8f5WVE8W+m/VX4VvvHbt7+OtTQhhN0LQL/eSzyMXd2/NIxXVyfy0b925f14u+fwv1HfSIwGJ82/zgi04OJc47+o8Guwocu7P4iq8Jp4ROO/C+md5jLx0L+v9ZPgP7HfvztKaJYrTd6/1qE0vu2K4j/q1PYCFCLSvxTCb9VN7+S/E3dSFGf4ub+KvPz6nkIOQOGrL7dSAdS/zgi04OJc479Dcy/i7G3cv3/X1F+G9fG/ELceEAi97b9Kv5sO41bfv7/eSzyMXd2/GkS1+7SLwb9WmqrNiha/v6QYoJB4ZOS/0BodAOKuuT/2kPBidXLjv4GdUYxpQsY/qf6ITWqWy7/h4iJxC9Tov72ZTi+hp8u/8pC8UtuOCEBprJgUXOnRv9J/UBlTYd+/jm/x1ywDwz+2RCSGVB7bv0CujP5FcPA/7p+04k4m7r9Qxb15b6/Yv3CboRvvh+O/Ha9uCexWvr+oL+AzGgzaP6w70GUcuey/w/WyX41q3r8wI99/ucaGP4d6GtiQreG//xFFa3DZxL93gGzQkm3Yv/HPAOWLNOS/ywy9NUKM17/MK+DNsZP7v1QeRDw26uO/DDnzGL5j1D8ChzCHuMTwvyllO7r47tI/XtoPHI0m4z9rULJJzYHmv/FEAb1m+t6/2LOEKKRQ77/OCLTg4lzjvzuK4OE/IvO/yTGRVxHU4b8Uwm/VTe/kv2+gPNXKHeG/0W1dq5/j5j+EOj7plt7sv0GatqzoKas/AznPH7Ad1j/JMZFXEdThv0okXxMYZ+W/8apvMnoi3b+DzH5VOFrfv+GrL7dSAdS/gYZOUeLe5b8Q06UzE+Xiv76qtrYUUHa/tULqpFUD/T//9mONAMwDQI5v8dcsA8M/QZq2rOgpqz84Jpx43VPNv5qQUCU1FuC/zgi04OJc47/c9cZtr//lP1Q1LYGuo8c/tvW+5I53+D/x6xVqZ0Hgv3OxVQ7QQN+/kO7t5Pqw2j/wgf1hFuq/P04gqkE14v8/CPImZDJKxb/7q45z+4j5v1kj7EZZcee/tOKqu3pW9j9PJuDKqkzav2Rum2FARt+/rLtdAGVy3b9gGPuKuLruv76qtrYUUHa/K5lR3ybe27+IqJq1XgjRv0L4cAFBq8K/Z72wa8mYAECtG3GEegTnv9iaAmOZuMa/N64O+jx/9T+YKzGPlRzkv0MlXxpKwdC/clJd4szL2j8W3Er2H8LmP9gmLRa3U+m/5s9x8Ry84b8I8iZkMkrFv3SDePPxYOa/MXRWUtun0r9Qxb15b6/YvwLPMN9+p/O/FMJv1U3v5L8EhK9sgs/KP9iQA0wmq+e/CPImZDJKxb/tYM444wLqvy1ymj8rBdU/4XGBg9QZvb8rpEffssWMP5cQbiAx7+Y/Vv3xN8Uq6L/+UtKD6aLiv72z3b94EPk/zHyIr4jL6L8vSWs3oh3jP8QKy+9/JOw/ILJ5VGFi0b/8TNDKPZbwv5qQUCU1FuC/148uEYooyb/OCLTg4lzjv+79vU7VQtC/Ia2Gsuiv4r++jVA0YsvQP1lZPlRD0/4/n3wezoJ/2L9RnZeGQ23iv98vIQc4gve/ZRb41jBv9z9Hw3c5zpnjP0tdK2DGqN+/hODg3R1FzL+IqJq1XgjRv0p00DqCTOS/Uj6uGLiz5j+Vu2TqqrnqP5grMY+VHOS/AznPH7Ad1j/F2pNw4Z3PP9cwG1x2yYg/4asvt1IB1L9GCY7ogjTgv4eYEYRQgKW/zgi04OJc479KdNA6gkzkv2CHwZrOIOa/nSWKqr/v078bwaFQ7yrkv9mVhqbkWuE/euRtwEDV1D/GCloEPdKwP5mzVxUkuO0/1TF7LKR94b8Uwm/VTe/kv+AkZiZtFOi/hJWE7rmn9D/+vG/mbnzkv5QS5CPGqOG/BQxrqqx81D8u8mKOYEb3PwjyJmQySsW/vBYqbW7F8D+hr8ZtabXav1xfhB0rrPA/gw8DKXBd9D9bPuNGiIqZv2S+CGoOPPO/t6N9pqWsEEDoUiw2AJriP7/eSzyMXd2/zuyjgS9Qsz+nL/cRgj0CQLBYp3/bLNg/Q3Mv4uxt3L/OCLTg4lzjv4EDdJnROt0/zgi04OJc478bwaFQ7yrkvz6ivouAfPG/E3dSFGf4ub/nb3MeMCDlP0p00DqCTOS/AspajkGU8r8vgVJBHZbzv+GrL7dSAdS/lB9BXZNv0T8eECVLew/yv/FEAb1m+t6/kY8wRe6J/L8fS3WFoy/3v2YHlnHSCgHAyUFjfdZ/47+UEuQjxqjhv/N5hF4VuMe/fpwrh8754T/OCLTg4lzjv75QHZrwo92/rHYwcHQy87/OCLTg4lzjv8HOPG31aOu/9yhC+wyHBEDei5ElATzlPzjDLXu+veI/F/xsf9QF4b8I8iZkMkrFvwjyJmQySsW/Y+VNHYi8579ijKX+jHq/v4GGTlHi3uW/Fuele/GDzr+nyb61wEjvv2lidM/6jZS/XoCkVQte6z+Bhk5R4t7lv7iJ9AsNp6k/HxZk6aYB0L9tm0MeEuPjv7FqLij7peC/WcZe0gSO4L+jdM/O8IzmP6pqulonPPC/ICnOmtm3479ZI+xGWXHnv7Ys6PAGUfC/pBigkHhk5L9KdNA6gkzkv/y0+jFZYwxAAgg210VQyT/AtiVJYBvnvwcRnLGCxNM/W4FK089m478bx26vFVfRvxTCb9VN7+S/xsIVe2LIyb+grYjhVxT3P68phf2O9eu/MZT6Hjtm8j/G6YXAegfxv1aLvdijL+S/deQrHzCP5j9wsZZMxb7dP2RS1XadOsK/XV70zG/ExT+wI1pa9HEGQEHm6VghMuq/f++4pyAX8L+oj4ZkX5b9PzSpQzNXN/s/\",\"dtype\":\"float64\",\"order\":\"little\",\"shape\":[495]}},\"selected\":{\"id\":\"1272\"},\"selection_policy\":{\"id\":\"1271\"}},\"id\":\"1239\",\"type\":\"ColumnDataSource\"},{\"attributes\":{\"fill_alpha\":{\"value\":0.1},\"fill_color\":{\"value\":\"#1f77b4\"},\"line_alpha\":{\"value\":0.1},\"line_color\":{\"value\":\"#1f77b4\"},\"x\":{\"field\":\"x\"},\"y\":{\"field\":\"y\"}},\"id\":\"1241\",\"type\":\"Circle\"},{\"attributes\":{\"bottom_units\":\"screen\",\"fill_alpha\":0.5,\"fill_color\":\"lightgrey\",\"left_units\":\"screen\",\"level\":\"overlay\",\"line_alpha\":1.0,\"line_color\":\"black\",\"line_dash\":[4,4],\"line_width\":2,\"right_units\":\"screen\",\"top_units\":\"screen\"},\"id\":\"1231\",\"type\":\"BoxAnnotation\"},{\"attributes\":{},\"id\":\"1267\",\"type\":\"BasicTickFormatter\"},{\"attributes\":{\"fill_color\":{\"value\":\"#1f77b4\"},\"line_color\":{\"value\":\"#1f77b4\"},\"x\":{\"field\":\"x\"},\"y\":{\"field\":\"y\"}},\"id\":\"1240\",\"type\":\"Circle\"},{\"attributes\":{},\"id\":\"1209\",\"type\":\"DataRange1d\"},{\"attributes\":{},\"id\":\"1269\",\"type\":\"BasicTickFormatter\"},{\"attributes\":{\"formatter\":{\"id\":\"1269\"},\"ticker\":{\"id\":\"1218\"}},\"id\":\"1217\",\"type\":\"LinearAxis\"},{\"attributes\":{},\"id\":\"1213\",\"type\":\"LinearScale\"},{\"attributes\":{\"formatter\":{\"id\":\"1267\"},\"ticker\":{\"id\":\"1222\"}},\"id\":\"1221\",\"type\":\"LinearAxis\"},{\"attributes\":{},\"id\":\"1211\",\"type\":\"DataRange1d\"},{\"attributes\":{},\"id\":\"1215\",\"type\":\"LinearScale\"},{\"attributes\":{},\"id\":\"1230\",\"type\":\"HelpTool\"},{\"attributes\":{},\"id\":\"1218\",\"type\":\"BasicTicker\"},{\"attributes\":{\"axis\":{\"id\":\"1217\"},\"ticker\":null},\"id\":\"1220\",\"type\":\"Grid\"},{\"attributes\":{\"axis\":{\"id\":\"1221\"},\"dimension\":1,\"ticker\":null},\"id\":\"1224\",\"type\":\"Grid\"},{\"attributes\":{},\"id\":\"1222\",\"type\":\"BasicTicker\"},{\"attributes\":{},\"id\":\"1271\",\"type\":\"UnionRenderers\"},{\"attributes\":{},\"id\":\"1272\",\"type\":\"Selection\"},{\"attributes\":{},\"id\":\"1226\",\"type\":\"WheelZoomTool\"},{\"attributes\":{\"active_drag\":\"auto\",\"active_inspect\":\"auto\",\"active_multi\":null,\"active_scroll\":\"auto\",\"active_tap\":\"auto\",\"tools\":[{\"id\":\"1225\"},{\"id\":\"1226\"},{\"id\":\"1227\"},{\"id\":\"1228\"},{\"id\":\"1229\"},{\"id\":\"1230\"}]},\"id\":\"1232\",\"type\":\"Toolbar\"},{\"attributes\":{},\"id\":\"1225\",\"type\":\"PanTool\"}],\"root_ids\":[\"1208\"]},\"title\":\"Bokeh Application\",\"version\":\"2.2.3\"}};\n",
       "  var render_items = [{\"docid\":\"4ee623ae-ece1-48d1-95b0-1ba97ffbab58\",\"root_ids\":[\"1208\"],\"roots\":{\"1208\":\"09a48b29-4f47-404e-99a7-935d0d14f6ad\"}}];\n",
       "  root.Bokeh.embed.embed_items_notebook(docs_json, render_items);\n",
       "\n",
       "  }\n",
       "  if (root.Bokeh !== undefined) {\n",
       "    embed_document(root);\n",
       "  } else {\n",
       "    var attempts = 0;\n",
       "    var timer = setInterval(function(root) {\n",
       "      if (root.Bokeh !== undefined) {\n",
       "        clearInterval(timer);\n",
       "        embed_document(root);\n",
       "      } else {\n",
       "        attempts++;\n",
       "        if (attempts > 100) {\n",
       "          clearInterval(timer);\n",
       "          console.log(\"Bokeh: ERROR: Unable to run BokehJS code because BokehJS library is missing\");\n",
       "        }\n",
       "      }\n",
       "    }, 10, root)\n",
       "  }\n",
       "})(window);"
      ],
      "application/vnd.bokehjs_exec.v0+json": ""
     },
     "metadata": {
      "application/vnd.bokehjs_exec.v0+json": {
       "id": "1208"
      }
     },
     "output_type": "display_data"
    }
   ],
   "source": [
    "fig = figure(height=400, width=400)\n",
    "\n",
    "# the x axis is the fitted values\n",
    "# the y axis is the standardized residuals\n",
    "st_resids = model.get_influence().resid_studentized_internal\n",
    "fig.circle(model.fittedvalues, st_resids)\n",
    "\n",
    "show(fig)"
   ]
  },
  {
   "cell_type": "markdown",
   "metadata": {},
   "source": [
    "We see that the residuals are randomly scattered around zero, and there is no apparent pattern to the residuals, which suggests that a linear model is appropriate for this relationship (if there was a pattern, such as a U-shape, this would indicate a non-linear relationship).\n",
    "\n",
    "We can also build a histogram of the standardized residuals:"
   ]
  },
  {
   "cell_type": "code",
   "execution_count": 39,
   "metadata": {},
   "outputs": [],
   "source": [
    "import numpy as np\n",
    "\n",
    "# create a histogram with 10 bins\n",
    "hist, edges = np.histogram(st_resids, bins=10)"
   ]
  },
  {
   "cell_type": "code",
   "execution_count": 40,
   "metadata": {},
   "outputs": [
    {
     "data": {
      "text/html": [
       "\n",
       "\n",
       "\n",
       "\n",
       "\n",
       "\n",
       "  <div class=\"bk-root\" id=\"7820f0c7-5a39-4f1e-b9e5-5097448d6471\" data-root-id=\"1318\"></div>\n"
      ]
     },
     "metadata": {},
     "output_type": "display_data"
    },
    {
     "data": {
      "application/javascript": [
       "(function(root) {\n",
       "  function embed_document(root) {\n",
       "    \n",
       "  var docs_json = {\"a7fda9bf-d0a6-4dfa-93cc-0dd32790801d\":{\"roots\":{\"references\":[{\"attributes\":{\"below\":[{\"id\":\"1327\"}],\"center\":[{\"id\":\"1330\"},{\"id\":\"1334\"}],\"left\":[{\"id\":\"1331\"}],\"plot_height\":400,\"plot_width\":400,\"renderers\":[{\"id\":\"1352\"}],\"title\":{\"id\":\"1384\"},\"toolbar\":{\"id\":\"1342\"},\"x_range\":{\"id\":\"1319\"},\"x_scale\":{\"id\":\"1323\"},\"y_range\":{\"id\":\"1321\"},\"y_scale\":{\"id\":\"1325\"}},\"id\":\"1318\",\"subtype\":\"Figure\",\"type\":\"Plot\"},{\"attributes\":{\"bottom_units\":\"screen\",\"fill_alpha\":0.5,\"fill_color\":\"lightgrey\",\"left_units\":\"screen\",\"level\":\"overlay\",\"line_alpha\":1.0,\"line_color\":\"black\",\"line_dash\":[4,4],\"line_width\":2,\"right_units\":\"screen\",\"top_units\":\"screen\"},\"id\":\"1341\",\"type\":\"BoxAnnotation\"},{\"attributes\":{},\"id\":\"1335\",\"type\":\"PanTool\"},{\"attributes\":{\"axis\":{\"id\":\"1331\"},\"dimension\":1,\"ticker\":null},\"id\":\"1334\",\"type\":\"Grid\"},{\"attributes\":{},\"id\":\"1390\",\"type\":\"UnionRenderers\"},{\"attributes\":{},\"id\":\"1391\",\"type\":\"Selection\"},{\"attributes\":{\"text\":\"\"},\"id\":\"1384\",\"type\":\"Title\"},{\"attributes\":{\"data_source\":{\"id\":\"1349\"},\"glyph\":{\"id\":\"1350\"},\"hover_glyph\":null,\"muted_glyph\":null,\"nonselection_glyph\":{\"id\":\"1351\"},\"selection_glyph\":null,\"view\":{\"id\":\"1353\"}},\"id\":\"1352\",\"type\":\"GlyphRenderer\"},{\"attributes\":{\"bottom\":{\"value\":0},\"fill_color\":{\"value\":\"#1f77b4\"},\"left\":{\"field\":\"left\"},\"line_color\":{\"value\":\"white\"},\"right\":{\"field\":\"right\"},\"top\":{\"field\":\"top\"}},\"id\":\"1350\",\"type\":\"Quad\"},{\"attributes\":{\"data\":{\"left\":{\"__ndarray__\":\"7WFhd21nBMCUzBtdmPT8v0/VdMtVGvG/KHg350wA1b/wZGRfvWjaP4IQgOlxdPI/xgcne7RO/j+H/2aGexQFQCl7Os+cAQtAZvsGDF93EEA=\",\"dtype\":\"float64\",\"order\":\"little\",\"shape\":[10]},\"right\":{\"__ndarray__\":\"lMwbXZj0/L9P1XTLVRrxvyh4N+dMANW/8GRkX71o2j+CEIDpcXTyP8YHJ3u0Tv4/h/9mhnsUBUApezrPnAELQGb7BgxfdxBAOLlwsO9tE0A=\",\"dtype\":\"float64\",\"order\":\"little\",\"shape\":[10]},\"top\":[3,22,209,150,54,30,14,4,4,5]},\"selected\":{\"id\":\"1391\"},\"selection_policy\":{\"id\":\"1390\"}},\"id\":\"1349\",\"type\":\"ColumnDataSource\"},{\"attributes\":{},\"id\":\"1319\",\"type\":\"DataRange1d\"},{\"attributes\":{},\"id\":\"1332\",\"type\":\"BasicTicker\"},{\"attributes\":{\"formatter\":{\"id\":\"1388\"},\"ticker\":{\"id\":\"1328\"}},\"id\":\"1327\",\"type\":\"LinearAxis\"},{\"attributes\":{},\"id\":\"1323\",\"type\":\"LinearScale\"},{\"attributes\":{},\"id\":\"1321\",\"type\":\"DataRange1d\"},{\"attributes\":{},\"id\":\"1325\",\"type\":\"LinearScale\"},{\"attributes\":{},\"id\":\"1340\",\"type\":\"HelpTool\"},{\"attributes\":{\"active_drag\":\"auto\",\"active_inspect\":\"auto\",\"active_multi\":null,\"active_scroll\":\"auto\",\"active_tap\":\"auto\",\"tools\":[{\"id\":\"1335\"},{\"id\":\"1336\"},{\"id\":\"1337\"},{\"id\":\"1338\"},{\"id\":\"1339\"},{\"id\":\"1340\"}]},\"id\":\"1342\",\"type\":\"Toolbar\"},{\"attributes\":{},\"id\":\"1328\",\"type\":\"BasicTicker\"},{\"attributes\":{\"axis\":{\"id\":\"1327\"},\"ticker\":null},\"id\":\"1330\",\"type\":\"Grid\"},{\"attributes\":{},\"id\":\"1386\",\"type\":\"BasicTickFormatter\"},{\"attributes\":{\"bottom\":{\"value\":0},\"fill_alpha\":{\"value\":0.1},\"fill_color\":{\"value\":\"#1f77b4\"},\"left\":{\"field\":\"left\"},\"line_alpha\":{\"value\":0.1},\"line_color\":{\"value\":\"white\"},\"right\":{\"field\":\"right\"},\"top\":{\"field\":\"top\"}},\"id\":\"1351\",\"type\":\"Quad\"},{\"attributes\":{\"formatter\":{\"id\":\"1386\"},\"ticker\":{\"id\":\"1332\"}},\"id\":\"1331\",\"type\":\"LinearAxis\"},{\"attributes\":{},\"id\":\"1388\",\"type\":\"BasicTickFormatter\"},{\"attributes\":{\"overlay\":{\"id\":\"1341\"}},\"id\":\"1337\",\"type\":\"BoxZoomTool\"},{\"attributes\":{},\"id\":\"1336\",\"type\":\"WheelZoomTool\"},{\"attributes\":{},\"id\":\"1338\",\"type\":\"SaveTool\"},{\"attributes\":{\"source\":{\"id\":\"1349\"}},\"id\":\"1353\",\"type\":\"CDSView\"},{\"attributes\":{},\"id\":\"1339\",\"type\":\"ResetTool\"}],\"root_ids\":[\"1318\"]},\"title\":\"Bokeh Application\",\"version\":\"2.2.3\"}};\n",
       "  var render_items = [{\"docid\":\"a7fda9bf-d0a6-4dfa-93cc-0dd32790801d\",\"root_ids\":[\"1318\"],\"roots\":{\"1318\":\"7820f0c7-5a39-4f1e-b9e5-5097448d6471\"}}];\n",
       "  root.Bokeh.embed.embed_items_notebook(docs_json, render_items);\n",
       "\n",
       "  }\n",
       "  if (root.Bokeh !== undefined) {\n",
       "    embed_document(root);\n",
       "  } else {\n",
       "    var attempts = 0;\n",
       "    var timer = setInterval(function(root) {\n",
       "      if (root.Bokeh !== undefined) {\n",
       "        clearInterval(timer);\n",
       "        embed_document(root);\n",
       "      } else {\n",
       "        attempts++;\n",
       "        if (attempts > 100) {\n",
       "          clearInterval(timer);\n",
       "          console.log(\"Bokeh: ERROR: Unable to run BokehJS code because BokehJS library is missing\");\n",
       "        }\n",
       "      }\n",
       "    }, 10, root)\n",
       "  }\n",
       "})(window);"
      ],
      "application/vnd.bokehjs_exec.v0+json": ""
     },
     "metadata": {
      "application/vnd.bokehjs_exec.v0+json": {
       "id": "1318"
      }
     },
     "output_type": "display_data"
    }
   ],
   "source": [
    "fig = figure(height=400, width=400)\n",
    "fig.quad(top=hist, bottom=0, left=edges[:-1], right=edges[1:], line_color=\"white\")\n",
    "show(fig)"
   ]
  },
  {
   "cell_type": "markdown",
   "metadata": {},
   "source": [
    "If we look at the third table in the summary of the model, it contains the results of the Jarque-Bera test on the residuals, which tests for the normality of their distribution. The p-value of the Jarque-Bera statistic is 2.72e-135, which means that we would reject the null hypothesis of normally distribution of errors at the 0.1 significance level and also reject it at the 0.05 level. In other words, this is not a normal distribution\n"
   ]
  },
  {
   "cell_type": "markdown",
   "metadata": {},
   "source": [
    "### Multiple Linear Regression "
   ]
  },
  {
   "cell_type": "markdown",
   "metadata": {},
   "source": [
    "In this model, we establish the relationship of  several independent variables such as years_in_education, years_in_employment, num_dependents, gender, race and married and determine how it impacts our dependent variable which is hourly_wage. \n",
    "\n",
    "Multiple Linear Regression is performed because the model contains more than one independent variable.\n",
    "\n",
    "In this model, we will check which variables have a good impact on the hourly wage of people"
   ]
  },
  {
   "cell_type": "code",
   "execution_count": 41,
   "metadata": {},
   "outputs": [
    {
     "data": {
      "text/html": [
       "\n",
       "    <div class=\"bk-root\">\n",
       "        <a href=\"https://bokeh.org\" target=\"_blank\" class=\"bk-logo bk-logo-small bk-logo-notebook\"></a>\n",
       "        <span id=\"1437\">Loading BokehJS ...</span>\n",
       "    </div>"
      ]
     },
     "metadata": {},
     "output_type": "display_data"
    },
    {
     "data": {
      "application/javascript": [
       "\n",
       "(function(root) {\n",
       "  function now() {\n",
       "    return new Date();\n",
       "  }\n",
       "\n",
       "  var force = true;\n",
       "\n",
       "  if (typeof root._bokeh_onload_callbacks === \"undefined\" || force === true) {\n",
       "    root._bokeh_onload_callbacks = [];\n",
       "    root._bokeh_is_loading = undefined;\n",
       "  }\n",
       "\n",
       "  var JS_MIME_TYPE = 'application/javascript';\n",
       "  var HTML_MIME_TYPE = 'text/html';\n",
       "  var EXEC_MIME_TYPE = 'application/vnd.bokehjs_exec.v0+json';\n",
       "  var CLASS_NAME = 'output_bokeh rendered_html';\n",
       "\n",
       "  /**\n",
       "   * Render data to the DOM node\n",
       "   */\n",
       "  function render(props, node) {\n",
       "    var script = document.createElement(\"script\");\n",
       "    node.appendChild(script);\n",
       "  }\n",
       "\n",
       "  /**\n",
       "   * Handle when an output is cleared or removed\n",
       "   */\n",
       "  function handleClearOutput(event, handle) {\n",
       "    var cell = handle.cell;\n",
       "\n",
       "    var id = cell.output_area._bokeh_element_id;\n",
       "    var server_id = cell.output_area._bokeh_server_id;\n",
       "    // Clean up Bokeh references\n",
       "    if (id != null && id in Bokeh.index) {\n",
       "      Bokeh.index[id].model.document.clear();\n",
       "      delete Bokeh.index[id];\n",
       "    }\n",
       "\n",
       "    if (server_id !== undefined) {\n",
       "      // Clean up Bokeh references\n",
       "      var cmd = \"from bokeh.io.state import curstate; print(curstate().uuid_to_server['\" + server_id + \"'].get_sessions()[0].document.roots[0]._id)\";\n",
       "      cell.notebook.kernel.execute(cmd, {\n",
       "        iopub: {\n",
       "          output: function(msg) {\n",
       "            var id = msg.content.text.trim();\n",
       "            if (id in Bokeh.index) {\n",
       "              Bokeh.index[id].model.document.clear();\n",
       "              delete Bokeh.index[id];\n",
       "            }\n",
       "          }\n",
       "        }\n",
       "      });\n",
       "      // Destroy server and session\n",
       "      var cmd = \"import bokeh.io.notebook as ion; ion.destroy_server('\" + server_id + \"')\";\n",
       "      cell.notebook.kernel.execute(cmd);\n",
       "    }\n",
       "  }\n",
       "\n",
       "  /**\n",
       "   * Handle when a new output is added\n",
       "   */\n",
       "  function handleAddOutput(event, handle) {\n",
       "    var output_area = handle.output_area;\n",
       "    var output = handle.output;\n",
       "\n",
       "    // limit handleAddOutput to display_data with EXEC_MIME_TYPE content only\n",
       "    if ((output.output_type != \"display_data\") || (!output.data.hasOwnProperty(EXEC_MIME_TYPE))) {\n",
       "      return\n",
       "    }\n",
       "\n",
       "    var toinsert = output_area.element.find(\".\" + CLASS_NAME.split(' ')[0]);\n",
       "\n",
       "    if (output.metadata[EXEC_MIME_TYPE][\"id\"] !== undefined) {\n",
       "      toinsert[toinsert.length - 1].firstChild.textContent = output.data[JS_MIME_TYPE];\n",
       "      // store reference to embed id on output_area\n",
       "      output_area._bokeh_element_id = output.metadata[EXEC_MIME_TYPE][\"id\"];\n",
       "    }\n",
       "    if (output.metadata[EXEC_MIME_TYPE][\"server_id\"] !== undefined) {\n",
       "      var bk_div = document.createElement(\"div\");\n",
       "      bk_div.innerHTML = output.data[HTML_MIME_TYPE];\n",
       "      var script_attrs = bk_div.children[0].attributes;\n",
       "      for (var i = 0; i < script_attrs.length; i++) {\n",
       "        toinsert[toinsert.length - 1].firstChild.setAttribute(script_attrs[i].name, script_attrs[i].value);\n",
       "        toinsert[toinsert.length - 1].firstChild.textContent = bk_div.children[0].textContent\n",
       "      }\n",
       "      // store reference to server id on output_area\n",
       "      output_area._bokeh_server_id = output.metadata[EXEC_MIME_TYPE][\"server_id\"];\n",
       "    }\n",
       "  }\n",
       "\n",
       "  function register_renderer(events, OutputArea) {\n",
       "\n",
       "    function append_mime(data, metadata, element) {\n",
       "      // create a DOM node to render to\n",
       "      var toinsert = this.create_output_subarea(\n",
       "        metadata,\n",
       "        CLASS_NAME,\n",
       "        EXEC_MIME_TYPE\n",
       "      );\n",
       "      this.keyboard_manager.register_events(toinsert);\n",
       "      // Render to node\n",
       "      var props = {data: data, metadata: metadata[EXEC_MIME_TYPE]};\n",
       "      render(props, toinsert[toinsert.length - 1]);\n",
       "      element.append(toinsert);\n",
       "      return toinsert\n",
       "    }\n",
       "\n",
       "    /* Handle when an output is cleared or removed */\n",
       "    events.on('clear_output.CodeCell', handleClearOutput);\n",
       "    events.on('delete.Cell', handleClearOutput);\n",
       "\n",
       "    /* Handle when a new output is added */\n",
       "    events.on('output_added.OutputArea', handleAddOutput);\n",
       "\n",
       "    /**\n",
       "     * Register the mime type and append_mime function with output_area\n",
       "     */\n",
       "    OutputArea.prototype.register_mime_type(EXEC_MIME_TYPE, append_mime, {\n",
       "      /* Is output safe? */\n",
       "      safe: true,\n",
       "      /* Index of renderer in `output_area.display_order` */\n",
       "      index: 0\n",
       "    });\n",
       "  }\n",
       "\n",
       "  // register the mime type if in Jupyter Notebook environment and previously unregistered\n",
       "  if (root.Jupyter !== undefined) {\n",
       "    var events = require('base/js/events');\n",
       "    var OutputArea = require('notebook/js/outputarea').OutputArea;\n",
       "\n",
       "    if (OutputArea.prototype.mime_types().indexOf(EXEC_MIME_TYPE) == -1) {\n",
       "      register_renderer(events, OutputArea);\n",
       "    }\n",
       "  }\n",
       "\n",
       "  \n",
       "  if (typeof (root._bokeh_timeout) === \"undefined\" || force === true) {\n",
       "    root._bokeh_timeout = Date.now() + 5000;\n",
       "    root._bokeh_failed_load = false;\n",
       "  }\n",
       "\n",
       "  var NB_LOAD_WARNING = {'data': {'text/html':\n",
       "     \"<div style='background-color: #fdd'>\\n\"+\n",
       "     \"<p>\\n\"+\n",
       "     \"BokehJS does not appear to have successfully loaded. If loading BokehJS from CDN, this \\n\"+\n",
       "     \"may be due to a slow or bad network connection. Possible fixes:\\n\"+\n",
       "     \"</p>\\n\"+\n",
       "     \"<ul>\\n\"+\n",
       "     \"<li>re-rerun `output_notebook()` to attempt to load from CDN again, or</li>\\n\"+\n",
       "     \"<li>use INLINE resources instead, as so:</li>\\n\"+\n",
       "     \"</ul>\\n\"+\n",
       "     \"<code>\\n\"+\n",
       "     \"from bokeh.resources import INLINE\\n\"+\n",
       "     \"output_notebook(resources=INLINE)\\n\"+\n",
       "     \"</code>\\n\"+\n",
       "     \"</div>\"}};\n",
       "\n",
       "  function display_loaded() {\n",
       "    var el = document.getElementById(\"1437\");\n",
       "    if (el != null) {\n",
       "      el.textContent = \"BokehJS is loading...\";\n",
       "    }\n",
       "    if (root.Bokeh !== undefined) {\n",
       "      if (el != null) {\n",
       "        el.textContent = \"BokehJS \" + root.Bokeh.version + \" successfully loaded.\";\n",
       "      }\n",
       "    } else if (Date.now() < root._bokeh_timeout) {\n",
       "      setTimeout(display_loaded, 100)\n",
       "    }\n",
       "  }\n",
       "\n",
       "\n",
       "  function run_callbacks() {\n",
       "    try {\n",
       "      root._bokeh_onload_callbacks.forEach(function(callback) {\n",
       "        if (callback != null)\n",
       "          callback();\n",
       "      });\n",
       "    } finally {\n",
       "      delete root._bokeh_onload_callbacks\n",
       "    }\n",
       "    console.debug(\"Bokeh: all callbacks have finished\");\n",
       "  }\n",
       "\n",
       "  function load_libs(css_urls, js_urls, callback) {\n",
       "    if (css_urls == null) css_urls = [];\n",
       "    if (js_urls == null) js_urls = [];\n",
       "\n",
       "    root._bokeh_onload_callbacks.push(callback);\n",
       "    if (root._bokeh_is_loading > 0) {\n",
       "      console.debug(\"Bokeh: BokehJS is being loaded, scheduling callback at\", now());\n",
       "      return null;\n",
       "    }\n",
       "    if (js_urls == null || js_urls.length === 0) {\n",
       "      run_callbacks();\n",
       "      return null;\n",
       "    }\n",
       "    console.debug(\"Bokeh: BokehJS not loaded, scheduling load and callback at\", now());\n",
       "    root._bokeh_is_loading = css_urls.length + js_urls.length;\n",
       "\n",
       "    function on_load() {\n",
       "      root._bokeh_is_loading--;\n",
       "      if (root._bokeh_is_loading === 0) {\n",
       "        console.debug(\"Bokeh: all BokehJS libraries/stylesheets loaded\");\n",
       "        run_callbacks()\n",
       "      }\n",
       "    }\n",
       "\n",
       "    function on_error() {\n",
       "      console.error(\"failed to load \" + url);\n",
       "    }\n",
       "\n",
       "    for (var i = 0; i < css_urls.length; i++) {\n",
       "      var url = css_urls[i];\n",
       "      const element = document.createElement(\"link\");\n",
       "      element.onload = on_load;\n",
       "      element.onerror = on_error;\n",
       "      element.rel = \"stylesheet\";\n",
       "      element.type = \"text/css\";\n",
       "      element.href = url;\n",
       "      console.debug(\"Bokeh: injecting link tag for BokehJS stylesheet: \", url);\n",
       "      document.body.appendChild(element);\n",
       "    }\n",
       "\n",
       "    const hashes = {\"https://cdn.bokeh.org/bokeh/release/bokeh-2.2.3.min.js\": \"T2yuo9Oe71Cz/I4X9Ac5+gpEa5a8PpJCDlqKYO0CfAuEszu1JrXLl8YugMqYe3sM\", \"https://cdn.bokeh.org/bokeh/release/bokeh-widgets-2.2.3.min.js\": \"98GDGJ0kOMCUMUePhksaQ/GYgB3+NH9h996V88sh3aOiUNX3N+fLXAtry6xctSZ6\", \"https://cdn.bokeh.org/bokeh/release/bokeh-tables-2.2.3.min.js\": \"89bArO+nlbP3sgakeHjCo1JYxYR5wufVgA3IbUvDY+K7w4zyxJqssu7wVnfeKCq8\"};\n",
       "\n",
       "    for (var i = 0; i < js_urls.length; i++) {\n",
       "      var url = js_urls[i];\n",
       "      var element = document.createElement('script');\n",
       "      element.onload = on_load;\n",
       "      element.onerror = on_error;\n",
       "      element.async = false;\n",
       "      element.src = url;\n",
       "      if (url in hashes) {\n",
       "        element.crossOrigin = \"anonymous\";\n",
       "        element.integrity = \"sha384-\" + hashes[url];\n",
       "      }\n",
       "      console.debug(\"Bokeh: injecting script tag for BokehJS library: \", url);\n",
       "      document.head.appendChild(element);\n",
       "    }\n",
       "  };\n",
       "\n",
       "  function inject_raw_css(css) {\n",
       "    const element = document.createElement(\"style\");\n",
       "    element.appendChild(document.createTextNode(css));\n",
       "    document.body.appendChild(element);\n",
       "  }\n",
       "\n",
       "  \n",
       "  var js_urls = [\"https://cdn.bokeh.org/bokeh/release/bokeh-2.2.3.min.js\", \"https://cdn.bokeh.org/bokeh/release/bokeh-widgets-2.2.3.min.js\", \"https://cdn.bokeh.org/bokeh/release/bokeh-tables-2.2.3.min.js\"];\n",
       "  var css_urls = [];\n",
       "  \n",
       "\n",
       "  var inline_js = [\n",
       "    function(Bokeh) {\n",
       "      Bokeh.set_log_level(\"info\");\n",
       "    },\n",
       "    function(Bokeh) {\n",
       "    \n",
       "    \n",
       "    }\n",
       "  ];\n",
       "\n",
       "  function run_inline_js() {\n",
       "    \n",
       "    if (root.Bokeh !== undefined || force === true) {\n",
       "      \n",
       "    for (var i = 0; i < inline_js.length; i++) {\n",
       "      inline_js[i].call(root, root.Bokeh);\n",
       "    }\n",
       "    if (force === true) {\n",
       "        display_loaded();\n",
       "      }} else if (Date.now() < root._bokeh_timeout) {\n",
       "      setTimeout(run_inline_js, 100);\n",
       "    } else if (!root._bokeh_failed_load) {\n",
       "      console.log(\"Bokeh: BokehJS failed to load within specified timeout.\");\n",
       "      root._bokeh_failed_load = true;\n",
       "    } else if (force !== true) {\n",
       "      var cell = $(document.getElementById(\"1437\")).parents('.cell').data().cell;\n",
       "      cell.output_area.append_execute_result(NB_LOAD_WARNING)\n",
       "    }\n",
       "\n",
       "  }\n",
       "\n",
       "  if (root._bokeh_is_loading === 0) {\n",
       "    console.debug(\"Bokeh: BokehJS loaded, going straight to plotting\");\n",
       "    run_inline_js();\n",
       "  } else {\n",
       "    load_libs(css_urls, js_urls, function() {\n",
       "      console.debug(\"Bokeh: BokehJS plotting callback run at\", now());\n",
       "      run_inline_js();\n",
       "    });\n",
       "  }\n",
       "}(window));"
      ],
      "application/vnd.bokehjs_load.v0+json": "\n(function(root) {\n  function now() {\n    return new Date();\n  }\n\n  var force = true;\n\n  if (typeof root._bokeh_onload_callbacks === \"undefined\" || force === true) {\n    root._bokeh_onload_callbacks = [];\n    root._bokeh_is_loading = undefined;\n  }\n\n  \n\n  \n  if (typeof (root._bokeh_timeout) === \"undefined\" || force === true) {\n    root._bokeh_timeout = Date.now() + 5000;\n    root._bokeh_failed_load = false;\n  }\n\n  var NB_LOAD_WARNING = {'data': {'text/html':\n     \"<div style='background-color: #fdd'>\\n\"+\n     \"<p>\\n\"+\n     \"BokehJS does not appear to have successfully loaded. If loading BokehJS from CDN, this \\n\"+\n     \"may be due to a slow or bad network connection. Possible fixes:\\n\"+\n     \"</p>\\n\"+\n     \"<ul>\\n\"+\n     \"<li>re-rerun `output_notebook()` to attempt to load from CDN again, or</li>\\n\"+\n     \"<li>use INLINE resources instead, as so:</li>\\n\"+\n     \"</ul>\\n\"+\n     \"<code>\\n\"+\n     \"from bokeh.resources import INLINE\\n\"+\n     \"output_notebook(resources=INLINE)\\n\"+\n     \"</code>\\n\"+\n     \"</div>\"}};\n\n  function display_loaded() {\n    var el = document.getElementById(\"1437\");\n    if (el != null) {\n      el.textContent = \"BokehJS is loading...\";\n    }\n    if (root.Bokeh !== undefined) {\n      if (el != null) {\n        el.textContent = \"BokehJS \" + root.Bokeh.version + \" successfully loaded.\";\n      }\n    } else if (Date.now() < root._bokeh_timeout) {\n      setTimeout(display_loaded, 100)\n    }\n  }\n\n\n  function run_callbacks() {\n    try {\n      root._bokeh_onload_callbacks.forEach(function(callback) {\n        if (callback != null)\n          callback();\n      });\n    } finally {\n      delete root._bokeh_onload_callbacks\n    }\n    console.debug(\"Bokeh: all callbacks have finished\");\n  }\n\n  function load_libs(css_urls, js_urls, callback) {\n    if (css_urls == null) css_urls = [];\n    if (js_urls == null) js_urls = [];\n\n    root._bokeh_onload_callbacks.push(callback);\n    if (root._bokeh_is_loading > 0) {\n      console.debug(\"Bokeh: BokehJS is being loaded, scheduling callback at\", now());\n      return null;\n    }\n    if (js_urls == null || js_urls.length === 0) {\n      run_callbacks();\n      return null;\n    }\n    console.debug(\"Bokeh: BokehJS not loaded, scheduling load and callback at\", now());\n    root._bokeh_is_loading = css_urls.length + js_urls.length;\n\n    function on_load() {\n      root._bokeh_is_loading--;\n      if (root._bokeh_is_loading === 0) {\n        console.debug(\"Bokeh: all BokehJS libraries/stylesheets loaded\");\n        run_callbacks()\n      }\n    }\n\n    function on_error() {\n      console.error(\"failed to load \" + url);\n    }\n\n    for (var i = 0; i < css_urls.length; i++) {\n      var url = css_urls[i];\n      const element = document.createElement(\"link\");\n      element.onload = on_load;\n      element.onerror = on_error;\n      element.rel = \"stylesheet\";\n      element.type = \"text/css\";\n      element.href = url;\n      console.debug(\"Bokeh: injecting link tag for BokehJS stylesheet: \", url);\n      document.body.appendChild(element);\n    }\n\n    const hashes = {\"https://cdn.bokeh.org/bokeh/release/bokeh-2.2.3.min.js\": \"T2yuo9Oe71Cz/I4X9Ac5+gpEa5a8PpJCDlqKYO0CfAuEszu1JrXLl8YugMqYe3sM\", \"https://cdn.bokeh.org/bokeh/release/bokeh-widgets-2.2.3.min.js\": \"98GDGJ0kOMCUMUePhksaQ/GYgB3+NH9h996V88sh3aOiUNX3N+fLXAtry6xctSZ6\", \"https://cdn.bokeh.org/bokeh/release/bokeh-tables-2.2.3.min.js\": \"89bArO+nlbP3sgakeHjCo1JYxYR5wufVgA3IbUvDY+K7w4zyxJqssu7wVnfeKCq8\"};\n\n    for (var i = 0; i < js_urls.length; i++) {\n      var url = js_urls[i];\n      var element = document.createElement('script');\n      element.onload = on_load;\n      element.onerror = on_error;\n      element.async = false;\n      element.src = url;\n      if (url in hashes) {\n        element.crossOrigin = \"anonymous\";\n        element.integrity = \"sha384-\" + hashes[url];\n      }\n      console.debug(\"Bokeh: injecting script tag for BokehJS library: \", url);\n      document.head.appendChild(element);\n    }\n  };\n\n  function inject_raw_css(css) {\n    const element = document.createElement(\"style\");\n    element.appendChild(document.createTextNode(css));\n    document.body.appendChild(element);\n  }\n\n  \n  var js_urls = [\"https://cdn.bokeh.org/bokeh/release/bokeh-2.2.3.min.js\", \"https://cdn.bokeh.org/bokeh/release/bokeh-widgets-2.2.3.min.js\", \"https://cdn.bokeh.org/bokeh/release/bokeh-tables-2.2.3.min.js\"];\n  var css_urls = [];\n  \n\n  var inline_js = [\n    function(Bokeh) {\n      Bokeh.set_log_level(\"info\");\n    },\n    function(Bokeh) {\n    \n    \n    }\n  ];\n\n  function run_inline_js() {\n    \n    if (root.Bokeh !== undefined || force === true) {\n      \n    for (var i = 0; i < inline_js.length; i++) {\n      inline_js[i].call(root, root.Bokeh);\n    }\n    if (force === true) {\n        display_loaded();\n      }} else if (Date.now() < root._bokeh_timeout) {\n      setTimeout(run_inline_js, 100);\n    } else if (!root._bokeh_failed_load) {\n      console.log(\"Bokeh: BokehJS failed to load within specified timeout.\");\n      root._bokeh_failed_load = true;\n    } else if (force !== true) {\n      var cell = $(document.getElementById(\"1437\")).parents('.cell').data().cell;\n      cell.output_area.append_execute_result(NB_LOAD_WARNING)\n    }\n\n  }\n\n  if (root._bokeh_is_loading === 0) {\n    console.debug(\"Bokeh: BokehJS loaded, going straight to plotting\");\n    run_inline_js();\n  } else {\n    load_libs(css_urls, js_urls, function() {\n      console.debug(\"Bokeh: BokehJS plotting callback run at\", now());\n      run_inline_js();\n    });\n  }\n}(window));"
     },
     "metadata": {},
     "output_type": "display_data"
    }
   ],
   "source": [
    "#Import all the libraries required to perform the regression\n",
    "import statsmodels.api as sm\n",
    "from bokeh.io import output_notebook # Bokeh is imported because the graphs are visually appealing \n",
    "output_notebook()\n",
    "\n",
    "from bokeh.plotting import figure\n",
    "from bokeh.io import show"
   ]
  },
  {
   "cell_type": "markdown",
   "metadata": {},
   "source": [
    "In this step, we are replacing all the categorical variables to binary variables for multiple regression. If they remain categorical variables then this might cause problems."
   ]
  },
  {
   "cell_type": "code",
   "execution_count": 42,
   "metadata": {},
   "outputs": [],
   "source": [
    "#Replace function is used to convert categorical to binary variables\n",
    "df['gender'] = df['gender'].replace('female',1)\n",
    "df['gender'] = df['gender'].replace('male',0)\n",
    "df['race'] = df['race'].replace('white',0)\n",
    "df['race'] = df['race'].replace('nonwhite',1)"
   ]
  },
  {
   "cell_type": "code",
   "execution_count": 43,
   "metadata": {},
   "outputs": [
    {
     "data": {
      "text/html": [
       "<div>\n",
       "<style scoped>\n",
       "    .dataframe tbody tr th:only-of-type {\n",
       "        vertical-align: middle;\n",
       "    }\n",
       "\n",
       "    .dataframe tbody tr th {\n",
       "        vertical-align: top;\n",
       "    }\n",
       "\n",
       "    .dataframe thead th {\n",
       "        text-align: right;\n",
       "    }\n",
       "</style>\n",
       "<table border=\"1\" class=\"dataframe\">\n",
       "  <thead>\n",
       "    <tr style=\"text-align: right;\">\n",
       "      <th></th>\n",
       "      <th>married</th>\n",
       "      <th>hourly_wage</th>\n",
       "      <th>years_in_education</th>\n",
       "      <th>years_in_employment</th>\n",
       "      <th>num_dependents</th>\n",
       "      <th>gender</th>\n",
       "      <th>race</th>\n",
       "    </tr>\n",
       "  </thead>\n",
       "  <tbody>\n",
       "    <tr>\n",
       "      <th>0</th>\n",
       "      <td>1.0</td>\n",
       "      <td>3.24</td>\n",
       "      <td>12.0</td>\n",
       "      <td>2.0</td>\n",
       "      <td>3.0</td>\n",
       "      <td>1</td>\n",
       "      <td>0</td>\n",
       "    </tr>\n",
       "    <tr>\n",
       "      <th>1</th>\n",
       "      <td>0.0</td>\n",
       "      <td>3.00</td>\n",
       "      <td>11.0</td>\n",
       "      <td>0.0</td>\n",
       "      <td>2.0</td>\n",
       "      <td>0</td>\n",
       "      <td>0</td>\n",
       "    </tr>\n",
       "    <tr>\n",
       "      <th>2</th>\n",
       "      <td>1.0</td>\n",
       "      <td>6.00</td>\n",
       "      <td>8.0</td>\n",
       "      <td>28.0</td>\n",
       "      <td>0.0</td>\n",
       "      <td>0</td>\n",
       "      <td>0</td>\n",
       "    </tr>\n",
       "  </tbody>\n",
       "</table>\n",
       "</div>"
      ],
      "text/plain": [
       "   married  hourly_wage  years_in_education  years_in_employment  \\\n",
       "0      1.0         3.24                12.0                  2.0   \n",
       "1      0.0         3.00                11.0                  0.0   \n",
       "2      1.0         6.00                 8.0                 28.0   \n",
       "\n",
       "   num_dependents  gender  race  \n",
       "0             3.0       1     0  \n",
       "1             2.0       0     0  \n",
       "2             0.0       0     0  "
      ]
     },
     "execution_count": 43,
     "metadata": {},
     "output_type": "execute_result"
    }
   ],
   "source": [
    "df.head(3) # Check the first 3 rows of the dataset"
   ]
  },
  {
   "cell_type": "markdown",
   "metadata": {},
   "source": [
    "We are going to estimate the model using OLS:\n",
    "\n",
    "$hourlywage = \\alpha + \\beta_1*yearsinemployment + \\beta_2*gender + \\beta_3*yearsineducation +\\beta_4*race+ \\beta_5*numdependents + \\beta_6*married$\n",
    "\n",
    "\n",
    "\n",
    "    "
   ]
  },
  {
   "cell_type": "code",
   "execution_count": 44,
   "metadata": {},
   "outputs": [],
   "source": [
    "model = sm.OLS.from_formula(\n",
    "    'hourly_wage ~ years_in_employment + gender + years_in_education + race+ num_dependents + married', data=df).fit() \n",
    "#Use the OLS method to check if the model is best fit"
   ]
  },
  {
   "cell_type": "markdown",
   "metadata": {},
   "source": [
    "### Interpreting the model"
   ]
  },
  {
   "cell_type": "code",
   "execution_count": 45,
   "metadata": {},
   "outputs": [
    {
     "data": {
      "text/html": [
       "<table class=\"simpletable\">\n",
       "<caption>OLS Regression Results</caption>\n",
       "<tr>\n",
       "  <th>Dep. Variable:</th>       <td>hourly_wage</td>   <th>  R-squared:         </th> <td>   0.358</td>\n",
       "</tr>\n",
       "<tr>\n",
       "  <th>Model:</th>                   <td>OLS</td>       <th>  Adj. R-squared:    </th> <td>   0.351</td>\n",
       "</tr>\n",
       "<tr>\n",
       "  <th>Method:</th>             <td>Least Squares</td>  <th>  F-statistic:       </th> <td>   45.43</td>\n",
       "</tr>\n",
       "<tr>\n",
       "  <th>Date:</th>             <td>Wed, 07 Apr 2021</td> <th>  Prob (F-statistic):</th> <td>3.69e-44</td>\n",
       "</tr>\n",
       "<tr>\n",
       "  <th>Time:</th>                 <td>01:50:05</td>     <th>  Log-Likelihood:    </th> <td> -1230.4</td>\n",
       "</tr>\n",
       "<tr>\n",
       "  <th>No. Observations:</th>      <td>   495</td>      <th>  AIC:               </th> <td>   2475.</td>\n",
       "</tr>\n",
       "<tr>\n",
       "  <th>Df Residuals:</th>          <td>   488</td>      <th>  BIC:               </th> <td>   2504.</td>\n",
       "</tr>\n",
       "<tr>\n",
       "  <th>Df Model:</th>              <td>     6</td>      <th>                     </th>     <td> </td>   \n",
       "</tr>\n",
       "<tr>\n",
       "  <th>Covariance Type:</th>      <td>nonrobust</td>    <th>                     </th>     <td> </td>   \n",
       "</tr>\n",
       "</table>\n",
       "<table class=\"simpletable\">\n",
       "<tr>\n",
       "           <td></td>              <th>coef</th>     <th>std err</th>      <th>t</th>      <th>P>|t|</th>  <th>[0.025</th>    <th>0.975]</th>  \n",
       "</tr>\n",
       "<tr>\n",
       "  <th>Intercept</th>           <td>   -1.2558</td> <td>    0.706</td> <td>   -1.778</td> <td> 0.076</td> <td>   -2.644</td> <td>    0.132</td>\n",
       "</tr>\n",
       "<tr>\n",
       "  <th>years_in_employment</th> <td>    0.1490</td> <td>    0.019</td> <td>    7.824</td> <td> 0.000</td> <td>    0.112</td> <td>    0.186</td>\n",
       "</tr>\n",
       "<tr>\n",
       "  <th>gender</th>              <td>   -1.6449</td> <td>    0.271</td> <td>   -6.071</td> <td> 0.000</td> <td>   -2.177</td> <td>   -1.113</td>\n",
       "</tr>\n",
       "<tr>\n",
       "  <th>years_in_education</th>  <td>    0.5269</td> <td>    0.049</td> <td>   10.777</td> <td> 0.000</td> <td>    0.431</td> <td>    0.623</td>\n",
       "</tr>\n",
       "<tr>\n",
       "  <th>race</th>                <td>    0.2090</td> <td>    0.429</td> <td>    0.487</td> <td> 0.626</td> <td>   -0.633</td> <td>    1.051</td>\n",
       "</tr>\n",
       "<tr>\n",
       "  <th>num_dependents</th>      <td>    0.1388</td> <td>    0.110</td> <td>    1.265</td> <td> 0.206</td> <td>   -0.077</td> <td>    0.354</td>\n",
       "</tr>\n",
       "<tr>\n",
       "  <th>married</th>             <td>    0.6926</td> <td>    0.286</td> <td>    2.422</td> <td> 0.016</td> <td>    0.131</td> <td>    1.254</td>\n",
       "</tr>\n",
       "</table>\n",
       "<table class=\"simpletable\">\n",
       "<tr>\n",
       "  <th>Omnibus:</th>       <td>186.785</td> <th>  Durbin-Watson:     </th> <td>   1.799</td> \n",
       "</tr>\n",
       "<tr>\n",
       "  <th>Prob(Omnibus):</th> <td> 0.000</td>  <th>  Jarque-Bera (JB):  </th> <td> 728.175</td> \n",
       "</tr>\n",
       "<tr>\n",
       "  <th>Skew:</th>          <td> 1.696</td>  <th>  Prob(JB):          </th> <td>7.57e-159</td>\n",
       "</tr>\n",
       "<tr>\n",
       "  <th>Kurtosis:</th>      <td> 7.878</td>  <th>  Cond. No.          </th> <td>    77.4</td> \n",
       "</tr>\n",
       "</table><br/><br/>Notes:<br/>[1] Standard Errors assume that the covariance matrix of the errors is correctly specified."
      ],
      "text/plain": [
       "<class 'statsmodels.iolib.summary.Summary'>\n",
       "\"\"\"\n",
       "                            OLS Regression Results                            \n",
       "==============================================================================\n",
       "Dep. Variable:            hourly_wage   R-squared:                       0.358\n",
       "Model:                            OLS   Adj. R-squared:                  0.351\n",
       "Method:                 Least Squares   F-statistic:                     45.43\n",
       "Date:                Wed, 07 Apr 2021   Prob (F-statistic):           3.69e-44\n",
       "Time:                        01:50:05   Log-Likelihood:                -1230.4\n",
       "No. Observations:                 495   AIC:                             2475.\n",
       "Df Residuals:                     488   BIC:                             2504.\n",
       "Df Model:                           6                                         \n",
       "Covariance Type:            nonrobust                                         \n",
       "=======================================================================================\n",
       "                          coef    std err          t      P>|t|      [0.025      0.975]\n",
       "---------------------------------------------------------------------------------------\n",
       "Intercept              -1.2558      0.706     -1.778      0.076      -2.644       0.132\n",
       "years_in_employment     0.1490      0.019      7.824      0.000       0.112       0.186\n",
       "gender                 -1.6449      0.271     -6.071      0.000      -2.177      -1.113\n",
       "years_in_education      0.5269      0.049     10.777      0.000       0.431       0.623\n",
       "race                    0.2090      0.429      0.487      0.626      -0.633       1.051\n",
       "num_dependents          0.1388      0.110      1.265      0.206      -0.077       0.354\n",
       "married                 0.6926      0.286      2.422      0.016       0.131       1.254\n",
       "==============================================================================\n",
       "Omnibus:                      186.785   Durbin-Watson:                   1.799\n",
       "Prob(Omnibus):                  0.000   Jarque-Bera (JB):              728.175\n",
       "Skew:                           1.696   Prob(JB):                    7.57e-159\n",
       "Kurtosis:                       7.878   Cond. No.                         77.4\n",
       "==============================================================================\n",
       "\n",
       "Notes:\n",
       "[1] Standard Errors assume that the covariance matrix of the errors is correctly specified.\n",
       "\"\"\""
      ]
     },
     "execution_count": 45,
     "metadata": {},
     "output_type": "execute_result"
    }
   ],
   "source": [
    "model.summary() #Method is used to find out the OLS Regression Results"
   ]
  },
  {
   "cell_type": "markdown",
   "metadata": {},
   "source": [
    "Significance Value = 0.05\n",
    "\n",
    "Based on the above result, we check the **P Value**, if the P value is less than significant level (0.05), we can assume that they have a good impact on the dependent variable.\n",
    "\n",
    "If the P value is greater than significant level(0.05), it does not have an impact which suggests that we can remove those variables from the model.\n",
    "\n",
    "Firstly, I will remove race as this has a high value of 0.626\n",
    "\n"
   ]
  },
  {
   "cell_type": "markdown",
   "metadata": {},
   "source": [
    "### Checking the line of best fit after removing race"
   ]
  },
  {
   "cell_type": "code",
   "execution_count": 46,
   "metadata": {},
   "outputs": [],
   "source": [
    "model = sm.OLS.from_formula(\n",
    "    'hourly_wage ~ years_in_employment + gender + years_in_education + num_dependents + married', data=df).fit() \n",
    "#Use the OLS method to check if the model is best fit"
   ]
  },
  {
   "cell_type": "code",
   "execution_count": 47,
   "metadata": {},
   "outputs": [
    {
     "data": {
      "text/html": [
       "<table class=\"simpletable\">\n",
       "<caption>OLS Regression Results</caption>\n",
       "<tr>\n",
       "  <th>Dep. Variable:</th>       <td>hourly_wage</td>   <th>  R-squared:         </th> <td>   0.358</td>\n",
       "</tr>\n",
       "<tr>\n",
       "  <th>Model:</th>                   <td>OLS</td>       <th>  Adj. R-squared:    </th> <td>   0.352</td>\n",
       "</tr>\n",
       "<tr>\n",
       "  <th>Method:</th>             <td>Least Squares</td>  <th>  F-statistic:       </th> <td>   54.56</td>\n",
       "</tr>\n",
       "<tr>\n",
       "  <th>Date:</th>             <td>Wed, 07 Apr 2021</td> <th>  Prob (F-statistic):</th> <td>5.32e-45</td>\n",
       "</tr>\n",
       "<tr>\n",
       "  <th>Time:</th>                 <td>01:50:05</td>     <th>  Log-Likelihood:    </th> <td> -1230.5</td>\n",
       "</tr>\n",
       "<tr>\n",
       "  <th>No. Observations:</th>      <td>   495</td>      <th>  AIC:               </th> <td>   2473.</td>\n",
       "</tr>\n",
       "<tr>\n",
       "  <th>Df Residuals:</th>          <td>   489</td>      <th>  BIC:               </th> <td>   2498.</td>\n",
       "</tr>\n",
       "<tr>\n",
       "  <th>Df Model:</th>              <td>     5</td>      <th>                     </th>     <td> </td>   \n",
       "</tr>\n",
       "<tr>\n",
       "  <th>Covariance Type:</th>      <td>nonrobust</td>    <th>                     </th>     <td> </td>   \n",
       "</tr>\n",
       "</table>\n",
       "<table class=\"simpletable\">\n",
       "<tr>\n",
       "           <td></td>              <th>coef</th>     <th>std err</th>      <th>t</th>      <th>P>|t|</th>  <th>[0.025</th>    <th>0.975]</th>  \n",
       "</tr>\n",
       "<tr>\n",
       "  <th>Intercept</th>           <td>   -1.2119</td> <td>    0.700</td> <td>   -1.731</td> <td> 0.084</td> <td>   -2.587</td> <td>    0.164</td>\n",
       "</tr>\n",
       "<tr>\n",
       "  <th>years_in_employment</th> <td>    0.1492</td> <td>    0.019</td> <td>    7.844</td> <td> 0.000</td> <td>    0.112</td> <td>    0.187</td>\n",
       "</tr>\n",
       "<tr>\n",
       "  <th>gender</th>              <td>   -1.6489</td> <td>    0.271</td> <td>   -6.093</td> <td> 0.000</td> <td>   -2.181</td> <td>   -1.117</td>\n",
       "</tr>\n",
       "<tr>\n",
       "  <th>years_in_education</th>  <td>    0.5255</td> <td>    0.049</td> <td>   10.776</td> <td> 0.000</td> <td>    0.430</td> <td>    0.621</td>\n",
       "</tr>\n",
       "<tr>\n",
       "  <th>num_dependents</th>      <td>    0.1423</td> <td>    0.109</td> <td>    1.302</td> <td> 0.194</td> <td>   -0.073</td> <td>    0.357</td>\n",
       "</tr>\n",
       "<tr>\n",
       "  <th>married</th>             <td>    0.6829</td> <td>    0.285</td> <td>    2.396</td> <td> 0.017</td> <td>    0.123</td> <td>    1.243</td>\n",
       "</tr>\n",
       "</table>\n",
       "<table class=\"simpletable\">\n",
       "<tr>\n",
       "  <th>Omnibus:</th>       <td>185.864</td> <th>  Durbin-Watson:     </th> <td>   1.797</td> \n",
       "</tr>\n",
       "<tr>\n",
       "  <th>Prob(Omnibus):</th> <td> 0.000</td>  <th>  Jarque-Bera (JB):  </th> <td> 719.597</td> \n",
       "</tr>\n",
       "<tr>\n",
       "  <th>Skew:</th>          <td> 1.690</td>  <th>  Prob(JB):          </th> <td>5.52e-157</td>\n",
       "</tr>\n",
       "<tr>\n",
       "  <th>Kurtosis:</th>      <td> 7.844</td>  <th>  Cond. No.          </th> <td>    76.4</td> \n",
       "</tr>\n",
       "</table><br/><br/>Notes:<br/>[1] Standard Errors assume that the covariance matrix of the errors is correctly specified."
      ],
      "text/plain": [
       "<class 'statsmodels.iolib.summary.Summary'>\n",
       "\"\"\"\n",
       "                            OLS Regression Results                            \n",
       "==============================================================================\n",
       "Dep. Variable:            hourly_wage   R-squared:                       0.358\n",
       "Model:                            OLS   Adj. R-squared:                  0.352\n",
       "Method:                 Least Squares   F-statistic:                     54.56\n",
       "Date:                Wed, 07 Apr 2021   Prob (F-statistic):           5.32e-45\n",
       "Time:                        01:50:05   Log-Likelihood:                -1230.5\n",
       "No. Observations:                 495   AIC:                             2473.\n",
       "Df Residuals:                     489   BIC:                             2498.\n",
       "Df Model:                           5                                         \n",
       "Covariance Type:            nonrobust                                         \n",
       "=======================================================================================\n",
       "                          coef    std err          t      P>|t|      [0.025      0.975]\n",
       "---------------------------------------------------------------------------------------\n",
       "Intercept              -1.2119      0.700     -1.731      0.084      -2.587       0.164\n",
       "years_in_employment     0.1492      0.019      7.844      0.000       0.112       0.187\n",
       "gender                 -1.6489      0.271     -6.093      0.000      -2.181      -1.117\n",
       "years_in_education      0.5255      0.049     10.776      0.000       0.430       0.621\n",
       "num_dependents          0.1423      0.109      1.302      0.194      -0.073       0.357\n",
       "married                 0.6829      0.285      2.396      0.017       0.123       1.243\n",
       "==============================================================================\n",
       "Omnibus:                      185.864   Durbin-Watson:                   1.797\n",
       "Prob(Omnibus):                  0.000   Jarque-Bera (JB):              719.597\n",
       "Skew:                           1.690   Prob(JB):                    5.52e-157\n",
       "Kurtosis:                       7.844   Cond. No.                         76.4\n",
       "==============================================================================\n",
       "\n",
       "Notes:\n",
       "[1] Standard Errors assume that the covariance matrix of the errors is correctly specified.\n",
       "\"\"\""
      ]
     },
     "execution_count": 47,
     "metadata": {},
     "output_type": "execute_result"
    }
   ],
   "source": [
    "model.summary()"
   ]
  },
  {
   "cell_type": "markdown",
   "metadata": {},
   "source": [
    "The model above shows that the P value for  num_dependents column is still above significant level (0.05), hence we can remove that variable and check the model again to achieve optimal results"
   ]
  },
  {
   "cell_type": "markdown",
   "metadata": {},
   "source": [
    "### Model of best fit after removing num_dependents"
   ]
  },
  {
   "cell_type": "code",
   "execution_count": 48,
   "metadata": {},
   "outputs": [],
   "source": [
    "model = sm.OLS.from_formula(\n",
    "    'hourly_wage ~ years_in_employment + gender + years_in_education + married', data=df).fit() \n",
    "#Use the OLS method to check if the model is best fit"
   ]
  },
  {
   "cell_type": "code",
   "execution_count": 49,
   "metadata": {},
   "outputs": [
    {
     "data": {
      "text/html": [
       "<table class=\"simpletable\">\n",
       "<caption>OLS Regression Results</caption>\n",
       "<tr>\n",
       "  <th>Dep. Variable:</th>       <td>hourly_wage</td>   <th>  R-squared:         </th> <td>   0.356</td>\n",
       "</tr>\n",
       "<tr>\n",
       "  <th>Model:</th>                   <td>OLS</td>       <th>  Adj. R-squared:    </th> <td>   0.351</td>\n",
       "</tr>\n",
       "<tr>\n",
       "  <th>Method:</th>             <td>Least Squares</td>  <th>  F-statistic:       </th> <td>   67.68</td>\n",
       "</tr>\n",
       "<tr>\n",
       "  <th>Date:</th>             <td>Wed, 07 Apr 2021</td> <th>  Prob (F-statistic):</th> <td>1.40e-45</td>\n",
       "</tr>\n",
       "<tr>\n",
       "  <th>Time:</th>                 <td>01:50:05</td>     <th>  Log-Likelihood:    </th> <td> -1231.4</td>\n",
       "</tr>\n",
       "<tr>\n",
       "  <th>No. Observations:</th>      <td>   495</td>      <th>  AIC:               </th> <td>   2473.</td>\n",
       "</tr>\n",
       "<tr>\n",
       "  <th>Df Residuals:</th>          <td>   490</td>      <th>  BIC:               </th> <td>   2494.</td>\n",
       "</tr>\n",
       "<tr>\n",
       "  <th>Df Model:</th>              <td>     4</td>      <th>                     </th>     <td> </td>   \n",
       "</tr>\n",
       "<tr>\n",
       "  <th>Covariance Type:</th>      <td>nonrobust</td>    <th>                     </th>     <td> </td>   \n",
       "</tr>\n",
       "</table>\n",
       "<table class=\"simpletable\">\n",
       "<tr>\n",
       "           <td></td>              <th>coef</th>     <th>std err</th>      <th>t</th>      <th>P>|t|</th>  <th>[0.025</th>    <th>0.975]</th>  \n",
       "</tr>\n",
       "<tr>\n",
       "  <th>Intercept</th>           <td>   -0.9190</td> <td>    0.663</td> <td>   -1.385</td> <td> 0.167</td> <td>   -2.222</td> <td>    0.384</td>\n",
       "</tr>\n",
       "<tr>\n",
       "  <th>years_in_employment</th> <td>    0.1477</td> <td>    0.019</td> <td>    7.774</td> <td> 0.000</td> <td>    0.110</td> <td>    0.185</td>\n",
       "</tr>\n",
       "<tr>\n",
       "  <th>gender</th>              <td>   -1.6442</td> <td>    0.271</td> <td>   -6.072</td> <td> 0.000</td> <td>   -2.176</td> <td>   -1.112</td>\n",
       "</tr>\n",
       "<tr>\n",
       "  <th>years_in_education</th>  <td>    0.5107</td> <td>    0.047</td> <td>   10.760</td> <td> 0.000</td> <td>    0.417</td> <td>    0.604</td>\n",
       "</tr>\n",
       "<tr>\n",
       "  <th>married</th>             <td>    0.7554</td> <td>    0.280</td> <td>    2.700</td> <td> 0.007</td> <td>    0.206</td> <td>    1.305</td>\n",
       "</tr>\n",
       "</table>\n",
       "<table class=\"simpletable\">\n",
       "<tr>\n",
       "  <th>Omnibus:</th>       <td>187.490</td> <th>  Durbin-Watson:     </th> <td>   1.801</td> \n",
       "</tr>\n",
       "<tr>\n",
       "  <th>Prob(Omnibus):</th> <td> 0.000</td>  <th>  Jarque-Bera (JB):  </th> <td> 736.242</td> \n",
       "</tr>\n",
       "<tr>\n",
       "  <th>Skew:</th>          <td> 1.700</td>  <th>  Prob(JB):          </th> <td>1.34e-160</td>\n",
       "</tr>\n",
       "<tr>\n",
       "  <th>Kurtosis:</th>      <td> 7.913</td>  <th>  Cond. No.          </th> <td>    72.5</td> \n",
       "</tr>\n",
       "</table><br/><br/>Notes:<br/>[1] Standard Errors assume that the covariance matrix of the errors is correctly specified."
      ],
      "text/plain": [
       "<class 'statsmodels.iolib.summary.Summary'>\n",
       "\"\"\"\n",
       "                            OLS Regression Results                            \n",
       "==============================================================================\n",
       "Dep. Variable:            hourly_wage   R-squared:                       0.356\n",
       "Model:                            OLS   Adj. R-squared:                  0.351\n",
       "Method:                 Least Squares   F-statistic:                     67.68\n",
       "Date:                Wed, 07 Apr 2021   Prob (F-statistic):           1.40e-45\n",
       "Time:                        01:50:05   Log-Likelihood:                -1231.4\n",
       "No. Observations:                 495   AIC:                             2473.\n",
       "Df Residuals:                     490   BIC:                             2494.\n",
       "Df Model:                           4                                         \n",
       "Covariance Type:            nonrobust                                         \n",
       "=======================================================================================\n",
       "                          coef    std err          t      P>|t|      [0.025      0.975]\n",
       "---------------------------------------------------------------------------------------\n",
       "Intercept              -0.9190      0.663     -1.385      0.167      -2.222       0.384\n",
       "years_in_employment     0.1477      0.019      7.774      0.000       0.110       0.185\n",
       "gender                 -1.6442      0.271     -6.072      0.000      -2.176      -1.112\n",
       "years_in_education      0.5107      0.047     10.760      0.000       0.417       0.604\n",
       "married                 0.7554      0.280      2.700      0.007       0.206       1.305\n",
       "==============================================================================\n",
       "Omnibus:                      187.490   Durbin-Watson:                   1.801\n",
       "Prob(Omnibus):                  0.000   Jarque-Bera (JB):              736.242\n",
       "Skew:                           1.700   Prob(JB):                    1.34e-160\n",
       "Kurtosis:                       7.913   Cond. No.                         72.5\n",
       "==============================================================================\n",
       "\n",
       "Notes:\n",
       "[1] Standard Errors assume that the covariance matrix of the errors is correctly specified.\n",
       "\"\"\""
      ]
     },
     "execution_count": 49,
     "metadata": {},
     "output_type": "execute_result"
    }
   ],
   "source": [
    "model.summary()"
   ]
  },
  {
   "cell_type": "markdown",
   "metadata": {},
   "source": [
    "The P value is less for all the variables above with the P values being less than the significant value (0.05)\n",
    "\n",
    "The optimal model has been acheived now with the independent variables being **years_in_employment, gender, years_in_education and married**."
   ]
  },
  {
   "cell_type": "markdown",
   "metadata": {},
   "source": [
    "(1) **Coefficients on the variables**. The estimated coefficients are specified in the second table. Our model is thus described by the line: \n",
    "\n",
    "$hourlywage = -0.9190 + 0.1477*yearsinemployment - 1.6442*gender + 0.5107*yearsineducation +0.7554*married + e$.\n",
    "\n",
    "Considering the signs on the coefficients we can state that the hourly wage  is positively affected by all the variables a (for example:the greater the years_in_employment, the greater is the hourly_wage) and negatively affected by the gender variable.\n",
    "\n",
    "(2) **Significance of the variables**. The p-values on all the coefficients, except the intercept and gender   indicate that the variables are significant, i.e., the other factors do have a significant effect on the hourly_wage.\n",
    "\n",
    "(3) **Quality of the model**. The $R^2$ and the adjusted $R^2$ values have gone up from the 0.1 rate of the simple linear regression to around 0.3. This indicates that the addition of extra independent variables has helped to improve the model. \n",
    "\n",
    "\n",
    " "
   ]
  },
  {
   "cell_type": "markdown",
   "metadata": {},
   "source": [
    "## Checking the assumptions of normality and zero mean of residuals\n",
    "\n",
    "Residual analysis checks if there is any unusual data patterns left. We can plot the standard residuals and histogram to confirm the assumptions of normality distribution and the zero mean of residuals and we can conclude if they are valid with this model or not."
   ]
  },
  {
   "cell_type": "code",
   "execution_count": 50,
   "metadata": {},
   "outputs": [
    {
     "data": {
      "text/html": [
       "\n",
       "\n",
       "\n",
       "\n",
       "\n",
       "\n",
       "  <div class=\"bk-root\" id=\"23385057-7d51-4e77-bba7-d05e7075e4e2\" data-root-id=\"1438\"></div>\n"
      ]
     },
     "metadata": {},
     "output_type": "display_data"
    },
    {
     "data": {
      "application/javascript": [
       "(function(root) {\n",
       "  function embed_document(root) {\n",
       "    \n",
       "  var docs_json = {\"2b528424-e243-4504-96d0-2abffd4d6dfa\":{\"roots\":{\"references\":[{\"attributes\":{\"below\":[{\"id\":\"1447\"}],\"center\":[{\"id\":\"1450\"},{\"id\":\"1454\"}],\"left\":[{\"id\":\"1451\"}],\"plot_height\":400,\"plot_width\":400,\"renderers\":[{\"id\":\"1472\"}],\"title\":{\"id\":\"1513\"},\"toolbar\":{\"id\":\"1462\"},\"x_range\":{\"id\":\"1439\"},\"x_scale\":{\"id\":\"1443\"},\"y_range\":{\"id\":\"1441\"},\"y_scale\":{\"id\":\"1445\"}},\"id\":\"1438\",\"subtype\":\"Figure\",\"type\":\"Plot\"},{\"attributes\":{},\"id\":\"1515\",\"type\":\"BasicTickFormatter\"},{\"attributes\":{},\"id\":\"1517\",\"type\":\"BasicTickFormatter\"},{\"attributes\":{\"data\":{\"x\":{\"__ndarray__\":\"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\",\"dtype\":\"float64\",\"order\":\"little\",\"shape\":[495]},\"y\":{\"__ndarray__\":\"2CDdf1E03r/cXcRxzKrivy54L+lO0ea/dRtzkIoT1b9h56lLcVDDv5lgeO+3Z+U/YBg43p2/1T9EVel38mzIv4M6ZUopGAJAGyYU/XZrvj/oZZv8ST32P3sWe49ZyO4/wpDHBeLgqr9VECwrUTsTQJQFdLh1mQlAou4InM5x8T/8yV5+K6jPv3pTTTZqCc+/ge5pVJzh7T8yYIFnhhTKP9gijuTBxcq/9+qh1YR28b91ruBltlzjPzecT2L8Vtg/YX0hZWK44r83Um56qqv4P21DH+YgI9I/ZSr3PhDq/D9tbxpxiSHSvz/gkgH82fE/YBg43p2/1T8W1zkoA3fXP6S7o41ef+2/33tGzrCt1D+nD90pjPDJv8HhJSL/kO6/GHVltsJz7T+Qu8u9TSXzPyfxl8AoGPs/NJlpdeph4b+b7CCkLcviPwDH2c8EgPc/D4rrvTSv67+nk9FT1YDiv2TXT1RXl++/lroO0e024b+Cx8ZLBD3lv3tBy3h+ou0/C5tGQhyu4r+O0QYL+cLtv54HH1wLMPO/R8d0q+Dm6b/xgSV6BNECQAKXK0WmDhNAXwPG296X779bAYHWpu3dPzU/5Lo3wv0/K6U/mPxW0z8/D4bdUkfYPyhYj/CacApASNIFHGr6zr86QOOIqrHzP8qNxd4qqvC/bGGTPBdr5L9sCtPXNdOhP+/XMl8scPc/jCVjvJaF6L/7va9RKfUBwC2gCWdgEsm/+iUP2m7F7D+oX/cqcTG8vwboGPpV68q/k6HZIZHDyD+pGmJ57Mzkv7w6iscZg82/GpjdiqQ+7r+CQqBmFEC/P7l/pS2er88/cFqAJNyxv78KV0XVW4Dgv3DAEgXYgte/M4xrArsV9T///X0N5VTqP5R+2cWL9MU/rj6qINWk1L+wDreZzSLWv4JKxPuy08i/ClC5/RlO2z/CGPpsipLuP3/ajP2BYNc/GjMRY/hi6L+5qaWJzrf1PwUBngQcofC/rNH8d2jH4r8toAlnYBLJvxkHmB1Df+G/bBb+ehoO8z9iHPf0mCADQHA7vHudTsg/hV/bALJ3/z8TG8D4R+93v62OInIluta/Y0W+thUr3D+aYmjIASj1v65upv1LHta/kgjaGFk+078meRrh1Ejzv4zEXofQRsO/f/hjYvI55L84MbbF63rkvwuMND7NGfW/Gb8mVkwg178eoJcA6Zzgv6+5SGreSc+/QzqZA7OP9L91EepcowzAv4lBRV/omP6/7cjfe8STwL8CYyo8rBLjP6OTMeLBAQHAc2XNV0A0lT/3FFb9dHHKvzeEGSzUU8i/LEqPj+sk479rx5JnRnPsv+Njixv1NKu/DPhE1/QU4L+tYQ8PEOHtv3yUZlcCAOE/KBRvyvil1T+tLtYjRqbwP9+mFNnZsHG/7u+IDVMW1j9+gFDX6iDWPxBzbb3V2YW/B+4MUb0W6L+++sssWObHv6D54elDE8K/paDmjSZu+D+VHUBqywqdv4hZzGr1jdy/s1E6U4QI4L/STowU80TMvz2q/4nLmN8/eDN3nlKz0L9cMA9JLvDoP9lEMg+MR96/ALuyWPif4j8iHt/MoKSmP84Bk/2f4OW/jMlKa4Hd3b/aRKFi2bnJP2GxczEeONE/oPnh6UMTwr+2SLl4yaHkP6m5vhBrQvC/wi6v5dxtpz95TmaoEdHNP8dDgXDg5MS/7brjrEXs/z8TwM2cAhIDQD/Dl2WFmwNA0w+gV8UQyL/qiaJ1J2frv9rUB6DRHe8/n05mnf39yD8gprWlK5z1P+9LCIKFj+o/R9LXvnDSwD86buk6+Fvlv3j3vsUTmsM/9FOPNX2Fyz/USWz1lXrqP60HeD/0DNu/HsOXttDAsL9FpSdOopESQDqred/TFfW/+8+oCfIQ378GaLRnWrriv2c8Ft1hjOa/+3OubrnW9r/QrngJ/U3BP/cqnT91c6m/D1u/Nl60xT/UcCByiyvlP/IxUqqcmO4/SHmOsrLO1j+xOqmTlrj1Px3ZiVG+y+S/z8u79Blt2j+pa4QDjbsAQJy42e2r/9y/taleni4Ayj/2v/xfR+Lov25YDNcaFOM/+K8atAZLzT+zyt/Nhsvhv7jT5aKInPq/TnBbeRgduj+RuDikiwGjv6J8GrFGuPC/n0Zo4Kqf67+z4txa4kvyP/8i1hPCjvq/rhMgvzoG2r9m4IE/fG/dP3TjxlsbWr0/R4bBcUNa4b+meyVwPp7Wv5pfLhbI+d6/xq3NamBQ479ufTyJrJDAP+ucov6Eksk/IBFcUCI91T80WtUwk/QSQDDY0Qcare8/Hh603cef8L/cXcRxzKriv5OY14ETqOW/Q/HI9l3Yvj8nd4zKHyT2P5zRgcEwRei/ap7xQ80P8r+kUb+cTIblv4AqGpWIJ7k/hpQbCIZWzL8SVUmPaMjlv9rmCIbtZeS/hE8kdhOt2r9DqvHlBAQJQEbfFXVfEJe/QMD6KBlN579wpKjQo+Dgv/8+OyvYyc8/jSig264g2r8lTjVQ25vBv+pODEKfuMA/xDmfU7h+pj9TAMHDirrrv6I1lJq/49M/AqufHfZ36T9PVZXws0fbvx1FdF+0fu+/r1+u4sQZ2L+MGWfjVlMPQHSj71xAk9q/nNGBwTBF6L+ilr3tDO3Qvx4VgEQZ9fS/eofh9G2ZxT+UrJhXhdTXv77fn1nVTMm/O37AP4tN0L8XnAmlazPBvyDQdwk6X74/xifhzvxJ7L/kvEf1tHzav4kveOTrBeG/NN8C44VC0T9dYEhhGZ30v6YSHtzLvPW/Qz0xHL5yBEAGB5zpX5yTPwqtepHD0uO/UDnlzqoNsb8eF4i+xMnvv0U5bxw4oPI/t6G84jjV0L8toAlnYBLJvz+8O0pFQfC/09H4B1ju4D8RXETuA7jFP+TIupJLdeK/47moz1bW6b9MOCSPXPHuv+wFDRMyDNm/bVo1Stqp17+0UopbSfe0P4tu0zArxPC/9rUZ6HhI6r9aYqebAprzv7Ocz2vHv6w/lpC22mD5uT+Wy7yjxhTtv+gRy+W8y9m/3/dtz5NG3T9eCaVGus3av1manwSFA9O/ljuiJIjU1r+B585Ap9/YP6JB8Ch//PS/UNg1TLBEqj+uL9ZjSEPkP1zKyHQJu9e/yp6FudvasD/5fIxiJ9bnv46ay1eQBua/zM/1cMf/uD/0MK6DFr70v/hPKVv5b+q/ilmy765mx7/xNj07lMjeP6hf9ypxMby/lroO0e024b9CvA0U76HGv9AKcxTvgus/4Qgmhuur8z93yI6puKoAQE/SsKWjheG/UogrVSI1jD+M86So3hSCP8kWbqX4vuk/+lwMB2NQ1L/cqps+aWTEv3PFJlquE+G/qAcMOug04D/SbD8lDjzgv6ofiA0Cqd+/rLEFi/vxsD9Us+rzEs+yPwOboEHPrvk/DPhE1/QU4L9UDEQxCkPuv/OEIrsnAee/wwuKhqWL+z/hUSKjTczov3x4DV6/EOS/uOlPfqRp6r9hOKlJJMrpv9N02A3V/88/uKhsn3vm4b+tYQ8PEOHtv6/zL3Knheq/m5ZPdQqo9T9WwZf47qfhv0ajgPDEHNQ/y9YRiieC9D8f8q5j9bGnv1bLN+Eb29W/4H7dA54y5r+GqOGR8FTGv3zQqkt6g+m/ADRiAqlH2L97of7wT0rrv8LOlghfWOy/hkN5TvLxz7+6wi42aHvhv+7XFKDZPPG/96PMWJcOuz/Hz3riOVztv+FQYK3lQsY/ecOANlxqrz9HQ3B6fCrlv4ILyvZn/tC/TXWtMkhL7L/gGz9KKCzMv8VCWg3eoO0/q1hym9Zs/T9afeT22fTnv44jMVwVuP0/wFq338Ab9b+fqwDgk4jeP2jDOkovDug/nu+ungBfzr+67MKuBOLsv2UBV5w/4s+/dVqlC48p7b9DOpkDs4/0v31aPfXpyOe/i78IwSPl4r+3QO4k4JbFP/DTYTlpC+4/1i0liNrW4T/SZzIcPqnsPwNXsBjtl/S/K4dpaZoc9z+Cv8tca3jSPwX8BcOjdM0/ze+tdQmr4b+JWw4h8Cvav2/eXFUfj8G/M3EZEdfk9T92d7WRN1z2P1l5rQ4ae9M/Q1MM7E7/pj+2wKb6Wv/Bv5bEtehNDsI/oVqAG3r33z9KcdcrkrDtvw/GVG6F7uW/+CcBHHGf17/jY4sb9TSrv1q0DYhoS7e/L0wNDXAx4b9yWkpVJfzdvzR84BihUNs/mtCc4One0j/LMqzKDVvtv3F0u4MK9Nw/FAWrc0x44L8Vr5aOVEXJP8HhJSL/kO6/yPy2e1kh3T+0XU+sX369P4kt4JfGUO6/h8TWSZ3/tD9Dv9AUHzbXP3uh/vBPSuu/qYgQq879xz9aCMwfqerMv8wwF9WVSsw/Dsg52hhh9j+y6aywa+nRv1S6hFc0yem/pvRiJCFtEkCufzOH6EnVv0bfFXVfEJe/UYRz5ByBw78Yb3EGlOT4PyoMFk4LG+K/opa97Qzt0L9ED4Kb2q/4v36OhqqOz/A/nLjZ7av/3L9NEe2MgNHKvzbrTT7SSfC/AeR2jY3oxz+EZvMgHX+rP+Njixv1NKu/Xwui5UO9+r/Uf3UTEdD9v1t869lD1pq/fphjp2qo1b+eSR0fvkbuv1manwSFA9O/mUhNg3Fm5r9dt6biBs30v1EaMtTv5ue/bcPGsvfK4L/fkXRFKhztv4boZE2JStK/K2a6o+Mt2T+B585Ap9/YPx33Bhumv9C/swMY9ShG8b8iVnoI7UuTv+uU0O8UweS/zLAf9UQ2AUAwZSEENOTiP/ubQBoAnq+/cMASBdiC178jR8uTXy/Pvwz4RNf0FOC/w8yYTkZM478yaz/NYh2Yv5a6DtHtNuG/kfgtTCS61r/ZWF8/4H7nv+pLLMalqfQ/A63Daf1/gj8MyVevH9nRv5pyEY34YMq/5Iwzclab9L+UZoY2eYDJvwhs8iVWYNA/UQZK2QYK0b+JEElZQvzXP/LeDH+SvPO/tm0zIyWD2r/owSJpwBbVv6uUdWkuAvG/hiw3/ARY+j8KE6CLhNPnP0ZH2E7JaAlApvpeNHsq6L/NiRlCpbbXvwbXrornSr0/rnu9qYJUxr8zgz4BitLgvxA9ZKzKTs+/ZlLuZREA57/LFuKh4U36P0mi6tz3c9W/SA0wTqph5z+T5z64/rrvv7E/GcOHAum/IF9E9KuCzz+0Wnxl/HTRP16lf+8ZjuS/juuVENNVwz/WzzAPIOkGQK/kU4aoFbi/8qPZG+Ip/r86c2r8BbHyP9n2YnaWgwFA\",\"dtype\":\"float64\",\"order\":\"little\",\"shape\":[495]}},\"selected\":{\"id\":\"1520\"},\"selection_policy\":{\"id\":\"1519\"}},\"id\":\"1469\",\"type\":\"ColumnDataSource\"},{\"attributes\":{\"fill_alpha\":{\"value\":0.1},\"fill_color\":{\"value\":\"#1f77b4\"},\"line_alpha\":{\"value\":0.1},\"line_color\":{\"value\":\"#1f77b4\"},\"x\":{\"field\":\"x\"},\"y\":{\"field\":\"y\"}},\"id\":\"1471\",\"type\":\"Circle\"},{\"attributes\":{\"fill_color\":{\"value\":\"#1f77b4\"},\"line_color\":{\"value\":\"#1f77b4\"},\"x\":{\"field\":\"x\"},\"y\":{\"field\":\"y\"}},\"id\":\"1470\",\"type\":\"Circle\"},{\"attributes\":{},\"id\":\"1439\",\"type\":\"DataRange1d\"},{\"attributes\":{\"formatter\":{\"id\":\"1517\"},\"ticker\":{\"id\":\"1448\"}},\"id\":\"1447\",\"type\":\"LinearAxis\"},{\"attributes\":{},\"id\":\"1443\",\"type\":\"LinearScale\"},{\"attributes\":{\"data_source\":{\"id\":\"1469\"},\"glyph\":{\"id\":\"1470\"},\"hover_glyph\":null,\"muted_glyph\":null,\"nonselection_glyph\":{\"id\":\"1471\"},\"selection_glyph\":null,\"view\":{\"id\":\"1473\"}},\"id\":\"1472\",\"type\":\"GlyphRenderer\"},{\"attributes\":{\"formatter\":{\"id\":\"1515\"},\"ticker\":{\"id\":\"1452\"}},\"id\":\"1451\",\"type\":\"LinearAxis\"},{\"attributes\":{},\"id\":\"1441\",\"type\":\"DataRange1d\"},{\"attributes\":{},\"id\":\"1445\",\"type\":\"LinearScale\"},{\"attributes\":{\"source\":{\"id\":\"1469\"}},\"id\":\"1473\",\"type\":\"CDSView\"},{\"attributes\":{},\"id\":\"1460\",\"type\":\"HelpTool\"},{\"attributes\":{},\"id\":\"1448\",\"type\":\"BasicTicker\"},{\"attributes\":{\"axis\":{\"id\":\"1447\"},\"ticker\":null},\"id\":\"1450\",\"type\":\"Grid\"},{\"attributes\":{\"text\":\"\"},\"id\":\"1513\",\"type\":\"Title\"},{\"attributes\":{\"axis\":{\"id\":\"1451\"},\"dimension\":1,\"ticker\":null},\"id\":\"1454\",\"type\":\"Grid\"},{\"attributes\":{},\"id\":\"1519\",\"type\":\"UnionRenderers\"},{\"attributes\":{},\"id\":\"1452\",\"type\":\"BasicTicker\"},{\"attributes\":{},\"id\":\"1520\",\"type\":\"Selection\"},{\"attributes\":{\"bottom_units\":\"screen\",\"fill_alpha\":0.5,\"fill_color\":\"lightgrey\",\"left_units\":\"screen\",\"level\":\"overlay\",\"line_alpha\":1.0,\"line_color\":\"black\",\"line_dash\":[4,4],\"line_width\":2,\"right_units\":\"screen\",\"top_units\":\"screen\"},\"id\":\"1461\",\"type\":\"BoxAnnotation\"},{\"attributes\":{},\"id\":\"1458\",\"type\":\"SaveTool\"},{\"attributes\":{\"active_drag\":\"auto\",\"active_inspect\":\"auto\",\"active_multi\":null,\"active_scroll\":\"auto\",\"active_tap\":\"auto\",\"tools\":[{\"id\":\"1455\"},{\"id\":\"1456\"},{\"id\":\"1457\"},{\"id\":\"1458\"},{\"id\":\"1459\"},{\"id\":\"1460\"}]},\"id\":\"1462\",\"type\":\"Toolbar\"},{\"attributes\":{},\"id\":\"1456\",\"type\":\"WheelZoomTool\"},{\"attributes\":{},\"id\":\"1455\",\"type\":\"PanTool\"},{\"attributes\":{\"overlay\":{\"id\":\"1461\"}},\"id\":\"1457\",\"type\":\"BoxZoomTool\"},{\"attributes\":{},\"id\":\"1459\",\"type\":\"ResetTool\"}],\"root_ids\":[\"1438\"]},\"title\":\"Bokeh Application\",\"version\":\"2.2.3\"}};\n",
       "  var render_items = [{\"docid\":\"2b528424-e243-4504-96d0-2abffd4d6dfa\",\"root_ids\":[\"1438\"],\"roots\":{\"1438\":\"23385057-7d51-4e77-bba7-d05e7075e4e2\"}}];\n",
       "  root.Bokeh.embed.embed_items_notebook(docs_json, render_items);\n",
       "\n",
       "  }\n",
       "  if (root.Bokeh !== undefined) {\n",
       "    embed_document(root);\n",
       "  } else {\n",
       "    var attempts = 0;\n",
       "    var timer = setInterval(function(root) {\n",
       "      if (root.Bokeh !== undefined) {\n",
       "        clearInterval(timer);\n",
       "        embed_document(root);\n",
       "      } else {\n",
       "        attempts++;\n",
       "        if (attempts > 100) {\n",
       "          clearInterval(timer);\n",
       "          console.log(\"Bokeh: ERROR: Unable to run BokehJS code because BokehJS library is missing\");\n",
       "        }\n",
       "      }\n",
       "    }, 10, root)\n",
       "  }\n",
       "})(window);"
      ],
      "application/vnd.bokehjs_exec.v0+json": ""
     },
     "metadata": {
      "application/vnd.bokehjs_exec.v0+json": {
       "id": "1438"
      }
     },
     "output_type": "display_data"
    }
   ],
   "source": [
    "fig = figure(height=400, width=400)\n",
    "\n",
    "# the x axis is the fitted values\n",
    "# the y axis is the standardized residuals\n",
    "st_resids = model.get_influence().resid_studentized_internal\n",
    "fig.circle(model.fittedvalues, st_resids)\n",
    "\n",
    "show(fig)"
   ]
  },
  {
   "cell_type": "markdown",
   "metadata": {},
   "source": [
    "We see that the residuals are randomly scattered around zero, and there is no apparent pattern to the residuals, which suggests that a linear model is appropriate for this relationship (if there was a pattern, such as a U-shape, this would indicate a non-linear relationship).\n",
    "\n",
    "We can also build a histogram of the standardized residuals:"
   ]
  },
  {
   "cell_type": "code",
   "execution_count": 51,
   "metadata": {},
   "outputs": [
    {
     "data": {
      "text/html": [
       "\n",
       "\n",
       "\n",
       "\n",
       "\n",
       "\n",
       "  <div class=\"bk-root\" id=\"c169f93e-11d0-4970-9525-c1e4e776ab2e\" data-root-id=\"1566\"></div>\n"
      ]
     },
     "metadata": {},
     "output_type": "display_data"
    },
    {
     "data": {
      "application/javascript": [
       "(function(root) {\n",
       "  function embed_document(root) {\n",
       "    \n",
       "  var docs_json = {\"2b95fe40-0ec3-4d9c-af52-9deda6e15611\":{\"roots\":{\"references\":[{\"attributes\":{\"below\":[{\"id\":\"1575\"}],\"center\":[{\"id\":\"1578\"},{\"id\":\"1582\"}],\"left\":[{\"id\":\"1579\"}],\"plot_height\":400,\"plot_width\":400,\"renderers\":[{\"id\":\"1600\"}],\"title\":{\"id\":\"1650\"},\"toolbar\":{\"id\":\"1590\"},\"x_range\":{\"id\":\"1567\"},\"x_scale\":{\"id\":\"1571\"},\"y_range\":{\"id\":\"1569\"},\"y_scale\":{\"id\":\"1573\"}},\"id\":\"1566\",\"subtype\":\"Figure\",\"type\":\"Plot\"},{\"attributes\":{},\"id\":\"1587\",\"type\":\"ResetTool\"},{\"attributes\":{},\"id\":\"1586\",\"type\":\"SaveTool\"},{\"attributes\":{\"bottom\":{\"value\":0},\"fill_color\":{\"value\":\"#1f77b4\"},\"left\":{\"field\":\"left\"},\"line_color\":{\"value\":\"white\"},\"right\":{\"field\":\"right\"},\"top\":{\"field\":\"top\"}},\"id\":\"1598\",\"type\":\"Quad\"},{\"attributes\":{},\"id\":\"1654\",\"type\":\"BasicTickFormatter\"},{\"attributes\":{\"bottom\":{\"value\":0},\"fill_alpha\":{\"value\":0.1},\"fill_color\":{\"value\":\"#1f77b4\"},\"left\":{\"field\":\"left\"},\"line_alpha\":{\"value\":0.1},\"line_color\":{\"value\":\"white\"},\"right\":{\"field\":\"right\"},\"top\":{\"field\":\"top\"}},\"id\":\"1599\",\"type\":\"Quad\"},{\"attributes\":{\"source\":{\"id\":\"1597\"}},\"id\":\"1601\",\"type\":\"CDSView\"},{\"attributes\":{\"data_source\":{\"id\":\"1597\"},\"glyph\":{\"id\":\"1598\"},\"hover_glyph\":null,\"muted_glyph\":null,\"nonselection_glyph\":{\"id\":\"1599\"},\"selection_glyph\":null,\"view\":{\"id\":\"1601\"}},\"id\":\"1600\",\"type\":\"GlyphRenderer\"},{\"attributes\":{},\"id\":\"1657\",\"type\":\"Selection\"},{\"attributes\":{},\"id\":\"1588\",\"type\":\"HelpTool\"},{\"attributes\":{\"text\":\"\"},\"id\":\"1650\",\"type\":\"Title\"},{\"attributes\":{},\"id\":\"1656\",\"type\":\"UnionRenderers\"},{\"attributes\":{\"data\":{\"left\":{\"__ndarray__\":\"+72vUSn1AcA8HJFOkKH4vwJ5hfObseq/MOaiJ12AwL/oBbRfbXHiP65iqAR5gfQ/asJ2WTvK/z8RkSLXfokFQO/AiQHgLQtAZnj4lSBpEEA=\",\"dtype\":\"float64\",\"order\":\"little\",\"shape\":[10]},\"right\":{\"__ndarray__\":\"PByRTpCh+L8CeYXzm7HqvzDmoiddgMC/6AW0X21x4j+uYqgEeYH0P2rCdlk7yv8/EZEi136JBUDvwIkB4C0LQGZ4+JUgaRBAVRAsK1E7E0A=\",\"dtype\":\"float64\",\"order\":\"little\",\"shape\":[10]},\"top\":[9,65,195,133,43,28,11,5,1,5]},\"selected\":{\"id\":\"1657\"},\"selection_policy\":{\"id\":\"1656\"}},\"id\":\"1597\",\"type\":\"ColumnDataSource\"},{\"attributes\":{},\"id\":\"1567\",\"type\":\"DataRange1d\"},{\"attributes\":{\"active_drag\":\"auto\",\"active_inspect\":\"auto\",\"active_multi\":null,\"active_scroll\":\"auto\",\"active_tap\":\"auto\",\"tools\":[{\"id\":\"1583\"},{\"id\":\"1584\"},{\"id\":\"1585\"},{\"id\":\"1586\"},{\"id\":\"1587\"},{\"id\":\"1588\"}]},\"id\":\"1590\",\"type\":\"Toolbar\"},{\"attributes\":{\"bottom_units\":\"screen\",\"fill_alpha\":0.5,\"fill_color\":\"lightgrey\",\"left_units\":\"screen\",\"level\":\"overlay\",\"line_alpha\":1.0,\"line_color\":\"black\",\"line_dash\":[4,4],\"line_width\":2,\"right_units\":\"screen\",\"top_units\":\"screen\"},\"id\":\"1589\",\"type\":\"BoxAnnotation\"},{\"attributes\":{\"formatter\":{\"id\":\"1654\"},\"ticker\":{\"id\":\"1576\"}},\"id\":\"1575\",\"type\":\"LinearAxis\"},{\"attributes\":{},\"id\":\"1571\",\"type\":\"LinearScale\"},{\"attributes\":{},\"id\":\"1569\",\"type\":\"DataRange1d\"},{\"attributes\":{\"formatter\":{\"id\":\"1652\"},\"ticker\":{\"id\":\"1580\"}},\"id\":\"1579\",\"type\":\"LinearAxis\"},{\"attributes\":{},\"id\":\"1573\",\"type\":\"LinearScale\"},{\"attributes\":{},\"id\":\"1576\",\"type\":\"BasicTicker\"},{\"attributes\":{\"axis\":{\"id\":\"1575\"},\"ticker\":null},\"id\":\"1578\",\"type\":\"Grid\"},{\"attributes\":{\"axis\":{\"id\":\"1579\"},\"dimension\":1,\"ticker\":null},\"id\":\"1582\",\"type\":\"Grid\"},{\"attributes\":{},\"id\":\"1580\",\"type\":\"BasicTicker\"},{\"attributes\":{},\"id\":\"1652\",\"type\":\"BasicTickFormatter\"},{\"attributes\":{},\"id\":\"1584\",\"type\":\"WheelZoomTool\"},{\"attributes\":{},\"id\":\"1583\",\"type\":\"PanTool\"},{\"attributes\":{\"overlay\":{\"id\":\"1589\"}},\"id\":\"1585\",\"type\":\"BoxZoomTool\"}],\"root_ids\":[\"1566\"]},\"title\":\"Bokeh Application\",\"version\":\"2.2.3\"}};\n",
       "  var render_items = [{\"docid\":\"2b95fe40-0ec3-4d9c-af52-9deda6e15611\",\"root_ids\":[\"1566\"],\"roots\":{\"1566\":\"c169f93e-11d0-4970-9525-c1e4e776ab2e\"}}];\n",
       "  root.Bokeh.embed.embed_items_notebook(docs_json, render_items);\n",
       "\n",
       "  }\n",
       "  if (root.Bokeh !== undefined) {\n",
       "    embed_document(root);\n",
       "  } else {\n",
       "    var attempts = 0;\n",
       "    var timer = setInterval(function(root) {\n",
       "      if (root.Bokeh !== undefined) {\n",
       "        clearInterval(timer);\n",
       "        embed_document(root);\n",
       "      } else {\n",
       "        attempts++;\n",
       "        if (attempts > 100) {\n",
       "          clearInterval(timer);\n",
       "          console.log(\"Bokeh: ERROR: Unable to run BokehJS code because BokehJS library is missing\");\n",
       "        }\n",
       "      }\n",
       "    }, 10, root)\n",
       "  }\n",
       "})(window);"
      ],
      "application/vnd.bokehjs_exec.v0+json": ""
     },
     "metadata": {
      "application/vnd.bokehjs_exec.v0+json": {
       "id": "1566"
      }
     },
     "output_type": "display_data"
    }
   ],
   "source": [
    "# create a histogram with 10 bins\n",
    "hist, edges = np.histogram(st_resids, bins=10)\n",
    "fig = figure(height=400, width=400)\n",
    "fig.quad(top=hist, bottom=0, left=edges[:-1], right=edges[1:], line_color=\"white\")\n",
    "show(fig)"
   ]
  },
  {
   "cell_type": "markdown",
   "metadata": {},
   "source": [
    "The scatterplot and the histogram suggest the residuals are not equally distributed around 0 and are not  normally distributed. The results of the Jarque-Bera test on the residuals (the third table of the summary) also indicate that the errors are not distributed normally:the p-value equals 1.34e-160, therefore we reject the null hypothesis of normal distribution.\n",
    "\n",
    "Thus, the addition of the extra variables not only improved the quality of the model, but also ensured that the assumptions of the classical linear regression method hold with the model.\n",
    "\n",
    "To conclude, **our model is not a good fit to predict the hourly wage of employees. We need to identify more characteristics that would be significant to predict the hourly wage of the employees**."
   ]
  }
 ],
 "metadata": {
  "kernelspec": {
   "display_name": "Python 3",
   "language": "python",
   "name": "python3"
  },
  "language_info": {
   "codemirror_mode": {
    "name": "ipython",
    "version": 3
   },
   "file_extension": ".py",
   "mimetype": "text/x-python",
   "name": "python",
   "nbconvert_exporter": "python",
   "pygments_lexer": "ipython3",
   "version": "3.8.5"
  }
 },
 "nbformat": 4,
 "nbformat_minor": 4
}
